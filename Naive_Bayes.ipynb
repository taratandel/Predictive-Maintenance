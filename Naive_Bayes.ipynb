{
 "cells": [
  {
   "cell_type": "code",
   "execution_count": null,
   "metadata": {
    "id": "aP9JRiLj4Zzx"
   },
   "outputs": [],
   "source": []
  },
  {
   "cell_type": "markdown",
   "metadata": {
    "id": "xznM5_Fp4bQm"
   },
   "source": [
    "# Libraries\n",
    "As the very first step, we load all the relevant libraries."
   ]
  },
  {
   "cell_type": "code",
   "execution_count": 68,
   "metadata": {
    "_cell_guid": "0d706811-b70c-aeab-a78b-3c7abd9978d3",
    "id": "mG5CP9Lx6nJq"
   },
   "outputs": [],
   "source": [
    "import pandas as pd\n",
    "import numpy as np\n",
    "import datetime\n",
    "\n",
    "# Statistical libraries\n",
    "from scipy import stats\n",
    "from scipy.stats import skew\n",
    "from scipy.stats import norm\n",
    "\n",
    "# Plotting libraries\n",
    "import seaborn as sns\n",
    "import matplotlib.pyplot as plt\n",
    "\n",
    "\n",
    "# Preprocessing\n",
    "from sklearn.preprocessing import StandardScaler\n",
    "\n",
    "# Evaluation Procedures\n",
    "from sklearn.model_selection import train_test_split\n",
    "from sklearn.model_selection import cross_val_score\n",
    "from sklearn.model_selection import StratifiedKFold\n",
    "from sklearn.model_selection import KFold\n",
    "\n",
    "# Classification methods\n",
    "from sklearn.naive_bayes import GaussianNB\n",
    "\n",
    "# Evaluation Metrics\n",
    "from sklearn.metrics import precision_score\n",
    "from sklearn.metrics import recall_score\n",
    "from sklearn.metrics import confusion_matrix\n",
    "from sklearn.metrics import precision_recall_curve\n",
    "from sklearn.metrics import average_precision_score\n",
    "from sklearn.metrics import precision_score\n",
    "from sklearn.metrics import recall_score\n",
    "from sklearn.metrics import accuracy_score\n",
    "from sklearn.metrics import roc_curve\n",
    "from sklearn.metrics import roc_auc_score\n",
    "from sklearn.metrics import f1_score\n",
    "\n",
    "%config InlineBackend.figure_format = 'retina' #set 'png' here when working on notebook\n",
    "%matplotlib inline"
   ]
  },
  {
   "cell_type": "markdown",
   "metadata": {
    "id": "gMBNmHrKVVJv"
   },
   "source": [
    "## Variable\n",
    "Set values of some variables"
   ]
  },
  {
   "cell_type": "code",
   "execution_count": 56,
   "metadata": {
    "id": "2llkUq1oVdns"
   },
   "outputs": [],
   "source": [
    "SEED = 1234"
   ]
  },
  {
   "cell_type": "markdown",
   "metadata": {
    "id": "4uIIo-WZTd8e"
   },
   "source": [
    "## Read Data"
   ]
  },
  {
   "cell_type": "code",
   "execution_count": 73,
   "metadata": {
    "id": "hTU23DQbOfGa"
   },
   "outputs": [],
   "source": [
    "all_data = pd.read_csv(\"train.csv\")"
   ]
  },
  {
   "cell_type": "code",
   "execution_count": 74,
   "metadata": {
    "colab": {
     "base_uri": "https://localhost:8080/"
    },
    "id": "iFPTvLt9Vs8Q",
    "outputId": "35cbdcb8-45e2-423c-af4d-65ee1043c06a"
   },
   "outputs": [
    {
     "data": {
      "text/plain": [
       "(621300, 136)"
      ]
     },
     "execution_count": 74,
     "metadata": {
      "tags": []
     },
     "output_type": "execute_result"
    }
   ],
   "source": [
    "all_data.shape"
   ]
  },
  {
   "cell_type": "markdown",
   "metadata": {
    "id": "jeU3Ue2YWSug"
   },
   "source": [
    "Split the DATE coulmn to 3 seperated columns named month, year and weekday"
   ]
  },
  {
   "cell_type": "code",
   "execution_count": 75,
   "metadata": {
    "id": "Kq8Pko_JUtWr"
   },
   "outputs": [],
   "source": [
    "all_data['month'] = all_data['DATE'].apply(lambda x: datetime.datetime.strptime(x,\"%Y-%m-%d\").month)  \n",
    "all_data['year'] = all_data['DATE'].apply(lambda x: datetime.datetime.strptime(x,\"%Y-%m-%d\").year)                                                                         \n",
    "all_data['weekday'] = all_data['DATE'].apply(lambda x: datetime.datetime.strptime(x,\"%Y-%m-%d\").weekday())"
   ]
  },
  {
   "cell_type": "code",
   "execution_count": 80,
   "metadata": {
    "id": "JJ76q7OLV5jR"
   },
   "outputs": [],
   "source": [
    "all_data = all_data.drop(columns='DATE')"
   ]
  },
  {
   "cell_type": "code",
   "execution_count": 81,
   "metadata": {
    "colab": {
     "base_uri": "https://localhost:8080/"
    },
    "id": "-ZMVrrZHVos7",
    "outputId": "399c7db8-13e4-495a-9ab1-216aeea98ee5"
   },
   "outputs": [
    {
     "data": {
      "text/plain": [
       "(621300, 138)"
      ]
     },
     "execution_count": 81,
     "metadata": {
      "tags": []
     },
     "output_type": "execute_result"
    }
   ],
   "source": [
    "all_data.shape"
   ]
  },
  {
   "cell_type": "code",
   "execution_count": 58,
   "metadata": {
    "colab": {
     "base_uri": "https://localhost:8080/"
    },
    "id": "-860GM8OAUGD",
    "outputId": "fa736918-1629-47b0-c219-b9d373751313"
   },
   "outputs": [
    {
     "name": "stdout",
     "output_type": "stream",
     "text": [
      "621300\n"
     ]
    }
   ],
   "source": [
    "print(len(all_data))"
   ]
  },
  {
   "cell_type": "code",
   "execution_count": 82,
   "metadata": {
    "colab": {
     "base_uri": "https://localhost:8080/",
     "height": 270
    },
    "id": "k9ZzV6uS6nJt",
    "outputId": "999fe6ea-d8f5-42ed-dd83-4898626ed4ef"
   },
   "outputs": [
    {
     "data": {
      "text/html": [
       "<div>\n",
       "<style scoped>\n",
       "    .dataframe tbody tr th:only-of-type {\n",
       "        vertical-align: middle;\n",
       "    }\n",
       "\n",
       "    .dataframe tbody tr th {\n",
       "        vertical-align: top;\n",
       "    }\n",
       "\n",
       "    .dataframe thead th {\n",
       "        text-align: right;\n",
       "    }\n",
       "</style>\n",
       "<table border=\"1\" class=\"dataframe\">\n",
       "  <thead>\n",
       "    <tr style=\"text-align: right;\">\n",
       "      <th></th>\n",
       "      <th>SITE_ID</th>\n",
       "      <th>CELL_TYPE_Macro</th>\n",
       "      <th>CELL_TYPE_Mobil</th>\n",
       "      <th>CELL_TYPE_TRP</th>\n",
       "      <th>CELL_TYPE_Tx site</th>\n",
       "      <th>CELL_TYPE_micro</th>\n",
       "      <th>N_TRANSPORTED_SITES</th>\n",
       "      <th>GEOGRAPHIC_CLUSTER_K_0</th>\n",
       "      <th>GEOGRAPHIC_CLUSTER_K_1</th>\n",
       "      <th>GEOGRAPHIC_CLUSTER_K_2</th>\n",
       "      <th>GEOGRAPHIC_CLUSTER_K_3</th>\n",
       "      <th>GEOGRAPHIC_CLUSTER_K_4</th>\n",
       "      <th>GEOGRAPHIC_CLUSTER_K_5</th>\n",
       "      <th>GEOGRAPHIC_CLUSTER_K_6</th>\n",
       "      <th>GEOGRAPHIC_CLUSTER_K_7</th>\n",
       "      <th>GEOGRAPHIC_CLUSTER_K_8</th>\n",
       "      <th>GEOGRAPHIC_CLUSTER_K_9</th>\n",
       "      <th>aircon_sum_wo_prev7d</th>\n",
       "      <th>aircon_sum_wo_prev14d</th>\n",
       "      <th>aircon_sum_target_next14d</th>\n",
       "      <th>mean_temperature_prev7d</th>\n",
       "      <th>max_temperature_prev7d</th>\n",
       "      <th>min_temperature_prev7d</th>\n",
       "      <th>mean_temperature_prev3d</th>\n",
       "      <th>max_temperature_prev3d</th>\n",
       "      <th>min_temperature_prev3d</th>\n",
       "      <th>mean_rain_mm_prev7d</th>\n",
       "      <th>max_rain_mm_prev7d</th>\n",
       "      <th>min_rain_mm_prev7d</th>\n",
       "      <th>mean_rain_mm_prev3d</th>\n",
       "      <th>max_rain_mm_prev3d</th>\n",
       "      <th>min_rain_mm_prev3d</th>\n",
       "      <th>mean_humidity_prev7d</th>\n",
       "      <th>max_humidity_prev7d</th>\n",
       "      <th>min_humidity_prev7d</th>\n",
       "      <th>mean_humidity_prev3d</th>\n",
       "      <th>max_humidity_prev3d</th>\n",
       "      <th>min_humidity_prev3d</th>\n",
       "      <th>mean_wind_speed_prev7d</th>\n",
       "      <th>max_wind_speed_prev7d</th>\n",
       "      <th>...</th>\n",
       "      <th>fire/smoke_max_persistance_prev7d</th>\n",
       "      <th>fire/smoke_mean_persistance_prev7d</th>\n",
       "      <th>fire/smoke_min_persistance_prev7d</th>\n",
       "      <th>ge_max_persistance_prev7d</th>\n",
       "      <th>ge_mean_persistance_prev7d</th>\n",
       "      <th>ge_min_persistance_prev7d</th>\n",
       "      <th>power_max_persistance_prev7d</th>\n",
       "      <th>power_mean_persistance_prev7d</th>\n",
       "      <th>power_min_persistance_prev7d</th>\n",
       "      <th>temperature_max_persistance_prev7d</th>\n",
       "      <th>temperature_mean_persistance_prev7d</th>\n",
       "      <th>temperature_min_persistance_prev7d</th>\n",
       "      <th>equipment_max_persistance_prev3d</th>\n",
       "      <th>equipment_mean_persistance_prev3d</th>\n",
       "      <th>equipment_min_persistance_prev3d</th>\n",
       "      <th>fire/smoke_max_persistance_prev3d</th>\n",
       "      <th>fire/smoke_mean_persistance_prev3d</th>\n",
       "      <th>fire/smoke_min_persistance_prev3d</th>\n",
       "      <th>ge_max_persistance_prev3d</th>\n",
       "      <th>ge_mean_persistance_prev3d</th>\n",
       "      <th>ge_min_persistance_prev3d</th>\n",
       "      <th>power_max_persistance_prev3d</th>\n",
       "      <th>power_mean_persistance_prev3d</th>\n",
       "      <th>power_min_persistance_prev3d</th>\n",
       "      <th>temperature_max_persistance_prev3d</th>\n",
       "      <th>temperature_mean_persistance_prev3d</th>\n",
       "      <th>temperature_min_persistance_prev3d</th>\n",
       "      <th>skew_equipment_alarms_prev14d</th>\n",
       "      <th>skew_fire/smoke_alarms_prev14d</th>\n",
       "      <th>skew_ge_alarms_prev14d</th>\n",
       "      <th>skew_power_alarms_prev14d</th>\n",
       "      <th>skew_temperature_alarms_prev14d</th>\n",
       "      <th>kurt_equipment_alarms_prev14d</th>\n",
       "      <th>kurt_fire/smoke_alarms_prev14d</th>\n",
       "      <th>kurt_ge_alarms_prev14d</th>\n",
       "      <th>kurt_power_alarms_prev14d</th>\n",
       "      <th>kurt_temperature_alarms_prev14d</th>\n",
       "      <th>month</th>\n",
       "      <th>year</th>\n",
       "      <th>weekday</th>\n",
       "    </tr>\n",
       "  </thead>\n",
       "  <tbody>\n",
       "    <tr>\n",
       "      <th>0</th>\n",
       "      <td>146</td>\n",
       "      <td>1</td>\n",
       "      <td>0</td>\n",
       "      <td>0</td>\n",
       "      <td>0</td>\n",
       "      <td>0</td>\n",
       "      <td>3.0</td>\n",
       "      <td>0</td>\n",
       "      <td>0</td>\n",
       "      <td>0</td>\n",
       "      <td>0</td>\n",
       "      <td>0</td>\n",
       "      <td>0</td>\n",
       "      <td>0</td>\n",
       "      <td>0</td>\n",
       "      <td>1</td>\n",
       "      <td>0</td>\n",
       "      <td>0.0</td>\n",
       "      <td>0.0</td>\n",
       "      <td>0</td>\n",
       "      <td>10.29</td>\n",
       "      <td>14.0</td>\n",
       "      <td>6.0</td>\n",
       "      <td>12.00</td>\n",
       "      <td>14.0</td>\n",
       "      <td>9.0</td>\n",
       "      <td>1.33</td>\n",
       "      <td>8.5</td>\n",
       "      <td>0.0</td>\n",
       "      <td>3.10</td>\n",
       "      <td>8.5</td>\n",
       "      <td>0.3</td>\n",
       "      <td>62.71</td>\n",
       "      <td>81.0</td>\n",
       "      <td>45.0</td>\n",
       "      <td>70.67</td>\n",
       "      <td>81.0</td>\n",
       "      <td>58.0</td>\n",
       "      <td>11.43</td>\n",
       "      <td>16.0</td>\n",
       "      <td>...</td>\n",
       "      <td>0.0</td>\n",
       "      <td>0.0</td>\n",
       "      <td>0.0</td>\n",
       "      <td>0.0</td>\n",
       "      <td>0.0</td>\n",
       "      <td>0.0</td>\n",
       "      <td>0.0</td>\n",
       "      <td>0.0</td>\n",
       "      <td>0.0</td>\n",
       "      <td>0.0</td>\n",
       "      <td>0.0</td>\n",
       "      <td>0.0</td>\n",
       "      <td>0.0</td>\n",
       "      <td>0.0</td>\n",
       "      <td>0.0</td>\n",
       "      <td>0.0</td>\n",
       "      <td>0.0</td>\n",
       "      <td>0.0</td>\n",
       "      <td>0.0</td>\n",
       "      <td>0.0</td>\n",
       "      <td>0.0</td>\n",
       "      <td>0.0</td>\n",
       "      <td>0.0</td>\n",
       "      <td>0.0</td>\n",
       "      <td>0.0</td>\n",
       "      <td>0.0</td>\n",
       "      <td>0.0</td>\n",
       "      <td>0.0</td>\n",
       "      <td>0.0</td>\n",
       "      <td>0.0</td>\n",
       "      <td>0.0</td>\n",
       "      <td>0.0</td>\n",
       "      <td>-1.212308</td>\n",
       "      <td>-1.212308</td>\n",
       "      <td>-1.212308</td>\n",
       "      <td>-1.212308</td>\n",
       "      <td>-1.212308</td>\n",
       "      <td>4</td>\n",
       "      <td>2019</td>\n",
       "      <td>2</td>\n",
       "    </tr>\n",
       "    <tr>\n",
       "      <th>1</th>\n",
       "      <td>146</td>\n",
       "      <td>1</td>\n",
       "      <td>0</td>\n",
       "      <td>0</td>\n",
       "      <td>0</td>\n",
       "      <td>0</td>\n",
       "      <td>3.0</td>\n",
       "      <td>0</td>\n",
       "      <td>0</td>\n",
       "      <td>0</td>\n",
       "      <td>0</td>\n",
       "      <td>0</td>\n",
       "      <td>0</td>\n",
       "      <td>0</td>\n",
       "      <td>0</td>\n",
       "      <td>1</td>\n",
       "      <td>0</td>\n",
       "      <td>0.0</td>\n",
       "      <td>0.0</td>\n",
       "      <td>0</td>\n",
       "      <td>11.71</td>\n",
       "      <td>16.0</td>\n",
       "      <td>9.0</td>\n",
       "      <td>13.00</td>\n",
       "      <td>16.0</td>\n",
       "      <td>9.0</td>\n",
       "      <td>1.90</td>\n",
       "      <td>8.5</td>\n",
       "      <td>0.0</td>\n",
       "      <td>4.27</td>\n",
       "      <td>8.5</td>\n",
       "      <td>0.3</td>\n",
       "      <td>66.43</td>\n",
       "      <td>81.0</td>\n",
       "      <td>51.0</td>\n",
       "      <td>75.00</td>\n",
       "      <td>81.0</td>\n",
       "      <td>71.0</td>\n",
       "      <td>11.57</td>\n",
       "      <td>16.0</td>\n",
       "      <td>...</td>\n",
       "      <td>0.0</td>\n",
       "      <td>0.0</td>\n",
       "      <td>0.0</td>\n",
       "      <td>0.0</td>\n",
       "      <td>0.0</td>\n",
       "      <td>0.0</td>\n",
       "      <td>0.0</td>\n",
       "      <td>0.0</td>\n",
       "      <td>0.0</td>\n",
       "      <td>0.0</td>\n",
       "      <td>0.0</td>\n",
       "      <td>0.0</td>\n",
       "      <td>0.0</td>\n",
       "      <td>0.0</td>\n",
       "      <td>0.0</td>\n",
       "      <td>0.0</td>\n",
       "      <td>0.0</td>\n",
       "      <td>0.0</td>\n",
       "      <td>0.0</td>\n",
       "      <td>0.0</td>\n",
       "      <td>0.0</td>\n",
       "      <td>0.0</td>\n",
       "      <td>0.0</td>\n",
       "      <td>0.0</td>\n",
       "      <td>0.0</td>\n",
       "      <td>0.0</td>\n",
       "      <td>0.0</td>\n",
       "      <td>0.0</td>\n",
       "      <td>0.0</td>\n",
       "      <td>0.0</td>\n",
       "      <td>0.0</td>\n",
       "      <td>0.0</td>\n",
       "      <td>-1.212308</td>\n",
       "      <td>-1.212308</td>\n",
       "      <td>-1.212308</td>\n",
       "      <td>-1.212308</td>\n",
       "      <td>-1.212308</td>\n",
       "      <td>4</td>\n",
       "      <td>2019</td>\n",
       "      <td>3</td>\n",
       "    </tr>\n",
       "    <tr>\n",
       "      <th>2</th>\n",
       "      <td>146</td>\n",
       "      <td>1</td>\n",
       "      <td>0</td>\n",
       "      <td>0</td>\n",
       "      <td>0</td>\n",
       "      <td>0</td>\n",
       "      <td>3.0</td>\n",
       "      <td>0</td>\n",
       "      <td>0</td>\n",
       "      <td>0</td>\n",
       "      <td>0</td>\n",
       "      <td>0</td>\n",
       "      <td>0</td>\n",
       "      <td>0</td>\n",
       "      <td>0</td>\n",
       "      <td>1</td>\n",
       "      <td>0</td>\n",
       "      <td>0.0</td>\n",
       "      <td>0.0</td>\n",
       "      <td>0</td>\n",
       "      <td>11.57</td>\n",
       "      <td>16.0</td>\n",
       "      <td>9.0</td>\n",
       "      <td>13.00</td>\n",
       "      <td>16.0</td>\n",
       "      <td>9.0</td>\n",
       "      <td>4.70</td>\n",
       "      <td>19.6</td>\n",
       "      <td>0.0</td>\n",
       "      <td>7.97</td>\n",
       "      <td>19.6</td>\n",
       "      <td>0.3</td>\n",
       "      <td>71.71</td>\n",
       "      <td>88.0</td>\n",
       "      <td>58.0</td>\n",
       "      <td>77.33</td>\n",
       "      <td>88.0</td>\n",
       "      <td>71.0</td>\n",
       "      <td>11.71</td>\n",
       "      <td>16.0</td>\n",
       "      <td>...</td>\n",
       "      <td>0.0</td>\n",
       "      <td>0.0</td>\n",
       "      <td>0.0</td>\n",
       "      <td>0.0</td>\n",
       "      <td>0.0</td>\n",
       "      <td>0.0</td>\n",
       "      <td>0.0</td>\n",
       "      <td>0.0</td>\n",
       "      <td>0.0</td>\n",
       "      <td>0.0</td>\n",
       "      <td>0.0</td>\n",
       "      <td>0.0</td>\n",
       "      <td>0.0</td>\n",
       "      <td>0.0</td>\n",
       "      <td>0.0</td>\n",
       "      <td>0.0</td>\n",
       "      <td>0.0</td>\n",
       "      <td>0.0</td>\n",
       "      <td>0.0</td>\n",
       "      <td>0.0</td>\n",
       "      <td>0.0</td>\n",
       "      <td>0.0</td>\n",
       "      <td>0.0</td>\n",
       "      <td>0.0</td>\n",
       "      <td>0.0</td>\n",
       "      <td>0.0</td>\n",
       "      <td>0.0</td>\n",
       "      <td>0.0</td>\n",
       "      <td>0.0</td>\n",
       "      <td>0.0</td>\n",
       "      <td>0.0</td>\n",
       "      <td>0.0</td>\n",
       "      <td>-1.212308</td>\n",
       "      <td>-1.212308</td>\n",
       "      <td>-1.212308</td>\n",
       "      <td>-1.212308</td>\n",
       "      <td>-1.212308</td>\n",
       "      <td>4</td>\n",
       "      <td>2019</td>\n",
       "      <td>4</td>\n",
       "    </tr>\n",
       "    <tr>\n",
       "      <th>3</th>\n",
       "      <td>146</td>\n",
       "      <td>1</td>\n",
       "      <td>0</td>\n",
       "      <td>0</td>\n",
       "      <td>0</td>\n",
       "      <td>0</td>\n",
       "      <td>3.0</td>\n",
       "      <td>0</td>\n",
       "      <td>0</td>\n",
       "      <td>0</td>\n",
       "      <td>0</td>\n",
       "      <td>0</td>\n",
       "      <td>0</td>\n",
       "      <td>0</td>\n",
       "      <td>0</td>\n",
       "      <td>1</td>\n",
       "      <td>0</td>\n",
       "      <td>0.0</td>\n",
       "      <td>0.0</td>\n",
       "      <td>0</td>\n",
       "      <td>11.29</td>\n",
       "      <td>16.0</td>\n",
       "      <td>8.0</td>\n",
       "      <td>11.00</td>\n",
       "      <td>16.0</td>\n",
       "      <td>8.0</td>\n",
       "      <td>4.77</td>\n",
       "      <td>19.6</td>\n",
       "      <td>0.0</td>\n",
       "      <td>8.03</td>\n",
       "      <td>19.6</td>\n",
       "      <td>0.5</td>\n",
       "      <td>74.29</td>\n",
       "      <td>88.0</td>\n",
       "      <td>58.0</td>\n",
       "      <td>80.33</td>\n",
       "      <td>88.0</td>\n",
       "      <td>71.0</td>\n",
       "      <td>11.43</td>\n",
       "      <td>16.0</td>\n",
       "      <td>...</td>\n",
       "      <td>0.0</td>\n",
       "      <td>0.0</td>\n",
       "      <td>0.0</td>\n",
       "      <td>0.0</td>\n",
       "      <td>0.0</td>\n",
       "      <td>0.0</td>\n",
       "      <td>0.0</td>\n",
       "      <td>0.0</td>\n",
       "      <td>0.0</td>\n",
       "      <td>0.0</td>\n",
       "      <td>0.0</td>\n",
       "      <td>0.0</td>\n",
       "      <td>0.0</td>\n",
       "      <td>0.0</td>\n",
       "      <td>0.0</td>\n",
       "      <td>0.0</td>\n",
       "      <td>0.0</td>\n",
       "      <td>0.0</td>\n",
       "      <td>0.0</td>\n",
       "      <td>0.0</td>\n",
       "      <td>0.0</td>\n",
       "      <td>0.0</td>\n",
       "      <td>0.0</td>\n",
       "      <td>0.0</td>\n",
       "      <td>0.0</td>\n",
       "      <td>0.0</td>\n",
       "      <td>0.0</td>\n",
       "      <td>0.0</td>\n",
       "      <td>0.0</td>\n",
       "      <td>0.0</td>\n",
       "      <td>0.0</td>\n",
       "      <td>0.0</td>\n",
       "      <td>-1.212308</td>\n",
       "      <td>-1.212308</td>\n",
       "      <td>-1.212308</td>\n",
       "      <td>-1.212308</td>\n",
       "      <td>-1.212308</td>\n",
       "      <td>4</td>\n",
       "      <td>2019</td>\n",
       "      <td>5</td>\n",
       "    </tr>\n",
       "    <tr>\n",
       "      <th>4</th>\n",
       "      <td>146</td>\n",
       "      <td>1</td>\n",
       "      <td>0</td>\n",
       "      <td>0</td>\n",
       "      <td>0</td>\n",
       "      <td>0</td>\n",
       "      <td>3.0</td>\n",
       "      <td>0</td>\n",
       "      <td>0</td>\n",
       "      <td>0</td>\n",
       "      <td>0</td>\n",
       "      <td>0</td>\n",
       "      <td>0</td>\n",
       "      <td>0</td>\n",
       "      <td>0</td>\n",
       "      <td>1</td>\n",
       "      <td>0</td>\n",
       "      <td>0.0</td>\n",
       "      <td>0.0</td>\n",
       "      <td>0</td>\n",
       "      <td>10.57</td>\n",
       "      <td>16.0</td>\n",
       "      <td>5.0</td>\n",
       "      <td>7.33</td>\n",
       "      <td>9.0</td>\n",
       "      <td>5.0</td>\n",
       "      <td>5.39</td>\n",
       "      <td>19.6</td>\n",
       "      <td>0.3</td>\n",
       "      <td>8.13</td>\n",
       "      <td>19.6</td>\n",
       "      <td>0.5</td>\n",
       "      <td>77.29</td>\n",
       "      <td>88.0</td>\n",
       "      <td>58.0</td>\n",
       "      <td>86.00</td>\n",
       "      <td>88.0</td>\n",
       "      <td>82.0</td>\n",
       "      <td>10.86</td>\n",
       "      <td>15.0</td>\n",
       "      <td>...</td>\n",
       "      <td>0.0</td>\n",
       "      <td>0.0</td>\n",
       "      <td>0.0</td>\n",
       "      <td>0.0</td>\n",
       "      <td>0.0</td>\n",
       "      <td>0.0</td>\n",
       "      <td>0.0</td>\n",
       "      <td>0.0</td>\n",
       "      <td>0.0</td>\n",
       "      <td>0.0</td>\n",
       "      <td>0.0</td>\n",
       "      <td>0.0</td>\n",
       "      <td>0.0</td>\n",
       "      <td>0.0</td>\n",
       "      <td>0.0</td>\n",
       "      <td>0.0</td>\n",
       "      <td>0.0</td>\n",
       "      <td>0.0</td>\n",
       "      <td>0.0</td>\n",
       "      <td>0.0</td>\n",
       "      <td>0.0</td>\n",
       "      <td>0.0</td>\n",
       "      <td>0.0</td>\n",
       "      <td>0.0</td>\n",
       "      <td>0.0</td>\n",
       "      <td>0.0</td>\n",
       "      <td>0.0</td>\n",
       "      <td>0.0</td>\n",
       "      <td>0.0</td>\n",
       "      <td>0.0</td>\n",
       "      <td>0.0</td>\n",
       "      <td>0.0</td>\n",
       "      <td>-1.212308</td>\n",
       "      <td>-1.212308</td>\n",
       "      <td>-1.212308</td>\n",
       "      <td>-1.212308</td>\n",
       "      <td>-1.212308</td>\n",
       "      <td>4</td>\n",
       "      <td>2019</td>\n",
       "      <td>6</td>\n",
       "    </tr>\n",
       "  </tbody>\n",
       "</table>\n",
       "<p>5 rows × 138 columns</p>\n",
       "</div>"
      ],
      "text/plain": [
       "   SITE_ID  CELL_TYPE_Macro  CELL_TYPE_Mobil  ...  month  year  weekday\n",
       "0      146                1                0  ...      4  2019        2\n",
       "1      146                1                0  ...      4  2019        3\n",
       "2      146                1                0  ...      4  2019        4\n",
       "3      146                1                0  ...      4  2019        5\n",
       "4      146                1                0  ...      4  2019        6\n",
       "\n",
       "[5 rows x 138 columns]"
      ]
     },
     "execution_count": 82,
     "metadata": {
      "tags": []
     },
     "output_type": "execute_result"
    }
   ],
   "source": [
    "all_data.head()"
   ]
  },
  {
   "cell_type": "markdown",
   "metadata": {
    "id": "g_ir7-CzSFlv"
   },
   "source": [
    "# Data Exploration"
   ]
  },
  {
   "cell_type": "markdown",
   "metadata": {
    "id": "2kDDTwD7Tg5N"
   },
   "source": [
    "## Missing Values\n",
    "Let's check how many missing values are in the data set and how can we deal with them."
   ]
  },
  {
   "cell_type": "code",
   "execution_count": 26,
   "metadata": {
    "colab": {
     "base_uri": "https://localhost:8080/"
    },
    "id": "AlDC3bdjGHFH",
    "outputId": "d063f7b0-c5ce-478c-e013-17d75c7758c1"
   },
   "outputs": [
    {
     "name": "stdout",
     "output_type": "stream",
     "text": [
      "Empty DataFrame\n",
      "Columns: [Missing Numbers]\n",
      "Index: []\n"
     ]
    }
   ],
   "source": [
    "all_data_na = (all_data.isnull().sum()).sort_values(ascending = False)\n",
    "all_data_na = all_data_na.drop(all_data_na[all_data_na.values == 0].index)\n",
    "\n",
    "Missing_data = pd.DataFrame({'Missing Numbers' :all_data_na})\n",
    "print(Missing_data)"
   ]
  },
  {
   "cell_type": "markdown",
   "metadata": {
    "id": "K1j-ByWaTpXo"
   },
   "source": [
    "#### SO there are no Missing Values in the input data"
   ]
  },
  {
   "cell_type": "markdown",
   "metadata": {
    "id": "rIVN9l45N5f1"
   },
   "source": [
    "## Distribution of Numerical Variables\n",
    "We now explore the distribution of numerical variables. We will apply the log1p function to all the skewed numerical variables."
   ]
  },
  {
   "cell_type": "code",
   "execution_count": 27,
   "metadata": {
    "id": "Zs0XhG-DN5PQ"
   },
   "outputs": [],
   "source": [
    "# take the numerical features\n",
    "numeric_feats = all_data.dtypes[all_data.dtypes != \"object\"].index\n",
    "\n",
    "# compute the skewness but only for non missing variables (we already imputed them but just in case ...)\n",
    "skewed_feats = all_data[numeric_feats].apply(lambda x: skew(x.dropna()))\n",
    "\n",
    "skewness = pd.DataFrame({\"Variable\":skewed_feats.index, \"Skewness\":skewed_feats.values})\n",
    "# select the variables with a skewness above a certain threshold"
   ]
  },
  {
   "cell_type": "code",
   "execution_count": null,
   "metadata": {
    "id": "Xr-JEHjAcURO"
   },
   "outputs": [],
   "source": [
    "skewness = skewness.sort_values('Skewness', ascending=[0])\n",
    "\n",
    "f, ax = plt.subplots(figsize=(8,6))\n",
    "plt.xticks(rotation='90')\n",
    "sns.barplot(x=skewness['Variable'], y=skewness['Skewness'])\n",
    "plt.ylim(0,25)\n",
    "plt.xlabel('Numerical Variables', fontsize=15)\n",
    "plt.ylabel('Skewness', fontsize=15)\n",
    "plt.title('', fontsize=15)"
   ]
  },
  {
   "cell_type": "markdown",
   "metadata": {
    "id": "tCRCkdSgPFs-"
   },
   "source": [
    "Let's apply the logarithmic transformation to all the variables with a skewness above a certain threshold (0.75). Then, replot the skewness of attributes. Note that to have a fair comparison the two plots should have the same scale."
   ]
  },
  {
   "cell_type": "code",
   "execution_count": 29,
   "metadata": {
    "colab": {
     "base_uri": "https://localhost:8080/"
    },
    "id": "JAsAIMrMPFP9",
    "outputId": "b0b526af-b724-4765-8d0f-950f6f19148b"
   },
   "outputs": [
    {
     "name": "stderr",
     "output_type": "stream",
     "text": [
      "/usr/local/lib/python3.6/dist-packages/ipykernel_launcher.py:2: RuntimeWarning: divide by zero encountered in log1p\n",
      "  \n",
      "/usr/local/lib/python3.6/dist-packages/ipykernel_launcher.py:2: RuntimeWarning: invalid value encountered in log1p\n",
      "  \n"
     ]
    }
   ],
   "source": [
    "skewed_feats = skewed_feats[skewed_feats > 0.75]\n",
    "all_data[skewed_feats.index] = np.log1p(all_data[skewed_feats.index])"
   ]
  },
  {
   "cell_type": "code",
   "execution_count": null,
   "metadata": {
    "id": "YDTkPBikPKBt"
   },
   "outputs": [],
   "source": [
    "# compute the skewness but only for non missing variables (we already imputed them but just in case ...)\n",
    "skewed_feats = all_data[numeric_feats].apply(lambda x: skew(x.dropna()))\n",
    "skewness_new = pd.DataFrame({\"Variable\":skewed_feats.index, \"Skewness\":skewed_feats.values})\n",
    "# select the variables with a skewness above a certain threshold\n",
    "\n",
    "skewness_new = skewness_new.sort_values('Skewness', ascending=[0])\n",
    "\n",
    "f, ax = plt.subplots(figsize=(8,6))\n",
    "plt.xticks(rotation='90')\n",
    "sns.barplot(x=skewness_new['Variable'], y=skewness_new['Skewness'])\n",
    "plt.ylim(0,25)\n",
    "plt.xlabel('Numerical Variables', fontsize=15)\n",
    "plt.ylabel('Skewness', fontsize=15)\n",
    "plt.title('', fontsize=15)"
   ]
  },
  {
   "cell_type": "markdown",
   "metadata": {
    "id": "3BUNnVmxSN1s"
   },
   "source": [
    "# Utility Functions\n",
    "Next we define some utility functions."
   ]
  },
  {
   "cell_type": "code",
   "execution_count": 59,
   "metadata": {
    "id": "GTNoUrIyQJ1J"
   },
   "outputs": [],
   "source": [
    "def PrintConfusionMatrix(model, true_y, predicted_y, positive=1, negative=-1):\n",
    "    cm = confusion_matrix(true_y,predicted_y)\n",
    "    print(\"\\t\"+str(model.classes_[0])+\"\\t\"+str(model.classes_[1]))\n",
    "    print(str(model.classes_[0]) + \"\\t\",cm[0][0],\"\\t\",cm[0][1])\n",
    "    print(str(model.classes_[1]) + \"\\t\",cm[1][0],\"\\t\",cm[1][1])    \n",
    "\n",
    "def PrintSignificance(stat, c):\n",
    "    if (stat[1]<(1-c)):\n",
    "        print(\"The difference is statistically significant (cf %3.2f p-value=%.4f)\"%(c,stat[1]))\n",
    "    else:\n",
    "        print(\"The difference is not statistically significant (cf %3.2f p-value=%.4f)\"%(c,stat[1]))        "
   ]
  },
  {
   "cell_type": "markdown",
   "metadata": {
    "id": "OqXeSsm3Ryr2"
   },
   "source": [
    "# Data, Training, and Validation Sets\n",
    "We load the data, define the input data X and the target column y. Next, we set the random seed, define a training/Validation partition, and the crossvalidation procedure we will use to compare the models.\n"
   ]
  },
  {
   "cell_type": "code",
   "execution_count": 84,
   "metadata": {
    "id": "0MbJcw0-Rn17"
   },
   "outputs": [],
   "source": [
    "target_variable = 'aircon_sum_target_next14d'\n",
    "input_variables = all_data.columns[all_data.columns!=target_variable]\n",
    "\n",
    "X = all_data[input_variables]\n",
    "y = all_data[target_variable]\n"
   ]
  },
  {
   "cell_type": "code",
   "execution_count": 85,
   "metadata": {
    "id": "MIhM9_dlVimt"
   },
   "outputs": [],
   "source": [
    "np.random.seed(SEED)\n",
    "\n",
    "X_train, X_valid, y_train, y_valid = \\\n",
    "    train_test_split(X, y,\\\n",
    "    test_size= 1/4.0, random_state =SEED, shuffle=True)\n",
    "\n",
    "crossvalidation = StratifiedKFold(n_splits=10, shuffle=True)\n"
   ]
  },
  {
   "cell_type": "markdown",
   "metadata": {
    "id": "Fx6MN5BurSJ8"
   },
   "source": [
    "# Baseline Performance (Majority Voting)\n",
    "At first, let's check what is the class distribution. As we can see the dataset is quite imbalanced with 99.4% of target data that have been classified as a not fault in the following 14 days with only 0.6% of the target data classified as fault. Thus, a very simple model classifying all the test data as not fault would reach an 99.4% accuracy (an impressive result in many applications) however, it would be useless for the real goal of this analysis, that is, to create a model to identify almost all faults."
   ]
  },
  {
   "cell_type": "code",
   "execution_count": 86,
   "metadata": {
    "colab": {
     "base_uri": "https://localhost:8080/"
    },
    "id": "z2tYnIApV3TZ",
    "outputId": "ad79086a-c420-418d-ef60-2e1f0e7710bc"
   },
   "outputs": [
    {
     "name": "stdout",
     "output_type": "stream",
     "text": [
      "Class  0  99.4%\n",
      "Class  1  0.6%\n",
      "\n"
     ]
    }
   ],
   "source": [
    "print(\"Class %2d  %.1f%%\\nClass %2d  %.1f%%\\n\"%((y.value_counts()/y.shape[0]).index[0],100*(y.value_counts()/y.shape[0]).values[0],(y.value_counts()/y.shape[0]).index[1],100*(y.value_counts()/y.shape[0]).values[1]))"
   ]
  },
  {
   "cell_type": "markdown",
   "metadata": {
    "id": "nv86JkQ3xvUd"
   },
   "source": [
    "# Model Evaluation\n",
    "We now evaluate Naive Bayes model using some setup we investigated early."
   ]
  },
  {
   "cell_type": "code",
   "execution_count": 94,
   "metadata": {
    "colab": {
     "base_uri": "https://localhost:8080/"
    },
    "id": "VL3YOFs1Yiev",
    "outputId": "33947b47-87de-4633-d1fa-15e01d829425"
   },
   "outputs": [
    {
     "data": {
      "text/plain": [
       "GaussianNB(priors=None, var_smoothing=1e-09)"
      ]
     },
     "execution_count": 94,
     "metadata": {
      "tags": []
     },
     "output_type": "execute_result"
    }
   ],
   "source": [
    "methods = {\n",
    "    'NaiveBayes':GaussianNB()\n",
    "          }\n",
    "method_name = 'NaiveBayes'\n",
    "clf = methods[method_name]\n",
    "clf"
   ]
  },
  {
   "cell_type": "code",
   "execution_count": 97,
   "metadata": {
    "colab": {
     "base_uri": "https://localhost:8080/"
    },
    "id": "KOt_5n0OxRHN",
    "outputId": "42537c15-d0a6-4b3d-f245-01cb24d51fc9"
   },
   "outputs": [
    {
     "name": "stdout",
     "output_type": "stream",
     "text": [
      "                              NaiveBayes\n",
      "========================================\n",
      "\t  Accuracy (CV) 0.568 0.023\n",
      "\tAccuracy (Test) 0.009\n",
      "\t      Precision 0.009\n",
      "\t      Recall    0.758\n",
      "\t      F1        0.019\n",
      "\n",
      "\n"
     ]
    }
   ],
   "source": [
    "xval_results = {}\n",
    "roc_results = {}\n",
    "feature_importance_model = {}\n",
    "\n",
    "method = []\n",
    "accuracy_mean = []\n",
    "accuracy_std = []\n",
    "precision = []\n",
    "recall = []\n",
    "f1 = []\n",
    "auc = []\n",
    "\n",
    "# evaluate the model using crossvalidation\n",
    "xval_score = cross_val_score(clf,X,y,cv=crossvalidation)\n",
    "\n",
    "# store the raw results of crossvalidation that we might want to use for t-test/mann-whitney comparison\n",
    "xval_results[method_name] = xval_score\n",
    "\n",
    "# compute the basic statistics\n",
    "accuracy_mean.append(np.average(xval_score))\n",
    "accuracy_std.append(np.std(xval_score))\n",
    "\n",
    "clf.fit(X_train,y_train)\n",
    "\n",
    "# if the mode can return an evaluation of feature importance we store it to analyze it later\n",
    "if hasattr(clf, 'feature_importances_'):\n",
    "        feature_importance_model[method_name] = (clf,clf.feature_importances_)\n",
    "\n",
    "# compute the prediction which, for probabilistic classifiers, is using a threshold of 0.5\n",
    "yp = clf.predict(X_valid)\n",
    "\n",
    "# ask for the probability values\n",
    "yprob = clf.predict_proba(X_valid)\n",
    "\n",
    "# computes the data needed to draw the Receiver Operating Characteristic ROC curve\n",
    "fpr_nb, tpr_nb, thresholds = roc_curve(y_true=y_valid, y_score = yprob[:,1], pos_label=1)\n",
    "\n",
    "# computes the AUC \n",
    "roc_auc = roc_auc_score(y_true=y_valid, y_score = yprob[:,1])\n",
    "auc.append(roc_auc)\n",
    "\n",
    "# store the information to plot the ROC curves afterwards\n",
    "roc_results[method_name] = (fpr_nb, tpr_nb, thresholds, roc_auc)\n",
    "\n",
    "precision.append(precision_score(y_valid,yp))\n",
    "recall.append(recall_score(y_valid,yp))\n",
    "f1.append(f1_score(y_valid, yp))\n",
    "\n",
    "print(\"%40s\"%method_name)\n",
    "print(\"========================================\")\n",
    "print(\"\\t  Accuracy (CV) %.3f %.3f\"%(np.average(xval_score),np.std(xval_score)))\n",
    "print(\"\\tAccuracy (Test) %.3f\"%precision_score(y_valid, yp))\n",
    "print(\"\\t      Precision %.3f\"%precision_score(y_valid, yp))\n",
    "print(\"\\t      Recall    %.3f\"%recall_score(y_valid, yp))\n",
    "print(\"\\t      F1        %.3f\"%f1_score(y_valid, yp))\n",
    "print(\"\\n\")\n",
    "\n",
    "\n",
    "\n",
    "\n",
    "\n",
    "\n",
    "# gnb.fit(X_train, y_train)\n",
    "# y_pred=gnb.predict(X_valid)\n",
    "\n",
    "# print(\"f1_score: \", f1_score(y_valid, y_pred))\n",
    "\n",
    "\n",
    "\n",
    "# print(confusion_matrix(y_valid, y_pred))\n",
    "\n"
   ]
  },
  {
   "cell_type": "code",
   "execution_count": null,
   "metadata": {
    "id": "gE6GGp4K4tzS"
   },
   "outputs": [],
   "source": []
  }
 ],
 "metadata": {
  "colab": {
   "collapsed_sections": [],
   "name": "Naive_Bayes.ipynb",
   "provenance": []
  },
  "kernelspec": {
   "display_name": "Python 3",
   "language": "python",
   "name": "python3"
  },
  "language_info": {
   "codemirror_mode": {
    "name": "ipython",
    "version": 3
   },
   "file_extension": ".py",
   "mimetype": "text/x-python",
   "name": "python",
   "nbconvert_exporter": "python",
   "pygments_lexer": "ipython3",
   "version": "3.8.3"
  }
 },
 "nbformat": 4,
 "nbformat_minor": 1
}
