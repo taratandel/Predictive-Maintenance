{
 "cells": [
  {
   "cell_type": "code",
   "execution_count": 8,
   "metadata": {},
   "outputs": [],
   "source": [
    "import pandas as pd\n",
    "import numpy as np"
   ]
  },
  {
   "cell_type": "code",
   "execution_count": 10,
   "metadata": {},
   "outputs": [],
   "source": [
    "concat_df = pd.read_csv(r'D:\\polimi\\terms\\September 2020\\data and text mining\\course project\\concat_df\\concat_df.csv')"
   ]
  },
  {
   "cell_type": "code",
   "execution_count": 11,
   "metadata": {},
   "outputs": [
    {
     "data": {
      "text/plain": [
       "(621300, 49)"
      ]
     },
     "execution_count": 11,
     "metadata": {},
     "output_type": "execute_result"
    }
   ],
   "source": [
    "concat_df.shape"
   ]
  },
  {
   "cell_type": "code",
   "execution_count": 13,
   "metadata": {},
   "outputs": [
    {
     "data": {
      "text/html": [
       "<div>\n",
       "<style scoped>\n",
       "    .dataframe tbody tr th:only-of-type {\n",
       "        vertical-align: middle;\n",
       "    }\n",
       "\n",
       "    .dataframe tbody tr th {\n",
       "        vertical-align: top;\n",
       "    }\n",
       "\n",
       "    .dataframe thead th {\n",
       "        text-align: right;\n",
       "    }\n",
       "</style>\n",
       "<table border=\"1\" class=\"dataframe\">\n",
       "  <thead>\n",
       "    <tr style=\"text-align: right;\">\n",
       "      <th></th>\n",
       "      <th>CELL_TYPE_Macro</th>\n",
       "      <th>CELL_TYPE_Mobil</th>\n",
       "      <th>CELL_TYPE_Tx site</th>\n",
       "      <th>CELL_TYPE_micro</th>\n",
       "      <th>GEOGRAPHIC_CLUSTER_K_0</th>\n",
       "      <th>GEOGRAPHIC_CLUSTER_K_1</th>\n",
       "      <th>GEOGRAPHIC_CLUSTER_K_2</th>\n",
       "      <th>GEOGRAPHIC_CLUSTER_K_3</th>\n",
       "      <th>GEOGRAPHIC_CLUSTER_K_4</th>\n",
       "      <th>GEOGRAPHIC_CLUSTER_K_5</th>\n",
       "      <th>...</th>\n",
       "      <th>skew_equipment_alarms_prev14d</th>\n",
       "      <th>skew_fire/smoke_alarms_prev14d</th>\n",
       "      <th>skew_ge_alarms_prev14d</th>\n",
       "      <th>skew_power_alarms_prev14d</th>\n",
       "      <th>skew_temperature_alarms_prev14d</th>\n",
       "      <th>kurt_equipment_alarms_prev14d</th>\n",
       "      <th>kurt_fire/smoke_alarms_prev14d</th>\n",
       "      <th>kurt_ge_alarms_prev14d</th>\n",
       "      <th>kurt_power_alarms_prev14d</th>\n",
       "      <th>kurt_temperature_alarms_prev14d</th>\n",
       "    </tr>\n",
       "  </thead>\n",
       "  <tbody>\n",
       "    <tr>\n",
       "      <th>0</th>\n",
       "      <td>1</td>\n",
       "      <td>0</td>\n",
       "      <td>0</td>\n",
       "      <td>0</td>\n",
       "      <td>0</td>\n",
       "      <td>0</td>\n",
       "      <td>0</td>\n",
       "      <td>0</td>\n",
       "      <td>0</td>\n",
       "      <td>0</td>\n",
       "      <td>...</td>\n",
       "      <td>-0.002364</td>\n",
       "      <td>0.002932</td>\n",
       "      <td>-0.00023</td>\n",
       "      <td>0.000344</td>\n",
       "      <td>-0.004026</td>\n",
       "      <td>-0.10815</td>\n",
       "      <td>-0.074476</td>\n",
       "      <td>-0.02329</td>\n",
       "      <td>-0.170635</td>\n",
       "      <td>-0.09167</td>\n",
       "    </tr>\n",
       "    <tr>\n",
       "      <th>1</th>\n",
       "      <td>1</td>\n",
       "      <td>0</td>\n",
       "      <td>0</td>\n",
       "      <td>0</td>\n",
       "      <td>0</td>\n",
       "      <td>0</td>\n",
       "      <td>0</td>\n",
       "      <td>0</td>\n",
       "      <td>0</td>\n",
       "      <td>0</td>\n",
       "      <td>...</td>\n",
       "      <td>-0.002364</td>\n",
       "      <td>0.002932</td>\n",
       "      <td>-0.00023</td>\n",
       "      <td>0.000344</td>\n",
       "      <td>-0.004026</td>\n",
       "      <td>-0.10815</td>\n",
       "      <td>-0.074476</td>\n",
       "      <td>-0.02329</td>\n",
       "      <td>-0.170635</td>\n",
       "      <td>-0.09167</td>\n",
       "    </tr>\n",
       "    <tr>\n",
       "      <th>2</th>\n",
       "      <td>1</td>\n",
       "      <td>0</td>\n",
       "      <td>0</td>\n",
       "      <td>0</td>\n",
       "      <td>0</td>\n",
       "      <td>0</td>\n",
       "      <td>0</td>\n",
       "      <td>0</td>\n",
       "      <td>0</td>\n",
       "      <td>0</td>\n",
       "      <td>...</td>\n",
       "      <td>-0.002364</td>\n",
       "      <td>0.002932</td>\n",
       "      <td>-0.00023</td>\n",
       "      <td>0.000344</td>\n",
       "      <td>-0.004026</td>\n",
       "      <td>-0.10815</td>\n",
       "      <td>-0.074476</td>\n",
       "      <td>-0.02329</td>\n",
       "      <td>-0.170635</td>\n",
       "      <td>-0.09167</td>\n",
       "    </tr>\n",
       "    <tr>\n",
       "      <th>3</th>\n",
       "      <td>1</td>\n",
       "      <td>0</td>\n",
       "      <td>0</td>\n",
       "      <td>0</td>\n",
       "      <td>0</td>\n",
       "      <td>0</td>\n",
       "      <td>0</td>\n",
       "      <td>0</td>\n",
       "      <td>0</td>\n",
       "      <td>0</td>\n",
       "      <td>...</td>\n",
       "      <td>-0.002364</td>\n",
       "      <td>0.002932</td>\n",
       "      <td>-0.00023</td>\n",
       "      <td>0.000344</td>\n",
       "      <td>-0.004026</td>\n",
       "      <td>-0.10815</td>\n",
       "      <td>-0.074476</td>\n",
       "      <td>-0.02329</td>\n",
       "      <td>-0.170635</td>\n",
       "      <td>-0.09167</td>\n",
       "    </tr>\n",
       "    <tr>\n",
       "      <th>4</th>\n",
       "      <td>1</td>\n",
       "      <td>0</td>\n",
       "      <td>0</td>\n",
       "      <td>0</td>\n",
       "      <td>0</td>\n",
       "      <td>0</td>\n",
       "      <td>0</td>\n",
       "      <td>0</td>\n",
       "      <td>0</td>\n",
       "      <td>0</td>\n",
       "      <td>...</td>\n",
       "      <td>-0.002364</td>\n",
       "      <td>0.002932</td>\n",
       "      <td>-0.00023</td>\n",
       "      <td>0.000344</td>\n",
       "      <td>-0.004026</td>\n",
       "      <td>-0.10815</td>\n",
       "      <td>-0.074476</td>\n",
       "      <td>-0.02329</td>\n",
       "      <td>-0.170635</td>\n",
       "      <td>-0.09167</td>\n",
       "    </tr>\n",
       "  </tbody>\n",
       "</table>\n",
       "<p>5 rows × 49 columns</p>\n",
       "</div>"
      ],
      "text/plain": [
       "   CELL_TYPE_Macro  CELL_TYPE_Mobil  CELL_TYPE_Tx site  CELL_TYPE_micro  \\\n",
       "0                1                0                  0                0   \n",
       "1                1                0                  0                0   \n",
       "2                1                0                  0                0   \n",
       "3                1                0                  0                0   \n",
       "4                1                0                  0                0   \n",
       "\n",
       "   GEOGRAPHIC_CLUSTER_K_0  GEOGRAPHIC_CLUSTER_K_1  GEOGRAPHIC_CLUSTER_K_2  \\\n",
       "0                       0                       0                       0   \n",
       "1                       0                       0                       0   \n",
       "2                       0                       0                       0   \n",
       "3                       0                       0                       0   \n",
       "4                       0                       0                       0   \n",
       "\n",
       "   GEOGRAPHIC_CLUSTER_K_3  GEOGRAPHIC_CLUSTER_K_4  GEOGRAPHIC_CLUSTER_K_5  \\\n",
       "0                       0                       0                       0   \n",
       "1                       0                       0                       0   \n",
       "2                       0                       0                       0   \n",
       "3                       0                       0                       0   \n",
       "4                       0                       0                       0   \n",
       "\n",
       "   ...  skew_equipment_alarms_prev14d  skew_fire/smoke_alarms_prev14d  \\\n",
       "0  ...                      -0.002364                        0.002932   \n",
       "1  ...                      -0.002364                        0.002932   \n",
       "2  ...                      -0.002364                        0.002932   \n",
       "3  ...                      -0.002364                        0.002932   \n",
       "4  ...                      -0.002364                        0.002932   \n",
       "\n",
       "   skew_ge_alarms_prev14d  skew_power_alarms_prev14d  \\\n",
       "0                -0.00023                   0.000344   \n",
       "1                -0.00023                   0.000344   \n",
       "2                -0.00023                   0.000344   \n",
       "3                -0.00023                   0.000344   \n",
       "4                -0.00023                   0.000344   \n",
       "\n",
       "   skew_temperature_alarms_prev14d  kurt_equipment_alarms_prev14d  \\\n",
       "0                        -0.004026                       -0.10815   \n",
       "1                        -0.004026                       -0.10815   \n",
       "2                        -0.004026                       -0.10815   \n",
       "3                        -0.004026                       -0.10815   \n",
       "4                        -0.004026                       -0.10815   \n",
       "\n",
       "   kurt_fire/smoke_alarms_prev14d  kurt_ge_alarms_prev14d  \\\n",
       "0                       -0.074476                -0.02329   \n",
       "1                       -0.074476                -0.02329   \n",
       "2                       -0.074476                -0.02329   \n",
       "3                       -0.074476                -0.02329   \n",
       "4                       -0.074476                -0.02329   \n",
       "\n",
       "   kurt_power_alarms_prev14d  kurt_temperature_alarms_prev14d  \n",
       "0                  -0.170635                         -0.09167  \n",
       "1                  -0.170635                         -0.09167  \n",
       "2                  -0.170635                         -0.09167  \n",
       "3                  -0.170635                         -0.09167  \n",
       "4                  -0.170635                         -0.09167  \n",
       "\n",
       "[5 rows x 49 columns]"
      ]
     },
     "execution_count": 13,
     "metadata": {},
     "output_type": "execute_result"
    }
   ],
   "source": [
    "concat_df.head()"
   ]
  },
  {
   "cell_type": "code",
   "execution_count": 16,
   "metadata": {},
   "outputs": [
    {
     "data": {
      "text/plain": [
       "Index(['CELL_TYPE_Macro', 'CELL_TYPE_Mobil', 'CELL_TYPE_Tx site',\n",
       "       'CELL_TYPE_micro', 'GEOGRAPHIC_CLUSTER_K_0', 'GEOGRAPHIC_CLUSTER_K_1',\n",
       "       'GEOGRAPHIC_CLUSTER_K_2', 'GEOGRAPHIC_CLUSTER_K_3',\n",
       "       'GEOGRAPHIC_CLUSTER_K_4', 'GEOGRAPHIC_CLUSTER_K_5',\n",
       "       'GEOGRAPHIC_CLUSTER_K_6', 'GEOGRAPHIC_CLUSTER_K_7',\n",
       "       'GEOGRAPHIC_CLUSTER_K_8', 'GEOGRAPHIC_CLUSTER_K_9',\n",
       "       'aircon_sum_wo_prev7d', 'aircon_sum_wo_prev14d',\n",
       "       'aircon_sum_target_next14d', 'N_TRANSPORTED_SITES',\n",
       "       'ind_temperature_min_persistance_prev7d',\n",
       "       'ind_temperature_mean_persistance_prev7d',\n",
       "       'ind_power_min_persistance_prev7d', 'ind_power_mean_persistance_prev7d',\n",
       "       'ind_ge_min_persistance_prev7d', 'ind_ge_mean_persistance_prev7d',\n",
       "       'ind_fire/smoke_min_persistance_prev7d',\n",
       "       'ind_fire/smoke_mean_persistance_prev7d',\n",
       "       'ind_equipment_min_persistance_prev7d',\n",
       "       'ind_equipment_mean_persistance_prev7d', 'ind_min_humidity_prev7d',\n",
       "       'ind_min_pressure_prev7d', 'ind_min_rain_mm_prev7d',\n",
       "       'ind_mean_rain_mm_prev7d', 'ind_min_temperature_prev7d',\n",
       "       'ind_min_wind_speed_prev7d', 'aggregated_equipment_sum_alarms_prev3d',\n",
       "       'aggregated_fire/smoke_sum_alarms_prev3d',\n",
       "       'aggregated_ge_sum_alarms_prev3d', 'aggregated_power_sum_alarms_prev3d',\n",
       "       'aggregated_temperature_sum_alarms_prev3d',\n",
       "       'skew_equipment_alarms_prev14d', 'skew_fire/smoke_alarms_prev14d',\n",
       "       'skew_ge_alarms_prev14d', 'skew_power_alarms_prev14d',\n",
       "       'skew_temperature_alarms_prev14d', 'kurt_equipment_alarms_prev14d',\n",
       "       'kurt_fire/smoke_alarms_prev14d', 'kurt_ge_alarms_prev14d',\n",
       "       'kurt_power_alarms_prev14d', 'kurt_temperature_alarms_prev14d'],\n",
       "      dtype='object')"
      ]
     },
     "execution_count": 16,
     "metadata": {},
     "output_type": "execute_result"
    }
   ],
   "source": [
    "concat_df.columns"
   ]
  },
  {
   "cell_type": "code",
   "execution_count": 17,
   "metadata": {},
   "outputs": [
    {
     "data": {
      "text/plain": [
       "0         0\n",
       "1         0\n",
       "2         0\n",
       "3         0\n",
       "4         0\n",
       "         ..\n",
       "621295    0\n",
       "621296    0\n",
       "621297    0\n",
       "621298    0\n",
       "621299    0\n",
       "Name: aircon_sum_target_next14d, Length: 621300, dtype: int64"
      ]
     },
     "execution_count": 17,
     "metadata": {},
     "output_type": "execute_result"
    }
   ],
   "source": [
    "concat_df.aircon_sum_target_next14d"
   ]
  },
  {
   "cell_type": "code",
   "execution_count": 19,
   "metadata": {},
   "outputs": [
    {
     "data": {
      "text/plain": [
       "0    617717\n",
       "1      3583\n",
       "Name: aircon_sum_target_next14d, dtype: int64"
      ]
     },
     "execution_count": 19,
     "metadata": {},
     "output_type": "execute_result"
    }
   ],
   "source": [
    "concat_df['aircon_sum_target_next14d'].value_counts() "
   ]
  },
  {
   "cell_type": "code",
   "execution_count": 22,
   "metadata": {},
   "outputs": [
    {
     "data": {
      "text/plain": [
       "(621300, 48)"
      ]
     },
     "execution_count": 22,
     "metadata": {},
     "output_type": "execute_result"
    }
   ],
   "source": [
    "X= concat_df.drop(['aircon_sum_target_next14d'],axis =1)\n",
    "X.shape"
   ]
  },
  {
   "cell_type": "code",
   "execution_count": 24,
   "metadata": {},
   "outputs": [
    {
     "data": {
      "text/html": [
       "<div>\n",
       "<style scoped>\n",
       "    .dataframe tbody tr th:only-of-type {\n",
       "        vertical-align: middle;\n",
       "    }\n",
       "\n",
       "    .dataframe tbody tr th {\n",
       "        vertical-align: top;\n",
       "    }\n",
       "\n",
       "    .dataframe thead th {\n",
       "        text-align: right;\n",
       "    }\n",
       "</style>\n",
       "<table border=\"1\" class=\"dataframe\">\n",
       "  <thead>\n",
       "    <tr style=\"text-align: right;\">\n",
       "      <th></th>\n",
       "      <th>CELL_TYPE_Macro</th>\n",
       "      <th>CELL_TYPE_Mobil</th>\n",
       "      <th>CELL_TYPE_Tx site</th>\n",
       "      <th>CELL_TYPE_micro</th>\n",
       "      <th>GEOGRAPHIC_CLUSTER_K_0</th>\n",
       "      <th>GEOGRAPHIC_CLUSTER_K_1</th>\n",
       "      <th>GEOGRAPHIC_CLUSTER_K_2</th>\n",
       "      <th>GEOGRAPHIC_CLUSTER_K_3</th>\n",
       "      <th>GEOGRAPHIC_CLUSTER_K_4</th>\n",
       "      <th>GEOGRAPHIC_CLUSTER_K_5</th>\n",
       "      <th>...</th>\n",
       "      <th>skew_equipment_alarms_prev14d</th>\n",
       "      <th>skew_fire/smoke_alarms_prev14d</th>\n",
       "      <th>skew_ge_alarms_prev14d</th>\n",
       "      <th>skew_power_alarms_prev14d</th>\n",
       "      <th>skew_temperature_alarms_prev14d</th>\n",
       "      <th>kurt_equipment_alarms_prev14d</th>\n",
       "      <th>kurt_fire/smoke_alarms_prev14d</th>\n",
       "      <th>kurt_ge_alarms_prev14d</th>\n",
       "      <th>kurt_power_alarms_prev14d</th>\n",
       "      <th>kurt_temperature_alarms_prev14d</th>\n",
       "    </tr>\n",
       "  </thead>\n",
       "  <tbody>\n",
       "    <tr>\n",
       "      <th>0</th>\n",
       "      <td>1</td>\n",
       "      <td>0</td>\n",
       "      <td>0</td>\n",
       "      <td>0</td>\n",
       "      <td>0</td>\n",
       "      <td>0</td>\n",
       "      <td>0</td>\n",
       "      <td>0</td>\n",
       "      <td>0</td>\n",
       "      <td>0</td>\n",
       "      <td>...</td>\n",
       "      <td>-0.002364</td>\n",
       "      <td>0.002932</td>\n",
       "      <td>-0.00023</td>\n",
       "      <td>0.000344</td>\n",
       "      <td>-0.004026</td>\n",
       "      <td>-0.10815</td>\n",
       "      <td>-0.074476</td>\n",
       "      <td>-0.02329</td>\n",
       "      <td>-0.170635</td>\n",
       "      <td>-0.09167</td>\n",
       "    </tr>\n",
       "    <tr>\n",
       "      <th>1</th>\n",
       "      <td>1</td>\n",
       "      <td>0</td>\n",
       "      <td>0</td>\n",
       "      <td>0</td>\n",
       "      <td>0</td>\n",
       "      <td>0</td>\n",
       "      <td>0</td>\n",
       "      <td>0</td>\n",
       "      <td>0</td>\n",
       "      <td>0</td>\n",
       "      <td>...</td>\n",
       "      <td>-0.002364</td>\n",
       "      <td>0.002932</td>\n",
       "      <td>-0.00023</td>\n",
       "      <td>0.000344</td>\n",
       "      <td>-0.004026</td>\n",
       "      <td>-0.10815</td>\n",
       "      <td>-0.074476</td>\n",
       "      <td>-0.02329</td>\n",
       "      <td>-0.170635</td>\n",
       "      <td>-0.09167</td>\n",
       "    </tr>\n",
       "    <tr>\n",
       "      <th>2</th>\n",
       "      <td>1</td>\n",
       "      <td>0</td>\n",
       "      <td>0</td>\n",
       "      <td>0</td>\n",
       "      <td>0</td>\n",
       "      <td>0</td>\n",
       "      <td>0</td>\n",
       "      <td>0</td>\n",
       "      <td>0</td>\n",
       "      <td>0</td>\n",
       "      <td>...</td>\n",
       "      <td>-0.002364</td>\n",
       "      <td>0.002932</td>\n",
       "      <td>-0.00023</td>\n",
       "      <td>0.000344</td>\n",
       "      <td>-0.004026</td>\n",
       "      <td>-0.10815</td>\n",
       "      <td>-0.074476</td>\n",
       "      <td>-0.02329</td>\n",
       "      <td>-0.170635</td>\n",
       "      <td>-0.09167</td>\n",
       "    </tr>\n",
       "    <tr>\n",
       "      <th>3</th>\n",
       "      <td>1</td>\n",
       "      <td>0</td>\n",
       "      <td>0</td>\n",
       "      <td>0</td>\n",
       "      <td>0</td>\n",
       "      <td>0</td>\n",
       "      <td>0</td>\n",
       "      <td>0</td>\n",
       "      <td>0</td>\n",
       "      <td>0</td>\n",
       "      <td>...</td>\n",
       "      <td>-0.002364</td>\n",
       "      <td>0.002932</td>\n",
       "      <td>-0.00023</td>\n",
       "      <td>0.000344</td>\n",
       "      <td>-0.004026</td>\n",
       "      <td>-0.10815</td>\n",
       "      <td>-0.074476</td>\n",
       "      <td>-0.02329</td>\n",
       "      <td>-0.170635</td>\n",
       "      <td>-0.09167</td>\n",
       "    </tr>\n",
       "    <tr>\n",
       "      <th>4</th>\n",
       "      <td>1</td>\n",
       "      <td>0</td>\n",
       "      <td>0</td>\n",
       "      <td>0</td>\n",
       "      <td>0</td>\n",
       "      <td>0</td>\n",
       "      <td>0</td>\n",
       "      <td>0</td>\n",
       "      <td>0</td>\n",
       "      <td>0</td>\n",
       "      <td>...</td>\n",
       "      <td>-0.002364</td>\n",
       "      <td>0.002932</td>\n",
       "      <td>-0.00023</td>\n",
       "      <td>0.000344</td>\n",
       "      <td>-0.004026</td>\n",
       "      <td>-0.10815</td>\n",
       "      <td>-0.074476</td>\n",
       "      <td>-0.02329</td>\n",
       "      <td>-0.170635</td>\n",
       "      <td>-0.09167</td>\n",
       "    </tr>\n",
       "  </tbody>\n",
       "</table>\n",
       "<p>5 rows × 48 columns</p>\n",
       "</div>"
      ],
      "text/plain": [
       "   CELL_TYPE_Macro  CELL_TYPE_Mobil  CELL_TYPE_Tx site  CELL_TYPE_micro  \\\n",
       "0                1                0                  0                0   \n",
       "1                1                0                  0                0   \n",
       "2                1                0                  0                0   \n",
       "3                1                0                  0                0   \n",
       "4                1                0                  0                0   \n",
       "\n",
       "   GEOGRAPHIC_CLUSTER_K_0  GEOGRAPHIC_CLUSTER_K_1  GEOGRAPHIC_CLUSTER_K_2  \\\n",
       "0                       0                       0                       0   \n",
       "1                       0                       0                       0   \n",
       "2                       0                       0                       0   \n",
       "3                       0                       0                       0   \n",
       "4                       0                       0                       0   \n",
       "\n",
       "   GEOGRAPHIC_CLUSTER_K_3  GEOGRAPHIC_CLUSTER_K_4  GEOGRAPHIC_CLUSTER_K_5  \\\n",
       "0                       0                       0                       0   \n",
       "1                       0                       0                       0   \n",
       "2                       0                       0                       0   \n",
       "3                       0                       0                       0   \n",
       "4                       0                       0                       0   \n",
       "\n",
       "   ...  skew_equipment_alarms_prev14d  skew_fire/smoke_alarms_prev14d  \\\n",
       "0  ...                      -0.002364                        0.002932   \n",
       "1  ...                      -0.002364                        0.002932   \n",
       "2  ...                      -0.002364                        0.002932   \n",
       "3  ...                      -0.002364                        0.002932   \n",
       "4  ...                      -0.002364                        0.002932   \n",
       "\n",
       "   skew_ge_alarms_prev14d  skew_power_alarms_prev14d  \\\n",
       "0                -0.00023                   0.000344   \n",
       "1                -0.00023                   0.000344   \n",
       "2                -0.00023                   0.000344   \n",
       "3                -0.00023                   0.000344   \n",
       "4                -0.00023                   0.000344   \n",
       "\n",
       "   skew_temperature_alarms_prev14d  kurt_equipment_alarms_prev14d  \\\n",
       "0                        -0.004026                       -0.10815   \n",
       "1                        -0.004026                       -0.10815   \n",
       "2                        -0.004026                       -0.10815   \n",
       "3                        -0.004026                       -0.10815   \n",
       "4                        -0.004026                       -0.10815   \n",
       "\n",
       "   kurt_fire/smoke_alarms_prev14d  kurt_ge_alarms_prev14d  \\\n",
       "0                       -0.074476                -0.02329   \n",
       "1                       -0.074476                -0.02329   \n",
       "2                       -0.074476                -0.02329   \n",
       "3                       -0.074476                -0.02329   \n",
       "4                       -0.074476                -0.02329   \n",
       "\n",
       "   kurt_power_alarms_prev14d  kurt_temperature_alarms_prev14d  \n",
       "0                  -0.170635                         -0.09167  \n",
       "1                  -0.170635                         -0.09167  \n",
       "2                  -0.170635                         -0.09167  \n",
       "3                  -0.170635                         -0.09167  \n",
       "4                  -0.170635                         -0.09167  \n",
       "\n",
       "[5 rows x 48 columns]"
      ]
     },
     "execution_count": 24,
     "metadata": {},
     "output_type": "execute_result"
    }
   ],
   "source": [
    "X.head()"
   ]
  },
  {
   "cell_type": "code",
   "execution_count": 23,
   "metadata": {},
   "outputs": [
    {
     "data": {
      "text/plain": [
       "0    0\n",
       "1    0\n",
       "2    0\n",
       "3    0\n",
       "4    0\n",
       "Name: aircon_sum_target_next14d, dtype: int64"
      ]
     },
     "execution_count": 23,
     "metadata": {},
     "output_type": "execute_result"
    }
   ],
   "source": [
    "y = concat_df['aircon_sum_target_next14d']\n",
    "y.head()"
   ]
  },
  {
   "cell_type": "markdown",
   "metadata": {},
   "source": [
    "Having the X and  in DataFrame platform, we split the data into train and test data set."
   ]
  },
  {
   "cell_type": "markdown",
   "metadata": {},
   "source": [
    "."
   ]
  },
  {
   "cell_type": "markdown",
   "metadata": {},
   "source": [
    "."
   ]
  },
  {
   "cell_type": "markdown",
   "metadata": {},
   "source": [
    "# Splitting data into Test and Train Set"
   ]
  },
  {
   "cell_type": "code",
   "execution_count": 25,
   "metadata": {},
   "outputs": [
    {
     "name": "stdout",
     "output_type": "stream",
     "text": [
      "(434910, 48) (186390, 48)\n"
     ]
    }
   ],
   "source": [
    "from sklearn.model_selection import train_test_split\n",
    "\n",
    "#SPLIT DATA INTO TRAIN AND TEST SET\n",
    "X_train, X_test, y_train, y_test = train_test_split(X, y, \n",
    "                                                    test_size =0.30, #by default is 75%-25%\n",
    "                                                    random_state= 123) #fix random seed for replicability\n",
    "\n",
    "print(X_train.shape, X_test.shape)"
   ]
  },
  {
   "cell_type": "markdown",
   "metadata": {},
   "source": [
    "# Models"
   ]
  },
  {
   "cell_type": "code",
   "execution_count": 26,
   "metadata": {},
   "outputs": [],
   "source": [
    "from sklearn.model_selection import GridSearchCV\n",
    "from sklearn.metrics import confusion_matrix\n",
    "from sklearn.metrics import classification_report\n",
    "from sklearn import metrics \n",
    "from sklearn.metrics import f1_score\n",
    "\n",
    "from sklearn.metrics import precision_recall_fscore_support"
   ]
  },
  {
   "cell_type": "markdown",
   "metadata": {},
   "source": [
    "# GreadSearch Algorithm Search "
   ]
  },
  {
   "cell_type": "code",
   "execution_count": 28,
   "metadata": {},
   "outputs": [],
   "source": [
    "def hyperp_search(classifier, parameters):\n",
    "    gs = GridSearchCV(classifier, parameters, cv=3, scoring = 'f1', verbose=0, n_jobs=-1)\n",
    "    gs = gs.fit(X_train, y_train)\n",
    "    print(\"f1_train: %f using %s\" % (gs.best_score_, gs.best_params_))\n",
    "\n",
    "    best_model = gs.best_estimator_\n",
    "    y_pred = best_model.predict(X_test)\n",
    "\n",
    "    #print(\"f1_test: \", f1_score(y_test, y_pred))\n",
    "    #print(confusion_matrix(y_test, y_pred))\n",
    "    #print(classification_report(y_test, y_pred))\n",
    "    print(precision_recall_fscore_support(y_test, y_pred, average='weighted'))"
   ]
  },
  {
   "cell_type": "markdown",
   "metadata": {},
   "source": [
    "# Random Forest"
   ]
  },
  {
   "cell_type": "code",
   "execution_count": 30,
   "metadata": {},
   "outputs": [
    {
     "name": "stdout",
     "output_type": "stream",
     "text": [
      "f1_train: 0.061506 using {'criterion': 'gini', 'max_depth': 10, 'min_samples_leaf': 5, 'n_estimators': 5, 'random_state': 42}\n",
      "(0.9939574736098175, 0.9944954128440368, 0.9919882510763267, None)\n"
     ]
    }
   ],
   "source": [
    "from sklearn.ensemble import RandomForestClassifier\n",
    "classifier = RandomForestClassifier()\n",
    "parameters = {\"n_estimators\":[5,10,50], \"criterion\":  ['entropy','gini'], \n",
    "              \"min_samples_leaf\": [5,10,20], \"random_state\" : [42], 'max_depth':[4,5,10]}\n",
    "\n",
    "hyperp_search(classifier,parameters)"
   ]
  },
  {
   "cell_type": "markdown",
   "metadata": {},
   "source": [
    "# Decision Tree"
   ]
  },
  {
   "cell_type": "code",
   "execution_count": null,
   "metadata": {},
   "outputs": [],
   "source": [
    "from sklearn.tree import DecisionTreeClassifier\n",
    "classifier = DecisionTreeClassifier()\n",
    "parameters = {'criterion': ['entropy','gini'], \n",
    "              'max_depth': [4,5,10],\n",
    "              'min_samples_split': [20],\n",
    "              'min_samples_leaf': [10]}\n",
    "\n",
    "hyperp_search(classifier,parameters)"
   ]
  },
  {
   "cell_type": "markdown",
   "metadata": {},
   "source": [
    "# KNN"
   ]
  },
  {
   "cell_type": "code",
   "execution_count": null,
   "metadata": {},
   "outputs": [],
   "source": [
    "from sklearn.neighbors import KNeighborsClassifier\n",
    "classifier = KNeighborsClassifier()\n",
    "parameters = {'n_neighbors':np.arange(10,1000,100)}\n",
    "\n",
    "hyperp_search(classifier,parameters)"
   ]
  },
  {
   "cell_type": "markdown",
   "metadata": {},
   "source": [
    "# Naive Bayes"
   ]
  },
  {
   "cell_type": "code",
   "execution_count": null,
   "metadata": {},
   "outputs": [],
   "source": [
    "from sklearn.naive_bayes import GaussianNB #or alternative NB implementations\n",
    "\n",
    "model = GaussianNB()\n",
    "\n",
    "model.fit(X_train, y_train)\n",
    "y_pred=model.predict(X_test)\n",
    "\n",
    "from sklearn.metrics import f1_score\n",
    "print(\"f1_score: \", f1_score(y_test, y_pred))\n",
    "\n",
    "print(\"f1_test: \", f1_score(y_test, y_pred))\n",
    "\n",
    "\n",
    "print(precision_recall_fscore_support(y_test, y_pred, average='weighted'))"
   ]
  },
  {
   "cell_type": "markdown",
   "metadata": {},
   "source": [
    "# AdaBoost Classifier"
   ]
  },
  {
   "cell_type": "code",
   "execution_count": null,
   "metadata": {},
   "outputs": [],
   "source": [
    "from sklearn.ensemble import AdaBoostClassifier\n",
    "classifier = AdaBoostClassifier()\n",
    "parameters = {\"random_state\" : [0] , \"n_estimators\" = [5,10,100] , \"learning_rate\":[0.1,0.5,1,2], \"loss\": ['linear', 'square']}\n",
    "\n",
    "# base_estimator=DecisionTreeRegressor(max_depth=3)        !!!!!!!!!!\n",
    "\n",
    "\n",
    "hyperp_search(classifier,parameters)"
   ]
  },
  {
   "cell_type": "markdown",
   "metadata": {},
   "source": [
    "# Bagging Classifier\n"
   ]
  },
  {
   "cell_type": "code",
   "execution_count": null,
   "metadata": {},
   "outputs": [],
   "source": [
    "from sklearn.ensemble import BaggingClassifier\n",
    "classifier = BaggingClassifier()\n",
    "parameters = {\"max_depth\" :[ 3,4,5,6,7] , \"n_estimators\" : [ 5,10,100]}\n",
    "\n",
    "hyperp_search(classifier,parameters)"
   ]
  },
  {
   "cell_type": "markdown",
   "metadata": {},
   "source": [
    "# Gradient Boosting Classifier"
   ]
  },
  {
   "cell_type": "code",
   "execution_count": null,
   "metadata": {},
   "outputs": [],
   "source": [
    "from sklearn.ensemble import GradientBoostingRegressor\n",
    "\n",
    "regressor = GradientBoostingRegressor()            # base_estimator=DecisionTreeRegressor(max_depth=3)\n",
    "parameters = {\"n_estimators\":[5,10,100,150], \"learning_rate\":[0.1,0.5,1,2], \n",
    "              \"loss\": ['ls', 'lad'], \"random_state\" : [0] ,\n",
    "             \"max_depth\":[1,2]}\n",
    "\n",
    "hyperp_search(classifier,parameters)"
   ]
  },
  {
   "cell_type": "markdown",
   "metadata": {},
   "source": [
    "# Logistic Regression"
   ]
  },
  {
   "cell_type": "code",
   "execution_count": null,
   "metadata": {},
   "outputs": [],
   "source": [
    "from sklearn.linear_model import LogisticRegression\n",
    "\n",
    "classifier = LogisticRegression()\n",
    "parameters = {\"C\":[1e-4,1e-3,1e-2,1e-1,1,10], \"max_iter\":[1000] }\n",
    "\n",
    "\n",
    "hyperp_search(classifier,parameters)"
   ]
  },
  {
   "cell_type": "markdown",
   "metadata": {},
   "source": [
    "# Making the Prediction"
   ]
  },
  {
   "cell_type": "markdown",
   "metadata": {},
   "source": [
    "Having the model parameters and best fit model to our Train.csv Data, we will be able to predict over the Test.csv.\n",
    "To be noticed, same scaled fitted model (standard Scalar) which has already implemented over the Train Data should be dedicated\n",
    "toward the Test Test."
   ]
  },
  {
   "cell_type": "code",
   "execution_count": null,
   "metadata": {},
   "outputs": [],
   "source": [
    "####  Preprocessing of the test.csv in a exact process we did for the Train.csv \n",
    "\n",
    "\n",
    "\n",
    "model_tree = .....Classifier(...)\n",
    "model_tree.fit(X, y)\n",
    "\n",
    "y2_pred = model_tree.predict(X2)\n",
    "\n",
    "\n",
    "predictions=pd.DataFrame()\n",
    "predictions['MLP']=y2_pred\n",
    "\n",
    "predictions.to_csv('telemarketing_predictions.csv')"
   ]
  }
 ],
 "metadata": {
  "kernelspec": {
   "display_name": "Python 3",
   "language": "python",
   "name": "python3"
  },
  "language_info": {
   "codemirror_mode": {
    "name": "ipython",
    "version": 3
   },
   "file_extension": ".py",
   "mimetype": "text/x-python",
   "name": "python",
   "nbconvert_exporter": "python",
   "pygments_lexer": "ipython3",
   "version": "3.8.3"
  }
 },
 "nbformat": 4,
 "nbformat_minor": 4
}
