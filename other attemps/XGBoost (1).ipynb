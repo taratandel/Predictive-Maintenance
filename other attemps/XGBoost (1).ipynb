{
  "nbformat": 4,
  "nbformat_minor": 0,
  "metadata": {
    "accelerator": "GPU",
    "colab": {
      "name": "XGBoost.ipynb",
      "provenance": []
    },
    "kernelspec": {
      "display_name": "Python 3",
      "language": "python",
      "name": "python3"
    },
    "language_info": {
      "codemirror_mode": {
        "name": "ipython",
        "version": 3
      },
      "file_extension": ".py",
      "mimetype": "text/x-python",
      "name": "python",
      "nbconvert_exporter": "python",
      "pygments_lexer": "ipython3",
      "version": "3.8.2"
    }
  },
  "cells": [
    {
      "cell_type": "code",
      "metadata": {
        "id": "7-UUiXU6bwlP"
      },
      "source": [
        "import pandas as pd\n",
        "import numpy as np\n",
        "import os\n",
        "from sklearn.model_selection import train_test_split\n",
        "import xgboost as xgb\n",
        "import warnings\n",
        "warnings.filterwarnings('ignore')"
      ],
      "execution_count": null,
      "outputs": []
    },
    {
      "cell_type": "code",
      "metadata": {
        "id": "DfK4h4KqhfHO"
      },
      "source": [
        "\n",
        "# Evaluation Metrics\n",
        "from sklearn.metrics import precision_score\n",
        "from sklearn.metrics import recall_score\n",
        "from sklearn.metrics import confusion_matrix\n",
        "from sklearn.metrics import precision_recall_curve\n",
        "from sklearn.metrics import average_precision_score\n",
        "from sklearn.metrics import precision_score\n",
        "from sklearn.metrics import recall_score\n",
        "from sklearn.metrics import accuracy_score\n",
        "from sklearn.metrics import roc_curve\n",
        "from sklearn.metrics import roc_auc_score\n",
        "from sklearn.metrics import f1_score\n",
        "from sklearn.metrics import r2_score"
      ],
      "execution_count": null,
      "outputs": []
    },
    {
      "cell_type": "code",
      "metadata": {
        "id": "vchgrL5MckMI"
      },
      "source": [
        "SEED = 1234"
      ],
      "execution_count": null,
      "outputs": []
    },
    {
      "cell_type": "code",
      "metadata": {
        "colab": {
          "base_uri": "https://localhost:8080/"
        },
        "id": "3jXL1gJgWbpy",
        "outputId": "38ce6f95-477d-4a62-c361-5a630459e237"
      },
      "source": [
        "# Load original DataSet and contact_df\n",
        "from google.colab import drive\n",
        "drive.mount('/content/drive') #,force_remount=Truimport os \n",
        "cwd = os.getcwd()\n",
        "dataset_dir = os.path.join(cwd, 'DMTMDataset')\n",
        "# train_df=pd.read_csv(os.path.join(dataset_dir,'train.csv'))\n",
        "dataset_direction='/content/drive/MyDrive/'\n",
        "# !unzip ('/content/drive/MyDrive/')\n",
        "train_df=open(os.path.join(dataset_direction,'train.csv'))\n",
        "original_df=pd.read_csv((train_df))\n",
        "\n",
        "PCA_origin=open(os.path.join(dataset_direction,'PCA_origin.csv'))\n",
        "\n",
        "from numpy import genfromtxt\n",
        "PCA_arr = genfromtxt(PCA_origin, delimiter=',')\n",
        "concat_df=pd.DataFrame(PCA_arr)"
      ],
      "execution_count": null,
      "outputs": [
        {
          "output_type": "stream",
          "text": [
            "Mounted at /content/drive\n"
          ],
          "name": "stdout"
        }
      ]
    },
    {
      "cell_type": "code",
      "metadata": {
        "colab": {
          "base_uri": "https://localhost:8080/"
        },
        "collapsed": true,
        "id": "XRZbOdVPY9vy",
        "outputId": "ee3561a7-03c0-4a46-b845-53bbc3e77dbe"
      },
      "source": [
        "concat_df.describe"
      ],
      "execution_count": null,
      "outputs": [
        {
          "output_type": "execute_result",
          "data": {
            "text/plain": [
              "<bound method NDFrame.describe of               0         1         2   ...        29        30        31\n",
              "0      -0.638963 -0.723192  1.073850  ...  0.025030 -0.178321  0.071160\n",
              "1      -0.643231 -0.908548  1.280059  ...  0.014163  0.119573  0.014776\n",
              "2      -0.630286 -1.024725  1.449132  ...  0.015206  0.299571 -0.017298\n",
              "3      -0.615162 -0.894503  1.380044  ...  0.020561  0.489645 -0.063044\n",
              "4      -0.622776 -1.300381  1.845811  ...  0.016869  0.930811 -0.140841\n",
              "...          ...       ...       ...  ...       ...       ...       ...\n",
              "621295 -0.677910 -0.951450  1.305120  ...  0.004824  0.198475 -0.059389\n",
              "621296 -0.692814 -0.798725  1.111425  ...  0.004765  0.217437 -0.073611\n",
              "621297 -0.693233 -0.784259  1.072286  ...  0.010330  0.111350 -0.045168\n",
              "621298 -0.772449 -0.395100  0.378322  ... -0.002375 -0.109610 -0.021795\n",
              "621299 -0.745592 -0.460563  0.531000  ... -0.000575 -0.053972 -0.031844\n",
              "\n",
              "[621300 rows x 32 columns]>"
            ]
          },
          "metadata": {
            "tags": []
          },
          "execution_count": 6
        }
      ]
    },
    {
      "cell_type": "code",
      "metadata": {
        "id": "RJHNEqELb5_L"
      },
      "source": [
        "# train_data = concat_df.copy()\n",
        "# train_data.head()"
      ],
      "execution_count": null,
      "outputs": []
    },
    {
      "cell_type": "code",
      "metadata": {
        "id": "CmraPQoFCD6j"
      },
      "source": [
        "#shuffle trainDf\n",
        "# train_data.sample(frac=1)"
      ],
      "execution_count": null,
      "outputs": []
    },
    {
      "cell_type": "code",
      "metadata": {
        "id": "72MUtiWGcF6x"
      },
      "source": [
        "# X=train_data.drop(['aircon_sum_target_next14d'], axis=1)\n",
        "# y=train_data['aircon_sum_target_next14d']\n",
        "X = concat_df.copy()\n",
        "y = original_df['aircon_sum_target_next14d']\n"
      ],
      "execution_count": null,
      "outputs": []
    },
    {
      "cell_type": "code",
      "metadata": {
        "id": "_MvlQSyCUOdp"
      },
      "source": [
        "from collections import Counter\n",
        "cn = Counter(y) \n",
        "estimator = cn[0]/cn[1]"
      ],
      "execution_count": null,
      "outputs": []
    },
    {
      "cell_type": "code",
      "metadata": {
        "id": "HsQnTXvS_8F3"
      },
      "source": [
        "X_train, X_test, y_train, y_test = train_test_split(X, y, test_size=0.2, random_state=SEED)"
      ],
      "execution_count": null,
      "outputs": []
    },
    {
      "cell_type": "code",
      "metadata": {
        "id": "sfFm3CDcAITv"
      },
      "source": [
        "# ind_params = {'max_depth': 10, 'n_estimators': 1000, 'learning_rate' : 0.1}"
      ],
      "execution_count": null,
      "outputs": []
    },
    {
      "cell_type": "code",
      "metadata": {
        "colab": {
          "base_uri": "https://localhost:8080/",
          "height": 357
        },
        "id": "B1neZLnNAI6R",
        "outputId": "565f3217-cedc-4166-88f0-131867234d43"
      },
      "source": [
        "# model=xgb.XGBClassifier(**ind_params)\n",
        "# model.fit(X_train,y_train)\n",
        "# y_pred=model.predict(X_test)"
      ],
      "execution_count": null,
      "outputs": [
        {
          "output_type": "stream",
          "text": [
            "[13:20:06] WARNING: /Users/travis/build/dmlc/xgboost/src/learner.cc:1061: Starting in XGBoost 1.3.0, the default evaluation metric used with the objective 'binary:logistic' was changed from 'error' to 'logloss'. Explicitly set eval_metric if you'd like to restore the old behavior.\n"
          ],
          "name": "stdout"
        }
      ]
    },
    {
      "cell_type": "code",
      "metadata": {
        "id": "0heHGT9DUOdx",
        "outputId": "995ae70e-5cec-47b3-b29a-1baec85f7446"
      },
      "source": [
        "# model=xgb.XGBRFClassifier(**ind_params)\n",
        "# model.fit(X_train,y_train)\n",
        "# y_pred=model.predict(X_test)"
      ],
      "execution_count": null,
      "outputs": [
        {
          "output_type": "stream",
          "text": [
            "[14:53:26] WARNING: /Users/travis/build/dmlc/xgboost/src/learner.cc:1061: Starting in XGBoost 1.3.0, the default evaluation metric used with the objective 'binary:logistic' was changed from 'error' to 'logloss'. Explicitly set eval_metric if you'd like to restore the old behavior.\n"
          ],
          "name": "stdout"
        }
      ]
    },
    {
      "cell_type": "code",
      "metadata": {
        "colab": {
          "background_save": true
        },
        "id": "eDZzZeOjUOd0",
        "outputId": "9fa64523-c59c-4b7c-e62f-6d54094079aa"
      },
      "source": [
        "from sklearn.model_selection import GridSearchCV\n",
        "from sklearn.model_selection import StratifiedKFold\n",
        "import matplotlib\n",
        "matplotlib.use('Agg')\n",
        "from matplotlib import pyplot\n",
        "# grid search\n",
        "model=xgb.XGBClassifier(scale_pos_weight=estimator)\n",
        "n_estimators = [200,500]\n",
        "learning_rate = [0.01,0.6]\n",
        "param_grid = dict(learning_rate=learning_rate, n_estimators=n_estimators)\n",
        "kfold = StratifiedKFold(n_splits=5, shuffle=True, random_state=SEED)\n",
        "grid_search = GridSearchCV(model, param_grid, scoring=\"neg_log_loss\", n_jobs=-1, cv=kfold)\n",
        "grid_result = grid_search.fit(X_train, y_train)\n",
        "# summarize results\n",
        "print(\"Best: %f using %s\" % (grid_result.best_score_, grid_result.best_params_))\n",
        "means = grid_result.cv_results_['mean_test_score']\n",
        "stds = grid_result.cv_results_['std_test_score']\n",
        "params = grid_result.cv_results_['params']\n",
        "for mean, stdev, param in zip(means, stds, params):\n",
        "\tprint(\"%f (%f) with: %r\" % (mean, stdev, param))\n"
      ],
      "execution_count": null,
      "outputs": [
        {
          "output_type": "stream",
          "text": [
            "Best: -0.105597 using {'learning_rate': 0.6, 'n_estimators': 500}\n",
            "-0.550557 (0.000583) with: {'learning_rate': 0.01, 'n_estimators': 200}\n",
            "-0.501368 (0.001204) with: {'learning_rate': 0.01, 'n_estimators': 500}\n",
            "-0.220881 (0.002028) with: {'learning_rate': 0.6, 'n_estimators': 200}\n",
            "-0.105597 (0.001593) with: {'learning_rate': 0.6, 'n_estimators': 500}\n"
          ],
          "name": "stdout"
        }
      ]
    },
    {
      "cell_type": "code",
      "metadata": {
        "id": "-uKAeJPheY1g"
      },
      "source": [
        "best_model = grid_result.best_estimator_\r\n",
        "y_pred = best_model.predict(X_test)"
      ],
      "execution_count": null,
      "outputs": []
    },
    {
      "cell_type": "code",
      "metadata": {
        "id": "RoW5UQS9DQ_x",
        "outputId": "f45328fd-7bd2-4d61-97e4-56be263d6b62"
      },
      "source": [
        "print(\"R2:\",r2_score(y_test, y_pred))\n",
        "print(\"\\tAccuracy (Test) %.3f\"%precision_score(y_test, y_pred))\n",
        "print(\"\\t      Precision %.3f\"%precision_score(y_test, y_pred))\n",
        "print(\"\\t      Recall    %.3f\"%recall_score(y_test, y_pred))\n",
        "print(\"\\t      F1        %.3f\"%f1_score(y_test, y_pred))\n",
        "print(\"\\n\")"
      ],
      "execution_count": null,
      "outputs": [
        {
          "output_type": "stream",
          "text": [
            "R2: 0.0653235817798904\n",
            "\tAccuracy (Test) 0.894\n",
            "\t      Precision 0.894\n",
            "\t      Recall    0.080\n",
            "\t      F1        0.147\n",
            "\n",
            "\n"
          ],
          "name": "stdout"
        }
      ]
    },
    {
      "cell_type": "code",
      "metadata": {
        "id": "dZBNuUYBUOeD"
      },
      "source": [
        ""
      ],
      "execution_count": null,
      "outputs": []
    }
  ]
}