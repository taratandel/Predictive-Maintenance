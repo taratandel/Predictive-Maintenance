{
  "nbformat": 4,
  "nbformat_minor": 0,
  "metadata": {
    "kernelspec": {
      "display_name": "Python 3",
      "language": "python",
      "name": "python3"
    },
    "language_info": {
      "codemirror_mode": {
        "name": "ipython",
        "version": 3
      },
      "file_extension": ".py",
      "mimetype": "text/x-python",
      "name": "python",
      "nbconvert_exporter": "python",
      "pygments_lexer": "ipython3",
      "version": "3.8.2"
    },
    "colab": {
      "name": "DMTM2020_Challenge_Part(fixedbugs).ipynb",
      "provenance": []
    }
  },
  "cells": [
    {
      "cell_type": "markdown",
      "metadata": {
        "id": "XC5NjggpAO25"
      },
      "source": [
        "# Data Mining Challenge 2020\n",
        "\n",
        "## Team\n",
        "* First-name Last-name Student-ID\n",
        "* ...\n",
        "\n"
      ]
    },
    {
      "cell_type": "markdown",
      "metadata": {
        "id": "5iyO-aoKAO3K"
      },
      "source": [
        "# section one \n",
        "apply the desired libraries "
      ]
    },
    {
      "cell_type": "code",
      "metadata": {
        "id": "xg7UO3G0AO3M"
      },
      "source": [
        "import pandas as pd\n",
        "import numpy as np\n",
        "import datetime\n",
        "\n",
        "# Statistical libraries\n",
        "from scipy import stats\n",
        "\n",
        "# Plotting libraries\n",
        "import matplotlib.pyplot as plt\n",
        "import seaborn as sns\n",
        "%matplotlib inline\n",
        "\n",
        "# Preprocessing\n",
        "from sklearn.preprocessing import StandardScaler\n",
        "from sklearn.preprocessing import MinMaxScaler\n",
        "from sklearn.preprocessing import power_transform\n",
        "\n",
        "\n",
        "# Evaluation Procedures\n",
        "from sklearn.model_selection import train_test_split\n",
        "from sklearn.model_selection import cross_val_score\n",
        "from sklearn.model_selection import StratifiedKFold\n",
        "\n",
        "# Classification methods\n",
        "from sklearn.linear_model import LogisticRegression\n",
        "from sklearn.naive_bayes import GaussianNB\n",
        "from sklearn.neighbors import KNeighborsClassifier\n",
        "from sklearn.tree import DecisionTreeClassifier\n",
        "\n",
        "from sklearn.ensemble import RandomForestClassifier\n",
        "from sklearn.ensemble import ExtraTreesClassifier\n",
        "from sklearn.ensemble import AdaBoostClassifier\n",
        "from sklearn.ensemble import BaggingClassifier\n",
        "\n",
        "from sklearn.ensemble import VotingClassifier\n",
        "\n",
        "# Evaluation Metrics\n",
        "from sklearn.metrics import precision_score\n",
        "from sklearn.metrics import recall_score\n",
        "from sklearn.metrics import confusion_matrix\n",
        "from sklearn.metrics import precision_recall_curve\n",
        "from sklearn.metrics import average_precision_score\n",
        "from sklearn.metrics import precision_score\n",
        "from sklearn.metrics import recall_score\n",
        "from sklearn.metrics import accuracy_score\n",
        "from sklearn.metrics import roc_curve\n",
        "from sklearn.metrics import roc_auc_score\n",
        "from sklearn.metrics import f1_score"
      ],
      "execution_count": 2,
      "outputs": []
    },
    {
      "cell_type": "markdown",
      "metadata": {
        "id": "JDm2tRanAO3P"
      },
      "source": [
        "# Section two\n",
        "Defin the functions that we will use through out our code "
      ]
    },
    {
      "cell_type": "code",
      "metadata": {
        "id": "tkWUV8_FAO3Q"
      },
      "source": [
        "# print the confusion Matrix\n",
        "def PrintConfusionMatrix(model, true_y, predicted_y, positive=1, negative=-1):\n",
        "    cm = confusion_matrix(true_y,predicted_y)\n",
        "    print(\"\\t\"+str(model.classes_[0])+\"\\t\"+str(model.classes_[1]))\n",
        "    print(str(model.classes_[0]) + \"\\t\",cm[0][0],\"\\t\",cm[0][1])\n",
        "    print(str(model.classes_[1]) + \"\\t\",cm[1][0],\"\\t\",cm[1][1])    \n",
        "\n",
        "def PrintSignificance(stat, c):\n",
        "    if (stat[1]<(1-c)):\n",
        "        print(\"The difference is statistically significant (cf %3.2f p-value=%.4f)\"%(c,stat[1]))\n",
        "    else:\n",
        "        print(\"The difference is not statistically significant (cf %3.2f p-value=%.4f)\"%(c,stat[1]))    "
      ],
      "execution_count": null,
      "outputs": []
    },
    {
      "cell_type": "code",
      "metadata": {
        "id": "itDuKUOPAO3Q"
      },
      "source": [
        "# model training \n",
        "def train_model(methods, x_t,y_t, x_te, y_te):\n",
        "    xval_results = {}\n",
        "    roc_results = {}\n",
        "    feature_importance_model = {}\n",
        "\n",
        "    method = []\n",
        "    accuracy_mean = []\n",
        "    accuracy_std = []\n",
        "    precision = []\n",
        "    recall = []\n",
        "    f1 = []\n",
        "    auc = []\n",
        "\n",
        "    for method_name in methods:\n",
        "\n",
        "\n",
        "        clf = methods[method_name];\n",
        "\n",
        "        # evaluate the model using crossvalidation\n",
        "        xval_score = cross_val_score(clf,X,y,cv=crossvalidation)\n",
        "\n",
        "        # store the raw results of crossvalidation that we might want to use for t-test/mann-whitney comparison\n",
        "        xval_results[method_name] = xval_score\n",
        "\n",
        "        # compute the basic statistics\n",
        "        accuracy_mean.append(np.average(xval_score))\n",
        "        accuracy_std.append(np.std(xval_score))\n",
        "\n",
        "        clf.fit(x_t,y_t)\n",
        "\n",
        "        # if the mode can return an evaluation of feature importance we store it to analyze it later\n",
        "        if hasattr(clf, 'feature_importances_'):\n",
        "                feature_importance_model[method_name] = (clf,clf.feature_importances_)\n",
        "\n",
        "        # compute the prediction which, for probabilistic classifiers, is using a threshold of 0.5\n",
        "        yp = clf.predict(x_te)\n",
        "\n",
        "        # ask for the probability values\n",
        "        yprob = clf.predict_proba(x_te)\n",
        "\n",
        "        # computes the data needed to draw the ROC curve\n",
        "        fpr_nb, tpr_nb, thresholds = roc_curve(y_true=y_te, y_score = yprob[:,1], pos_label=1)\n",
        "\n",
        "        # computes the AUC \n",
        "        roc_auc = roc_auc_score(y_true=y_te, y_score = yprob[:,1])\n",
        "        auc.append(roc_auc)\n",
        "\n",
        "        # store the information to plot the ROC curves afterwards\n",
        "        roc_results[method_name] = (fpr_nb, tpr_nb, thresholds, roc_auc)\n",
        "\n",
        "        precision.append(precision_score(y_te,yp))\n",
        "        recall.append(recall_score(y_te,yp))\n",
        "        f1.append(f1_score(y_te, yp))\n",
        "\n",
        "        print(\"%40s\"%method_name)\n",
        "        print(\"========================================\")\n",
        "        print(\"\\t  Accuracy (CV) %.3f %.3f\"%(np.average(xval_score),np.std(xval_score)))\n",
        "        print(\"\\tAccuracy (Test) %.3f\"%precision_score(y_test, yp))\n",
        "        print(\"\\t      Precision %.3f\"%precision_score(y_test, yp))\n",
        "        print(\"\\t      Recall    %.3f\"%recall_score(y_test, yp))\n",
        "        print(\"\\t      F1        %.3f\"%f1_score(y_test, yp))\n",
        "        print(\"\\n\")\n",
        "\n",
        "        method.append(method_name)"
      ],
      "execution_count": null,
      "outputs": []
    },
    {
      "cell_type": "markdown",
      "metadata": {
        "id": "za8Wue3gAO3S"
      },
      "source": [
        "This function print all the datas "
      ]
    },
    {
      "cell_type": "code",
      "metadata": {
        "id": "8Qi8lZkQAO3S"
      },
      "source": [
        "def print_all (to_print):\n",
        "    with pd.option_context('display.max_rows', None, 'display.max_columns', None):  # more options can be specified also\n",
        "        print(to_print)"
      ],
      "execution_count": null,
      "outputs": []
    },
    {
      "cell_type": "code",
      "metadata": {
        "id": "_GkbE_tMAO3T"
      },
      "source": [
        "def print_his(dat0a, bins):\n",
        "    hist1 = sns.distplot(data,bins=bins)"
      ],
      "execution_count": null,
      "outputs": []
    },
    {
      "cell_type": "code",
      "metadata": {
        "id": "c4UPnzDM9vgz"
      },
      "source": [
        "def new_numerical_df(numerical_dic, Numerical_df):\r\n",
        "  i = 0\r\n",
        "  while(i<len(numerical_dic)):\r\n",
        "    if list(numerical_dic.keys())[i] == 'aircon_sum_wo_prev':\r\n",
        "      index=2\r\n",
        "    else:\r\n",
        "      index = 3\r\n",
        "    \r\n",
        "    df_new = Numerical_df[Numerical_df.columns[(list(numerical_dic.values())[i]):(list(numerical_dic.values())[i]+index)]]\r\n",
        "    Numerical_df['ind_' + list(numerical_dic.keys())[i]] = df_new.mean(axis=1)\r\n",
        "\r\n",
        "    i= i+1\r\n",
        "\r\n",
        "  # Numerical_df = Numerical_df.drop(columns = ['aircon_sum_wo_prev7d','aircon_sum_wo_prev14d'])\r\n",
        "  Numerical_df=Numerical_df.drop(Numerical_df.columns.to_series()['aircon_sum_wo_prev7d':'min_pressure_f_next7d'], axis=1)\r\n",
        "  return Numerical_df\r\n",
        "\r\n",
        "def sorted_m3_numerical_values(numerical_df):\r\n",
        "  sorted_Numerical_df = numerical_df.reindex(sorted(numerical_df.columns, reverse=True), axis=1)\r\n",
        "  sorted_Numerical_columns_list = (list(sorted_Numerical_df.columns))\r\n",
        "  New_Numerical_columns_list = []\r\n",
        "  for column in sorted_Numerical_columns_list:\r\n",
        "    New_column = column.replace('_',' ')\r\n",
        "    New_Numerical_columns_list.append(New_column)\r\n",
        "\r\n",
        "  New_Numerical_columns_list.sort(key=lambda s: s.split()[1])\r\n",
        "\r\n",
        "  sorted_Numerical_columns_list.clear()\r\n",
        "  for column in New_Numerical_columns_list:\r\n",
        "    New_column = column.replace(' ','_')\r\n",
        "    sorted_Numerical_columns_list.append(New_column)\r\n",
        "  \r\n",
        "  #drop the dataframe\r\n",
        "  sorted_Numerical_df = sorted_Numerical_df.iloc[0:0]\r\n",
        "  \r\n",
        "  sorted_Numerical_df = numerical_df[sorted_Numerical_columns_list]\r\n",
        "  return sorted_Numerical_df\r\n",
        "\r\n",
        "\r\n"
      ],
      "execution_count": 30,
      "outputs": []
    },
    {
      "cell_type": "code",
      "metadata": {
        "id": "SI2Yzj7XGvKz"
      },
      "source": [
        ""
      ],
      "execution_count": null,
      "outputs": []
    },
    {
      "cell_type": "markdown",
      "metadata": {
        "id": "VC_QSjZ7AO3U"
      },
      "source": [
        "# Section Three \n",
        "Apply data preprocessing we can see that the categorical datas are already One-Hot encoded \n",
        "\n",
        "### 3.1 loading the data and split test and train"
      ]
    },
    {
      "cell_type": "code",
      "metadata": {
        "id": "6sDSUcTpAO3U"
      },
      "source": [
        "# load the data\n",
        "df = pd.read_csv('train.csv')"
      ],
      "execution_count": 4,
      "outputs": []
    },
    {
      "cell_type": "markdown",
      "metadata": {
        "id": "_PXb8WArAO3V"
      },
      "source": [
        "### 3.2 Data Quality assurnace \n",
        "we should check for:\n",
        "\n",
        "3.2.1- null and missing values \n",
        "\n",
        "3.2.2- inconsistant values \n",
        "\n",
        "3.2.3- duplicates"
      ]
    },
    {
      "cell_type": "markdown",
      "metadata": {
        "id": "ABdylO46EocE"
      },
      "source": [
        "Date encodes a lot of information that is unusable when contained in one variable. So first, let's extract all the information."
      ]
    },
    {
      "cell_type": "code",
      "metadata": {
        "id": "NeWrdcv3Ensw"
      },
      "source": [
        "df['month'] = df['DATE'].apply(lambda x: datetime.datetime.strptime(x,\"%Y-%m-%d\").month)  \r\n",
        "df['year'] = df['DATE'].apply(lambda x: datetime.datetime.strptime(x,\"%Y-%m-%d\").year)                                                                         \r\n",
        "df['weekday'] = df['DATE'].apply(lambda x: datetime.datetime.strptime(x,\"%Y-%m-%d\").weekday())"
      ],
      "execution_count": 5,
      "outputs": []
    },
    {
      "cell_type": "code",
      "metadata": {
        "id": "Yir4L5yDAO3V"
      },
      "source": [
        "# check for the null \n",
        "df_na = (df.isnull().sum()).sort_values(ascending = False)\n",
        "df_na = df_na.drop(df_na[df_na.values == 0].index)\n",
        "\n",
        "Missing_data = pd.DataFrame({'Missing Numbers' :df_na})\n",
        "print(Missing_data)"
      ],
      "execution_count": null,
      "outputs": []
    },
    {
      "cell_type": "markdown",
      "metadata": {
        "id": "_yyqyQrgAO3X"
      },
      "source": [
        "we see that there are no NaN values"
      ]
    },
    {
      "cell_type": "code",
      "metadata": {
        "id": "qWuoM_10AO3Y"
      },
      "source": [
        "# remove the duplicates if any \n",
        "df.drop_duplicates()\n",
        "# drop the unused columns\n",
        "df = df.drop(columns=['SITE_ID','DATE'])"
      ],
      "execution_count": 6,
      "outputs": []
    },
    {
      "cell_type": "markdown",
      "metadata": {
        "id": "g1WK-oJkAO3Y"
      },
      "source": [
        "we the commad above we have no duplicates if any "
      ]
    },
    {
      "cell_type": "markdown",
      "metadata": {
        "id": "n_Y47dK0AO3Y"
      },
      "source": [
        "Now we check for inconsistent values\n",
        "First we take the range and variance for each column "
      ]
    },
    {
      "cell_type": "code",
      "metadata": {
        "id": "YJr4vtvXAO3Z"
      },
      "source": [
        "col_max = df.max(axis=0)"
      ],
      "execution_count": null,
      "outputs": []
    },
    {
      "cell_type": "code",
      "metadata": {
        "id": "Q88cyFqDAO3Z"
      },
      "source": [
        "col_min = df.min(axis=0)"
      ],
      "execution_count": null,
      "outputs": []
    },
    {
      "cell_type": "code",
      "metadata": {
        "id": "l8XBhB3aAO3Z"
      },
      "source": [
        "df_range = col_max - col_min\n",
        "print(df_range.sort_values())"
      ],
      "execution_count": null,
      "outputs": []
    },
    {
      "cell_type": "markdown",
      "metadata": {
        "id": "mqs7CXUYAO3b"
      },
      "source": [
        "we see that CELL_TYPE_TRP is always zero so it is useless to have it in our datas so we drop it"
      ]
    },
    {
      "cell_type": "code",
      "metadata": {
        "id": "G6NpSV08AO3b"
      },
      "source": [
        "df = df.drop(columns = ['CELL_TYPE_TRP'])"
      ],
      "execution_count": null,
      "outputs": []
    },
    {
      "cell_type": "code",
      "metadata": {
        "colab": {
          "base_uri": "https://localhost:8080/"
        },
        "id": "zQxfmAK_AO3c",
        "outputId": "24d8f0c0-1b41-4f64-bb9e-e81ffb467442"
      },
      "source": [
        "df_mean = df.mean()\n",
        "print(df_mean.sort_values())"
      ],
      "execution_count": null,
      "outputs": [
        {
          "output_type": "stream",
          "text": [
            "kurt_ge_alarms_prev14d               -1.208560\n",
            "kurt_fire/smoke_alarms_prev14d       -1.207841\n",
            "kurt_temperature_alarms_prev14d      -1.198327\n",
            "kurt_equipment_alarms_prev14d        -1.190338\n",
            "kurt_power_alarms_prev14d            -1.149931\n",
            "                                      ...     \n",
            "max_pressure_prev3d                1019.379032\n",
            "max_pressure_prev7d                1022.048299\n",
            "max_pressure_f_next7d              1022.172576\n",
            "max_pressure_f_next14d             1024.813536\n",
            "year                               2019.113295\n",
            "Length: 137, dtype: float64\n"
          ],
          "name": "stdout"
        }
      ]
    },
    {
      "cell_type": "code",
      "metadata": {
        "colab": {
          "base_uri": "https://localhost:8080/"
        },
        "id": "9xIqjKIMAO3c",
        "outputId": "f241411c-65e2-4311-dccc-61bba78453d5"
      },
      "source": [
        "df_var = df.var()\n",
        "df_var.sort_values()"
      ],
      "execution_count": null,
      "outputs": [
        {
          "output_type": "execute_result",
          "data": {
            "text/plain": [
              "CELL_TYPE_Mobil                             0.000000\n",
              "CELL_TYPE_TRP                               0.000000\n",
              "GEOGRAPHIC_CLUSTER_K_9                      0.000000\n",
              "GEOGRAPHIC_CLUSTER_K_0                      0.000000\n",
              "GEOGRAPHIC_CLUSTER_K_3                      0.000000\n",
              "                                           ...      \n",
              "equipment_max_persistance_prev3d        75484.922860\n",
              "temperature_mean_persistance_prev3d     79314.004293\n",
              "equipment_max_persistance_prev7d       170353.390543\n",
              "temperature_max_persistance_prev3d     185816.886139\n",
              "temperature_max_persistance_prev7d     295313.915387\n",
              "Length: 137, dtype: float64"
            ]
          },
          "metadata": {
            "tags": []
          },
          "execution_count": 26
        }
      ]
    },
    {
      "cell_type": "code",
      "metadata": {
        "id": "kSADu9EDAO3d"
      },
      "source": [
        "df_std = df.std()\n",
        "df_std.sort_values()"
      ],
      "execution_count": null,
      "outputs": []
    },
    {
      "cell_type": "markdown",
      "metadata": {
        "id": "3NyztS59AO3d"
      },
      "source": [
        "Data can be inconsistent if there is an irrelevant value so we should print all of them to se if there is some inconsistency "
      ]
    },
    {
      "cell_type": "code",
      "metadata": {
        "id": "2aWhLraQAO3e"
      },
      "source": [
        "df_sem = df.sem()\n",
        "df_sem.sort_values()"
      ],
      "execution_count": null,
      "outputs": []
    },
    {
      "cell_type": "markdown",
      "metadata": {
        "id": "jYZSUh7dAO3e"
      },
      "source": [
        "from the statistics above we can understand that it is possible that we have outliers so first we check if there is any Inconsistentcy in the types of the data and then we plot to understand better how can we remove the outliers "
      ]
    },
    {
      "cell_type": "code",
      "metadata": {
        "id": "MEcSzbJpAO3e"
      },
      "source": [
        "with pd.option_context('display.max_rows', None, 'display.max_columns', None):  # more options can be specified also\n",
        "    print(df.dtypes)"
      ],
      "execution_count": null,
      "outputs": []
    },
    {
      "cell_type": "markdown",
      "metadata": {
        "id": "4fdNdcdtAO3f"
      },
      "source": [
        "As we can see there are no inconsistentcies in the types sp we continue with data visualisation "
      ]
    },
    {
      "cell_type": "markdown",
      "metadata": {
        "id": "-r91hgEfAO3f"
      },
      "source": [
        "### 3.3 Data visualisation\n",
        "\n",
        "In here first we try to visualize our data and understand better their distribution"
      ]
    },
    {
      "cell_type": "code",
      "metadata": {
        "id": "XpAEoJDPAO3g"
      },
      "source": [
        "df.hist(figsize = (60,60))"
      ],
      "execution_count": null,
      "outputs": []
    },
    {
      "cell_type": "markdown",
      "metadata": {
        "id": "5sY_Vg-TAO3g"
      },
      "source": [
        "as we can see all the datas does not have Gaussian like distibution so using the 'yeo-johnson' we make them as much as possible to gain the Gaussian like distribution.\n",
        "\n",
        "since our categorical data had the one hot encoding transformation we need to remove the "
      ]
    },
    {
      "cell_type": "code",
      "metadata": {
        "colab": {
          "base_uri": "https://localhost:8080/"
        },
        "id": "tXU9qTkbAO3h",
        "outputId": "2a1dc4ae-57ec-4965-8d51-eeaeb7e3fda8"
      },
      "source": [
        "new_data = df.copy(deep=True)\n",
        "new_data = new_data.drop(columns= ['CELL_TYPE_Macro','CELL_TYPE_Mobil','CELL_TYPE_Tx site','CELL_TYPE_micro','GEOGRAPHIC_CLUSTER_K_0','GEOGRAPHIC_CLUSTER_K_1','GEOGRAPHIC_CLUSTER_K_2','GEOGRAPHIC_CLUSTER_K_3','GEOGRAPHIC_CLUSTER_K_4','GEOGRAPHIC_CLUSTER_K_5','GEOGRAPHIC_CLUSTER_K_6','GEOGRAPHIC_CLUSTER_K_7','GEOGRAPHIC_CLUSTER_K_8','GEOGRAPHIC_CLUSTER_K_9'])\n",
        "new_data_np = power_transform(new_data, method = 'yeo-johnson')\n",
        "new_data_pd = pd.DataFrame(new_data_np, columns =new_data.columns)"
      ],
      "execution_count": null,
      "outputs": [
        {
          "output_type": "stream",
          "text": [
            "/usr/local/lib/python3.6/dist-packages/sklearn/preprocessing/_data.py:2982: RuntimeWarning: divide by zero encountered in log\n",
            "  loglike = -n_samples / 2 * np.log(x_trans.var())\n"
          ],
          "name": "stderr"
        }
      ]
    },
    {
      "cell_type": "code",
      "metadata": {
        "id": "fHhz9CItAO3h"
      },
      "source": [
        "new_data_pd.hist(figsize=(60,60))"
      ],
      "execution_count": null,
      "outputs": []
    },
    {
      "cell_type": "markdown",
      "metadata": {
        "id": "oeVukW_CAO3i"
      },
      "source": [
        "### 3.4 feature aggregation "
      ]
    },
    {
      "cell_type": "markdown",
      "metadata": {
        "id": "ousNGJJUA4Qw"
      },
      "source": [
        "Get all mean, max and min values for the same numerical variables belonging to prevXd or nextXd and do a function in order to have one indicatioe columns instead of 3 columns"
      ]
    },
    {
      "cell_type": "code",
      "metadata": {
        "id": "HOd8CdntA2ro"
      },
      "source": [
        "numerical_dic = {'temperature_prev7d':3,'temperature_prev3d':6, 'rain_mm_prev7d': 9, 'rain_mm_prev3d': 12, 'humidity_prev7d' : 15,'humidity_prev3d':18, 'wind_speed_prev7d':21 , 'wind_speed_prev3d':24, 'wind_speed_prev7d' : 27, 'wind_speed_prev3d': 30, 'pressure_prev7d':33, 'pressure_prev3d': 36, 'temperature_f_next14d': 39, 'temperature_f_next7d': 42, 'rain_mm_f_next14d':45, 'rain_mm_f_next7d':48, 'humidity_f_next14d':51, 'humidity_f_next7d' : 54, 'speed_f_next14d':57, 'speed_f_next7d':60, 'pressure_f_next14d':63, 'pressure_f_next7d':66,       }\r\n",
        "Numerical_df = df.loc[: , 'aircon_sum_wo_prev7d':'min_pressure_f_next7d']\r\n"
      ],
      "execution_count": null,
      "outputs": []
    },
    {
      "cell_type": "code",
      "metadata": {
        "id": "NCUbm7dbA2rw"
      },
      "source": [
        "New_Numerical_sort_by_same_preXd = new_numerical_df(numerical_dic, Numerical_df)"
      ],
      "execution_count": null,
      "outputs": []
    },
    {
      "cell_type": "code",
      "metadata": {
        "id": "QRTj_BBqM1Og"
      },
      "source": [
        "New_Numerical_sort_by_same_preXd"
      ],
      "execution_count": null,
      "outputs": []
    },
    {
      "cell_type": "markdown",
      "metadata": {
        "id": "XczsoErrVQiH"
      },
      "source": [
        "Split the origin DataFrame to subdataframes and sort them according to the duration days (3,7,14)"
      ]
    },
    {
      "cell_type": "code",
      "metadata": {
        "id": "ziXWKYP5bq9h"
      },
      "source": [
        "categorical_df = df.loc[: ,'CELL_TYPE_Macro':'CELL_TYPE_micro'] + df.loc[: ,'GEOGRAPHIC_CLUSTER_K_0':'GEOGRAPHIC_CLUSTER_K_9']\r\n",
        "aircon_sum_wo_df = df.loc[:, 'aircon_sum_wo_prev7d' : 'aircon_sum_target_next14d']\r\n",
        "N_TRANSPORTED_SITES_df = df.loc[:,'N_TRANSPORTED_SITES']\r\n",
        "Numerical_df = df.loc[: , 'mean_temperature_prev7d':'min_pressure_f_next7d']\r\n",
        "Numerical_df = sorted_m3_numerical_values(Numerical_df)\r\n",
        "alarm_df = df.loc[: , 'equipment_sum_alarms_prev14d':'temperature_sum_alarms_prev3d']\r\n",
        "alarm_df = alarm_df.reindex(sorted(alarm_df.columns, reverse=True), axis=1)\r\n",
        "persistance_df = (df.loc[:, 'equipment_max_persistance_prev7d': 'temperature_min_persistance_prev3d'])\r\n",
        "persistance_df = persistance_df.reindex(sorted(persistance_df.columns, reverse=True), axis=1)\r\n",
        "skewKurt_df = df.loc[:,'skew_equipment_alarms_prev14d': 'kurt_temperature_alarms_prev14d']"
      ],
      "execution_count": 31,
      "outputs": []
    },
    {
      "cell_type": "code",
      "metadata": {
        "colab": {
          "base_uri": "https://localhost:8080/",
          "height": 224
        },
        "id": "16C5w0ItQZrJ",
        "outputId": "fb9847e4-67ef-4ffb-e61a-e0cb6da2107f"
      },
      "source": [
        "Numerical_df.head()"
      ],
      "execution_count": 33,
      "outputs": [
        {
          "output_type": "execute_result",
          "data": {
            "text/html": [
              "<div>\n",
              "<style scoped>\n",
              "    .dataframe tbody tr th:only-of-type {\n",
              "        vertical-align: middle;\n",
              "    }\n",
              "\n",
              "    .dataframe tbody tr th {\n",
              "        vertical-align: top;\n",
              "    }\n",
              "\n",
              "    .dataframe thead th {\n",
              "        text-align: right;\n",
              "    }\n",
              "</style>\n",
              "<table border=\"1\" class=\"dataframe\">\n",
              "  <thead>\n",
              "    <tr style=\"text-align: right;\">\n",
              "      <th></th>\n",
              "      <th>min_humidity_prev7d</th>\n",
              "      <th>min_humidity_prev3d</th>\n",
              "      <th>min_humidity_f_next7d</th>\n",
              "      <th>min_humidity_f_next14d</th>\n",
              "      <th>mean_humidity_prev7d</th>\n",
              "      <th>mean_humidity_prev3d</th>\n",
              "      <th>mean_humidity_f_next7d</th>\n",
              "      <th>mean_humidity_f_next14d</th>\n",
              "      <th>max_humidity_prev7d</th>\n",
              "      <th>max_humidity_prev3d</th>\n",
              "      <th>max_humidity_f_next7d</th>\n",
              "      <th>max_humidity_f_next14d</th>\n",
              "      <th>min_pressure_prev7d</th>\n",
              "      <th>min_pressure_prev3d</th>\n",
              "      <th>min_pressure_f_next7d</th>\n",
              "      <th>min_pressure_f_next14d</th>\n",
              "      <th>mean_pressure_prev7d</th>\n",
              "      <th>mean_pressure_prev3d</th>\n",
              "      <th>mean_pressure_f_next7d</th>\n",
              "      <th>mean_pressure_f_next14d</th>\n",
              "      <th>max_pressure_prev7d</th>\n",
              "      <th>max_pressure_prev3d</th>\n",
              "      <th>max_pressure_f_next7d</th>\n",
              "      <th>max_pressure_f_next14d</th>\n",
              "      <th>min_rain_mm_prev7d</th>\n",
              "      <th>min_rain_mm_prev3d</th>\n",
              "      <th>min_rain_mm_f_next7d</th>\n",
              "      <th>min_rain_mm_f_next14d</th>\n",
              "      <th>mean_rain_mm_prev7d</th>\n",
              "      <th>mean_rain_mm_prev3d</th>\n",
              "      <th>mean_rain_mm_f_next7d</th>\n",
              "      <th>mean_rain_mm_f_next14d</th>\n",
              "      <th>max_rain_mm_prev7d</th>\n",
              "      <th>max_rain_mm_prev3d</th>\n",
              "      <th>max_rain_mm_f_next7d</th>\n",
              "      <th>max_rain_mm_f_next14d</th>\n",
              "      <th>min_temperature_prev7d</th>\n",
              "      <th>min_temperature_prev3d</th>\n",
              "      <th>min_temperature_f_next7d</th>\n",
              "      <th>min_temperature_f_next14d</th>\n",
              "      <th>mean_temperature_prev7d</th>\n",
              "      <th>mean_temperature_prev3d</th>\n",
              "      <th>mean_temperature_f_next7d</th>\n",
              "      <th>mean_temperature_f_next14d</th>\n",
              "      <th>max_temperature_prev7d</th>\n",
              "      <th>max_temperature_prev3d</th>\n",
              "      <th>max_temperature_f_next7d</th>\n",
              "      <th>max_temperature_f_next14d</th>\n",
              "      <th>min_wind_speed_prev7d</th>\n",
              "      <th>min_wind_speed_prev3d</th>\n",
              "      <th>min_wind_speed_f_next7d</th>\n",
              "      <th>min_wind_speed_f_next14d</th>\n",
              "      <th>mean_wind_speed_prev7d</th>\n",
              "      <th>mean_wind_speed_prev3d</th>\n",
              "      <th>mean_wind_speed_f_next7d</th>\n",
              "      <th>mean_wind_speed_f_next14d</th>\n",
              "      <th>max_wind_speed_prev7d</th>\n",
              "      <th>max_wind_speed_prev3d</th>\n",
              "      <th>max_wind_speed_f_next7d</th>\n",
              "      <th>max_wind_speed_f_next14d</th>\n",
              "    </tr>\n",
              "  </thead>\n",
              "  <tbody>\n",
              "    <tr>\n",
              "      <th>0</th>\n",
              "      <td>45.0</td>\n",
              "      <td>58.0</td>\n",
              "      <td>63.0</td>\n",
              "      <td>58.0</td>\n",
              "      <td>62.71</td>\n",
              "      <td>70.67</td>\n",
              "      <td>80.00</td>\n",
              "      <td>74.29</td>\n",
              "      <td>81.0</td>\n",
              "      <td>81.0</td>\n",
              "      <td>89.0</td>\n",
              "      <td>89.0</td>\n",
              "      <td>1006.0</td>\n",
              "      <td>1006.0</td>\n",
              "      <td>1009.0</td>\n",
              "      <td>1009.0</td>\n",
              "      <td>1013.00</td>\n",
              "      <td>1008.00</td>\n",
              "      <td>1016.14</td>\n",
              "      <td>1020.71</td>\n",
              "      <td>1022.0</td>\n",
              "      <td>1010.0</td>\n",
              "      <td>1020.0</td>\n",
              "      <td>1028.0</td>\n",
              "      <td>0.0</td>\n",
              "      <td>0.3</td>\n",
              "      <td>0.2</td>\n",
              "      <td>0.1</td>\n",
              "      <td>1.33</td>\n",
              "      <td>3.10</td>\n",
              "      <td>6.41</td>\n",
              "      <td>4.79</td>\n",
              "      <td>8.5</td>\n",
              "      <td>8.5</td>\n",
              "      <td>19.6</td>\n",
              "      <td>19.6</td>\n",
              "      <td>6.0</td>\n",
              "      <td>9.0</td>\n",
              "      <td>5.0</td>\n",
              "      <td>5.0</td>\n",
              "      <td>10.29</td>\n",
              "      <td>12.00</td>\n",
              "      <td>6.14</td>\n",
              "      <td>8.00</td>\n",
              "      <td>14.0</td>\n",
              "      <td>14.0</td>\n",
              "      <td>9.0</td>\n",
              "      <td>12.0</td>\n",
              "      <td>5.0</td>\n",
              "      <td>5.0</td>\n",
              "      <td>10.0</td>\n",
              "      <td>5.0</td>\n",
              "      <td>11.43</td>\n",
              "      <td>8.00</td>\n",
              "      <td>13.86</td>\n",
              "      <td>12.86</td>\n",
              "      <td>16.0</td>\n",
              "      <td>12.0</td>\n",
              "      <td>17.0</td>\n",
              "      <td>17.0</td>\n",
              "    </tr>\n",
              "    <tr>\n",
              "      <th>1</th>\n",
              "      <td>51.0</td>\n",
              "      <td>71.0</td>\n",
              "      <td>63.0</td>\n",
              "      <td>58.0</td>\n",
              "      <td>66.43</td>\n",
              "      <td>75.00</td>\n",
              "      <td>79.86</td>\n",
              "      <td>72.93</td>\n",
              "      <td>81.0</td>\n",
              "      <td>81.0</td>\n",
              "      <td>89.0</td>\n",
              "      <td>89.0</td>\n",
              "      <td>1006.0</td>\n",
              "      <td>1006.0</td>\n",
              "      <td>1013.0</td>\n",
              "      <td>1013.0</td>\n",
              "      <td>1010.86</td>\n",
              "      <td>1007.00</td>\n",
              "      <td>1018.71</td>\n",
              "      <td>1021.71</td>\n",
              "      <td>1017.0</td>\n",
              "      <td>1008.0</td>\n",
              "      <td>1027.0</td>\n",
              "      <td>1028.0</td>\n",
              "      <td>0.0</td>\n",
              "      <td>0.3</td>\n",
              "      <td>0.2</td>\n",
              "      <td>0.1</td>\n",
              "      <td>1.90</td>\n",
              "      <td>4.27</td>\n",
              "      <td>4.63</td>\n",
              "      <td>3.52</td>\n",
              "      <td>8.5</td>\n",
              "      <td>8.5</td>\n",
              "      <td>12.5</td>\n",
              "      <td>12.5</td>\n",
              "      <td>9.0</td>\n",
              "      <td>9.0</td>\n",
              "      <td>5.0</td>\n",
              "      <td>5.0</td>\n",
              "      <td>11.71</td>\n",
              "      <td>13.00</td>\n",
              "      <td>5.86</td>\n",
              "      <td>8.50</td>\n",
              "      <td>16.0</td>\n",
              "      <td>16.0</td>\n",
              "      <td>8.0</td>\n",
              "      <td>16.0</td>\n",
              "      <td>5.0</td>\n",
              "      <td>5.0</td>\n",
              "      <td>10.0</td>\n",
              "      <td>5.0</td>\n",
              "      <td>11.57</td>\n",
              "      <td>8.00</td>\n",
              "      <td>13.29</td>\n",
              "      <td>12.57</td>\n",
              "      <td>16.0</td>\n",
              "      <td>12.0</td>\n",
              "      <td>17.0</td>\n",
              "      <td>17.0</td>\n",
              "    </tr>\n",
              "    <tr>\n",
              "      <th>2</th>\n",
              "      <td>58.0</td>\n",
              "      <td>71.0</td>\n",
              "      <td>63.0</td>\n",
              "      <td>58.0</td>\n",
              "      <td>71.71</td>\n",
              "      <td>77.33</td>\n",
              "      <td>78.43</td>\n",
              "      <td>72.00</td>\n",
              "      <td>88.0</td>\n",
              "      <td>88.0</td>\n",
              "      <td>89.0</td>\n",
              "      <td>89.0</td>\n",
              "      <td>1006.0</td>\n",
              "      <td>1006.0</td>\n",
              "      <td>1016.0</td>\n",
              "      <td>1016.0</td>\n",
              "      <td>1009.71</td>\n",
              "      <td>1007.33</td>\n",
              "      <td>1020.57</td>\n",
              "      <td>1022.14</td>\n",
              "      <td>1015.0</td>\n",
              "      <td>1009.0</td>\n",
              "      <td>1027.0</td>\n",
              "      <td>1028.0</td>\n",
              "      <td>0.0</td>\n",
              "      <td>0.3</td>\n",
              "      <td>0.2</td>\n",
              "      <td>0.1</td>\n",
              "      <td>4.70</td>\n",
              "      <td>7.97</td>\n",
              "      <td>5.61</td>\n",
              "      <td>3.63</td>\n",
              "      <td>19.6</td>\n",
              "      <td>19.6</td>\n",
              "      <td>12.5</td>\n",
              "      <td>12.5</td>\n",
              "      <td>9.0</td>\n",
              "      <td>9.0</td>\n",
              "      <td>5.0</td>\n",
              "      <td>5.0</td>\n",
              "      <td>11.57</td>\n",
              "      <td>13.00</td>\n",
              "      <td>6.29</td>\n",
              "      <td>9.36</td>\n",
              "      <td>16.0</td>\n",
              "      <td>16.0</td>\n",
              "      <td>11.0</td>\n",
              "      <td>20.0</td>\n",
              "      <td>5.0</td>\n",
              "      <td>5.0</td>\n",
              "      <td>10.0</td>\n",
              "      <td>5.0</td>\n",
              "      <td>11.71</td>\n",
              "      <td>10.67</td>\n",
              "      <td>13.57</td>\n",
              "      <td>12.29</td>\n",
              "      <td>16.0</td>\n",
              "      <td>15.0</td>\n",
              "      <td>17.0</td>\n",
              "      <td>17.0</td>\n",
              "    </tr>\n",
              "    <tr>\n",
              "      <th>3</th>\n",
              "      <td>58.0</td>\n",
              "      <td>71.0</td>\n",
              "      <td>63.0</td>\n",
              "      <td>58.0</td>\n",
              "      <td>74.29</td>\n",
              "      <td>80.33</td>\n",
              "      <td>75.14</td>\n",
              "      <td>70.07</td>\n",
              "      <td>88.0</td>\n",
              "      <td>88.0</td>\n",
              "      <td>89.0</td>\n",
              "      <td>89.0</td>\n",
              "      <td>1006.0</td>\n",
              "      <td>1007.0</td>\n",
              "      <td>1017.0</td>\n",
              "      <td>1012.0</td>\n",
              "      <td>1009.43</td>\n",
              "      <td>1009.67</td>\n",
              "      <td>1022.29</td>\n",
              "      <td>1021.86</td>\n",
              "      <td>1013.0</td>\n",
              "      <td>1013.0</td>\n",
              "      <td>1028.0</td>\n",
              "      <td>1028.0</td>\n",
              "      <td>0.0</td>\n",
              "      <td>0.5</td>\n",
              "      <td>0.2</td>\n",
              "      <td>0.1</td>\n",
              "      <td>4.77</td>\n",
              "      <td>8.03</td>\n",
              "      <td>5.27</td>\n",
              "      <td>3.40</td>\n",
              "      <td>19.6</td>\n",
              "      <td>19.6</td>\n",
              "      <td>12.5</td>\n",
              "      <td>12.5</td>\n",
              "      <td>8.0</td>\n",
              "      <td>8.0</td>\n",
              "      <td>5.0</td>\n",
              "      <td>5.0</td>\n",
              "      <td>11.29</td>\n",
              "      <td>11.00</td>\n",
              "      <td>6.86</td>\n",
              "      <td>10.57</td>\n",
              "      <td>16.0</td>\n",
              "      <td>16.0</td>\n",
              "      <td>11.0</td>\n",
              "      <td>22.0</td>\n",
              "      <td>5.0</td>\n",
              "      <td>12.0</td>\n",
              "      <td>9.0</td>\n",
              "      <td>5.0</td>\n",
              "      <td>11.43</td>\n",
              "      <td>13.33</td>\n",
              "      <td>13.14</td>\n",
              "      <td>12.14</td>\n",
              "      <td>16.0</td>\n",
              "      <td>15.0</td>\n",
              "      <td>17.0</td>\n",
              "      <td>17.0</td>\n",
              "    </tr>\n",
              "    <tr>\n",
              "      <th>4</th>\n",
              "      <td>58.0</td>\n",
              "      <td>82.0</td>\n",
              "      <td>63.0</td>\n",
              "      <td>58.0</td>\n",
              "      <td>77.29</td>\n",
              "      <td>86.00</td>\n",
              "      <td>72.86</td>\n",
              "      <td>69.07</td>\n",
              "      <td>88.0</td>\n",
              "      <td>88.0</td>\n",
              "      <td>89.0</td>\n",
              "      <td>89.0</td>\n",
              "      <td>1006.0</td>\n",
              "      <td>1009.0</td>\n",
              "      <td>1018.0</td>\n",
              "      <td>1009.0</td>\n",
              "      <td>1009.86</td>\n",
              "      <td>1012.67</td>\n",
              "      <td>1023.00</td>\n",
              "      <td>1021.29</td>\n",
              "      <td>1016.0</td>\n",
              "      <td>1016.0</td>\n",
              "      <td>1028.0</td>\n",
              "      <td>1028.0</td>\n",
              "      <td>0.3</td>\n",
              "      <td>0.5</td>\n",
              "      <td>0.2</td>\n",
              "      <td>0.1</td>\n",
              "      <td>5.39</td>\n",
              "      <td>8.13</td>\n",
              "      <td>5.23</td>\n",
              "      <td>3.49</td>\n",
              "      <td>19.6</td>\n",
              "      <td>19.6</td>\n",
              "      <td>12.5</td>\n",
              "      <td>12.5</td>\n",
              "      <td>5.0</td>\n",
              "      <td>5.0</td>\n",
              "      <td>5.0</td>\n",
              "      <td>5.0</td>\n",
              "      <td>10.57</td>\n",
              "      <td>7.33</td>\n",
              "      <td>7.86</td>\n",
              "      <td>11.50</td>\n",
              "      <td>16.0</td>\n",
              "      <td>9.0</td>\n",
              "      <td>12.0</td>\n",
              "      <td>22.0</td>\n",
              "      <td>5.0</td>\n",
              "      <td>12.0</td>\n",
              "      <td>5.0</td>\n",
              "      <td>5.0</td>\n",
              "      <td>10.86</td>\n",
              "      <td>13.33</td>\n",
              "      <td>11.71</td>\n",
              "      <td>11.64</td>\n",
              "      <td>15.0</td>\n",
              "      <td>15.0</td>\n",
              "      <td>17.0</td>\n",
              "      <td>17.0</td>\n",
              "    </tr>\n",
              "  </tbody>\n",
              "</table>\n",
              "</div>"
            ],
            "text/plain": [
              "   min_humidity_prev7d  ...  max_wind_speed_f_next14d\n",
              "0                 45.0  ...                      17.0\n",
              "1                 51.0  ...                      17.0\n",
              "2                 58.0  ...                      17.0\n",
              "3                 58.0  ...                      17.0\n",
              "4                 58.0  ...                      17.0\n",
              "\n",
              "[5 rows x 60 columns]"
            ]
          },
          "metadata": {
            "tags": []
          },
          "execution_count": 33
        }
      ]
    },
    {
      "cell_type": "markdown",
      "metadata": {
        "id": "HjdvZ502WqEE"
      },
      "source": [
        "Get all values for the same numerical variables in different time and do a mean function in order to have one indicatioe columns instead of 4 columns"
      ]
    },
    {
      "cell_type": "code",
      "metadata": {
        "id": "usCX-x17MM40",
        "colab": {
          "base_uri": "https://localhost:8080/",
          "height": 439
        },
        "outputId": "d6d5ffeb-bbfe-4b3a-f2af-9d0ccd3ecc96"
      },
      "source": [
        "index=0\r\n",
        "incr_index = 4\r\n",
        "counter = (Numerical_df.shape)[1]\r\n",
        "New_Numerical_df = Numerical_df.copy()\r\n",
        "while(index<counter):\r\n",
        "  df_new = New_Numerical_df.iloc[:,index:index+incr_index]\r\n",
        "  New_Numerical_df['ind_'+list(New_Numerical_df.columns)[index]] = df_new.mean(axis=1)\r\n",
        "  index = index + 4\r\n",
        "\r\n",
        "New_Numerical_df=New_Numerical_df.drop(New_Numerical_df.columns.to_series()['min_wind_speed_prev7d':'max_humidity_f_next14d'], axis=1)\r\n",
        "New_Numerical_df"
      ],
      "execution_count": null,
      "outputs": [
        {
          "output_type": "execute_result",
          "data": {
            "text/html": [
              "<div>\n",
              "<style scoped>\n",
              "    .dataframe tbody tr th:only-of-type {\n",
              "        vertical-align: middle;\n",
              "    }\n",
              "\n",
              "    .dataframe tbody tr th {\n",
              "        vertical-align: top;\n",
              "    }\n",
              "\n",
              "    .dataframe thead th {\n",
              "        text-align: right;\n",
              "    }\n",
              "</style>\n",
              "<table border=\"1\" class=\"dataframe\">\n",
              "  <thead>\n",
              "    <tr style=\"text-align: right;\">\n",
              "      <th></th>\n",
              "      <th>ind_min_wind_speed_prev7d</th>\n",
              "      <th>ind_min_temperature_prev7d</th>\n",
              "      <th>ind_min_rain_mm_prev7d</th>\n",
              "      <th>ind_min_pressure_prev7d</th>\n",
              "      <th>ind_min_humidity_prev7d</th>\n",
              "      <th>ind_mean_wind_speed_prev7d</th>\n",
              "      <th>ind_mean_temperature_prev7d</th>\n",
              "      <th>ind_mean_rain_mm_prev7d</th>\n",
              "      <th>ind_mean_pressure_prev7d</th>\n",
              "      <th>ind_mean_humidity_prev7d</th>\n",
              "      <th>ind_max_wind_speed_prev7d</th>\n",
              "      <th>ind_max_temperature_prev7d</th>\n",
              "      <th>ind_max_rain_mm_prev7d</th>\n",
              "      <th>ind_max_pressure_prev7d</th>\n",
              "      <th>ind_max_humidity_prev7d</th>\n",
              "    </tr>\n",
              "  </thead>\n",
              "  <tbody>\n",
              "    <tr>\n",
              "      <th>0</th>\n",
              "      <td>6.25</td>\n",
              "      <td>6.25</td>\n",
              "      <td>0.150</td>\n",
              "      <td>1007.50</td>\n",
              "      <td>56.00</td>\n",
              "      <td>11.5375</td>\n",
              "      <td>9.1075</td>\n",
              "      <td>3.9075</td>\n",
              "      <td>1014.4625</td>\n",
              "      <td>71.9175</td>\n",
              "      <td>15.50</td>\n",
              "      <td>12.25</td>\n",
              "      <td>14.050</td>\n",
              "      <td>1020.00</td>\n",
              "      <td>85.00</td>\n",
              "    </tr>\n",
              "    <tr>\n",
              "      <th>1</th>\n",
              "      <td>6.25</td>\n",
              "      <td>7.00</td>\n",
              "      <td>0.150</td>\n",
              "      <td>1009.50</td>\n",
              "      <td>60.75</td>\n",
              "      <td>11.3575</td>\n",
              "      <td>9.7675</td>\n",
              "      <td>3.5800</td>\n",
              "      <td>1014.5700</td>\n",
              "      <td>73.5550</td>\n",
              "      <td>15.50</td>\n",
              "      <td>14.00</td>\n",
              "      <td>10.500</td>\n",
              "      <td>1020.00</td>\n",
              "      <td>85.00</td>\n",
              "    </tr>\n",
              "    <tr>\n",
              "      <th>2</th>\n",
              "      <td>6.25</td>\n",
              "      <td>7.00</td>\n",
              "      <td>0.150</td>\n",
              "      <td>1011.00</td>\n",
              "      <td>62.50</td>\n",
              "      <td>12.0600</td>\n",
              "      <td>10.0550</td>\n",
              "      <td>5.4775</td>\n",
              "      <td>1014.9375</td>\n",
              "      <td>74.8675</td>\n",
              "      <td>16.25</td>\n",
              "      <td>15.75</td>\n",
              "      <td>16.050</td>\n",
              "      <td>1019.75</td>\n",
              "      <td>88.50</td>\n",
              "    </tr>\n",
              "    <tr>\n",
              "      <th>3</th>\n",
              "      <td>7.75</td>\n",
              "      <td>6.50</td>\n",
              "      <td>0.200</td>\n",
              "      <td>1010.50</td>\n",
              "      <td>62.50</td>\n",
              "      <td>12.5100</td>\n",
              "      <td>9.9300</td>\n",
              "      <td>5.3675</td>\n",
              "      <td>1015.8125</td>\n",
              "      <td>74.9575</td>\n",
              "      <td>16.25</td>\n",
              "      <td>16.25</td>\n",
              "      <td>16.050</td>\n",
              "      <td>1020.50</td>\n",
              "      <td>88.50</td>\n",
              "    </tr>\n",
              "    <tr>\n",
              "      <th>4</th>\n",
              "      <td>6.75</td>\n",
              "      <td>5.00</td>\n",
              "      <td>0.275</td>\n",
              "      <td>1010.50</td>\n",
              "      <td>65.25</td>\n",
              "      <td>11.8850</td>\n",
              "      <td>9.3150</td>\n",
              "      <td>5.5600</td>\n",
              "      <td>1016.7050</td>\n",
              "      <td>76.3050</td>\n",
              "      <td>16.00</td>\n",
              "      <td>14.75</td>\n",
              "      <td>16.050</td>\n",
              "      <td>1022.00</td>\n",
              "      <td>88.50</td>\n",
              "    </tr>\n",
              "    <tr>\n",
              "      <th>...</th>\n",
              "      <td>...</td>\n",
              "      <td>...</td>\n",
              "      <td>...</td>\n",
              "      <td>...</td>\n",
              "      <td>...</td>\n",
              "      <td>...</td>\n",
              "      <td>...</td>\n",
              "      <td>...</td>\n",
              "      <td>...</td>\n",
              "      <td>...</td>\n",
              "      <td>...</td>\n",
              "      <td>...</td>\n",
              "      <td>...</td>\n",
              "      <td>...</td>\n",
              "      <td>...</td>\n",
              "    </tr>\n",
              "    <tr>\n",
              "      <th>326981</th>\n",
              "      <td>2.00</td>\n",
              "      <td>-4.25</td>\n",
              "      <td>0.000</td>\n",
              "      <td>1021.25</td>\n",
              "      <td>62.00</td>\n",
              "      <td>3.7125</td>\n",
              "      <td>-1.0600</td>\n",
              "      <td>0.3025</td>\n",
              "      <td>1028.3925</td>\n",
              "      <td>79.9800</td>\n",
              "      <td>7.50</td>\n",
              "      <td>1.75</td>\n",
              "      <td>2.325</td>\n",
              "      <td>1035.50</td>\n",
              "      <td>90.50</td>\n",
              "    </tr>\n",
              "    <tr>\n",
              "      <th>326982</th>\n",
              "      <td>1.75</td>\n",
              "      <td>-3.50</td>\n",
              "      <td>0.000</td>\n",
              "      <td>1021.25</td>\n",
              "      <td>57.00</td>\n",
              "      <td>3.7150</td>\n",
              "      <td>-0.5775</td>\n",
              "      <td>0.3950</td>\n",
              "      <td>1028.4200</td>\n",
              "      <td>77.2050</td>\n",
              "      <td>7.50</td>\n",
              "      <td>2.25</td>\n",
              "      <td>2.325</td>\n",
              "      <td>1036.00</td>\n",
              "      <td>87.50</td>\n",
              "    </tr>\n",
              "    <tr>\n",
              "      <th>326983</th>\n",
              "      <td>2.00</td>\n",
              "      <td>-2.75</td>\n",
              "      <td>0.000</td>\n",
              "      <td>1021.25</td>\n",
              "      <td>62.00</td>\n",
              "      <td>3.7900</td>\n",
              "      <td>-0.3625</td>\n",
              "      <td>0.4350</td>\n",
              "      <td>1028.7325</td>\n",
              "      <td>77.4450</td>\n",
              "      <td>8.00</td>\n",
              "      <td>2.00</td>\n",
              "      <td>2.325</td>\n",
              "      <td>1036.50</td>\n",
              "      <td>87.00</td>\n",
              "    </tr>\n",
              "    <tr>\n",
              "      <th>326984</th>\n",
              "      <td>2.00</td>\n",
              "      <td>-2.75</td>\n",
              "      <td>0.000</td>\n",
              "      <td>1021.25</td>\n",
              "      <td>56.00</td>\n",
              "      <td>4.3850</td>\n",
              "      <td>0.0975</td>\n",
              "      <td>0.4450</td>\n",
              "      <td>1028.2075</td>\n",
              "      <td>75.2750</td>\n",
              "      <td>9.50</td>\n",
              "      <td>3.25</td>\n",
              "      <td>2.325</td>\n",
              "      <td>1036.50</td>\n",
              "      <td>86.75</td>\n",
              "    </tr>\n",
              "    <tr>\n",
              "      <th>326985</th>\n",
              "      <td>2.25</td>\n",
              "      <td>-3.25</td>\n",
              "      <td>0.000</td>\n",
              "      <td>1019.75</td>\n",
              "      <td>56.00</td>\n",
              "      <td>4.6150</td>\n",
              "      <td>0.2575</td>\n",
              "      <td>0.7650</td>\n",
              "      <td>1026.5775</td>\n",
              "      <td>74.3700</td>\n",
              "      <td>10.25</td>\n",
              "      <td>3.25</td>\n",
              "      <td>4.775</td>\n",
              "      <td>1036.50</td>\n",
              "      <td>85.75</td>\n",
              "    </tr>\n",
              "  </tbody>\n",
              "</table>\n",
              "<p>326986 rows × 15 columns</p>\n",
              "</div>"
            ],
            "text/plain": [
              "        ind_min_wind_speed_prev7d  ...  ind_max_humidity_prev7d\n",
              "0                            6.25  ...                    85.00\n",
              "1                            6.25  ...                    85.00\n",
              "2                            6.25  ...                    88.50\n",
              "3                            7.75  ...                    88.50\n",
              "4                            6.75  ...                    88.50\n",
              "...                           ...  ...                      ...\n",
              "326981                       2.00  ...                    90.50\n",
              "326982                       1.75  ...                    87.50\n",
              "326983                       2.00  ...                    87.00\n",
              "326984                       2.00  ...                    86.75\n",
              "326985                       2.25  ...                    85.75\n",
              "\n",
              "[326986 rows x 15 columns]"
            ]
          },
          "metadata": {
            "tags": []
          },
          "execution_count": 77
        }
      ]
    },
    {
      "cell_type": "code",
      "metadata": {
        "id": "vsKYaxHmRUOq",
        "colab": {
          "base_uri": "https://localhost:8080/",
          "height": 320
        },
        "outputId": "a61c35df-c812-4f75-f292-21cdb49d33e2"
      },
      "source": [
        "Numerical_df.boxplot(figsize=(24,8));"
      ],
      "execution_count": null,
      "outputs": [
        {
          "output_type": "display_data",
          "data": {
            "image/png": "[encoded data removed]",
            "text/plain": [
              "<Figure size 1728x576 with 1 Axes>"
            ]
          },
          "metadata": {
            "tags": [],
            "needs_background": "light"
          }
        }
      ]
    },
    {
      "cell_type": "code",
      "metadata": {
        "id": "Os7xoyYOAO3l"
      },
      "source": [
        ""
      ],
      "execution_count": null,
      "outputs": []
    },
    {
      "cell_type": "code",
      "metadata": {
        "id": "7wxWB2rxAO3l"
      },
      "source": [
        "# defining the targer and input\n",
        "target_variable = 'aircon_sum_target_next14d'\n",
        "input_variables = df.columns[df.columns!=target_variable]\n",
        "\n",
        "X = df[input_variables]\n",
        "y = df[target_variable]"
      ],
      "execution_count": null,
      "outputs": []
    },
    {
      "cell_type": "code",
      "metadata": {
        "id": "tzMumEkDAO3m"
      },
      "source": [
        "# seed the random set to be consistant \n",
        "np.random.seed(1234)\n",
        "# do the train test splitting\n",
        "X_train, X_test, y_train, y_test = \\\n",
        "    train_test_split(X, y,\\\n",
        "    test_size= 1/3.0, random_state =1234, shuffle=True)\n",
        "# cross validation using k-fold here 10\n",
        "crossvalidation = StratifiedKFold(n_splits=10, shuffle=True)"
      ],
      "execution_count": null,
      "outputs": []
    },
    {
      "cell_type": "markdown",
      "metadata": {
        "id": "pcf3ZkzYAO3m"
      },
      "source": [
        "2- do two different set for standardization and normalization for sake of comparison"
      ]
    },
    {
      "cell_type": "code",
      "metadata": {
        "id": "ioz06A24AO3m"
      },
      "source": [
        "st_x= StandardScaler()\n",
        "X_train_standard = st_x.fit_transform(X_train) \n",
        "X_test_standard = st_x.fit_transform(X_test) "
      ],
      "execution_count": null,
      "outputs": []
    },
    {
      "cell_type": "code",
      "metadata": {
        "id": "ra1RJhexAO3n"
      },
      "source": [
        "norm_x = MinMaxScaler()\n",
        "X_train_norm = norm_x.fit_transform(X_train)\n",
        "X_test_norm = norm_x.fit_transform(X_test)"
      ],
      "execution_count": null,
      "outputs": []
    },
    {
      "cell_type": "markdown",
      "metadata": {
        "id": "tx8ujS5GAO3n"
      },
      "source": [
        "# Section 4\n",
        "specifying the model and train"
      ]
    },
    {
      "cell_type": "code",
      "metadata": {
        "id": "QAL1CAzPAO3o"
      },
      "source": [
        "n_estimators = 50\n",
        "\n",
        "methods = {\n",
        "#     'Lasso':LogisticRegression(penalty=\"l1\",C=100, random_state=1234, max_iter=300, solver=\"liblinear\"),\n",
        "#     'NaiveBayes':GaussianNB(),\n",
        "#     'k-NN(5)':KNeighborsClassifier(n_neighbors=5, algorithm='kd_tree'),\n",
        "    'Decision Tree':DecisionTreeClassifier(max_depth=None),\n",
        "#     'Bagging(Tree)':BaggingClassifier(DecisionTreeClassifier(max_depth=3),n_estimators=n_estimators),\n",
        "#     'Bagging(kNN)':BaggingClassifier(KNeighborsClassifier(n_neighbors=10, algorithm='kd_tree'),n_estimators=n_estimators),\n",
        "#     'Random Forest':RandomForestClassifier(n_estimators=n_estimators,max_depth=3,oob_score=True),\n",
        "#     'Extremely Randomized Trees':ExtraTreesClassifier(n_estimators=n_estimators,max_depth=3),\n",
        "#     'Ada Boost':AdaBoostClassifier(DecisionTreeClassifier(max_depth=3),n_estimators=n_estimators)\n",
        "}"
      ],
      "execution_count": null,
      "outputs": []
    },
    {
      "cell_type": "markdown",
      "metadata": {
        "id": "lC9HT5S3AO3o"
      },
      "source": [
        "## Desision Tree\n",
        "here we do three different comparisions "
      ]
    },
    {
      "cell_type": "code",
      "metadata": {
        "id": "VBZml-SgAO3p",
        "outputId": "1326f63e-3e0e-4393-f785-8284023209c0"
      },
      "source": [
        "train_model(methods, X_train, y_train, X_test, y_test)"
      ],
      "execution_count": null,
      "outputs": [
        {
          "output_type": "stream",
          "text": [
            "                           Decision Tree\n",
            "========================================\n",
            "\t  Accuracy (CV) 0.996 0.000\n",
            "\tAccuracy (Test) 0.517\n",
            "\t      Precision 0.517\n",
            "\t      Recall    0.468\n",
            "\t      F1        0.492\n",
            "\n",
            "\n"
          ],
          "name": "stdout"
        }
      ]
    },
    {
      "cell_type": "code",
      "metadata": {
        "id": "I26q_UNZAO3q",
        "outputId": "db3a2580-3209-45a2-e87f-d83569db3f9c"
      },
      "source": [
        "train_model(methods, X_train_standard,y_train, X_test_standard, y_test)"
      ],
      "execution_count": null,
      "outputs": [
        {
          "output_type": "stream",
          "text": [
            "                           Decision Tree\n",
            "========================================\n",
            "\t  Accuracy (CV) 0.996 0.000\n",
            "\tAccuracy (Test) 0.269\n",
            "\t      Precision 0.269\n",
            "\t      Recall    0.401\n",
            "\t      F1        0.322\n",
            "\n",
            "\n"
          ],
          "name": "stdout"
        }
      ]
    },
    {
      "cell_type": "code",
      "metadata": {
        "id": "p80IffMlAO3r",
        "outputId": "eb012b20-b50a-4a1d-83bf-75c16d376df5"
      },
      "source": [
        "train_model(methods, X_train_norm,y_train, X_test_norm, y_test)"
      ],
      "execution_count": null,
      "outputs": [
        {
          "output_type": "stream",
          "text": [
            "                           Decision Tree\n",
            "========================================\n",
            "\t  Accuracy (CV) 0.996 0.000\n",
            "\tAccuracy (Test) 0.219\n",
            "\t      Precision 0.219\n",
            "\t      Recall    0.263\n",
            "\t      F1        0.239\n",
            "\n",
            "\n"
          ],
          "name": "stdout"
        }
      ]
    },
    {
      "cell_type": "markdown",
      "metadata": {
        "id": "w2XSYf5tAO3s"
      },
      "source": [
        "## Result \n",
        "based on these three evaluation normalization is not a good approach for tree if we want to use tree we have to think of better cleaning the features. "
      ]
    }
  ]
}