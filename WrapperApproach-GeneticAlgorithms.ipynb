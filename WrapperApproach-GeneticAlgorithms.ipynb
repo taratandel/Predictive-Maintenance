{
 "cells": [
  {
   "cell_type": "markdown",
   "metadata": {},
   "source": [
    "# Feature Selection - Wrapper Approach using a Genetic Algorithm\n",
    "In this notebook we implement a rather simple feature selection procedure that follows a wrapper approach. The search algorithm, Genetic algorithms in this case, is wrapped around the target classification/regression algorithm."
   ]
  },
  {
   "cell_type": "code",
   "execution_count": 1,
   "metadata": {},
   "outputs": [
    {
     "name": "stdout",
     "output_type": "stream",
     "text": [
      "Requirement already satisfied: deap in /Users/pierluca/opt/anaconda3/lib/python3.8/site-packages (1.3.1)\n",
      "Requirement already satisfied: numpy in /Users/pierluca/opt/anaconda3/lib/python3.8/site-packages (from deap) (1.19.2)\n"
     ]
    }
   ],
   "source": [
    "# install the evolutionary computation library\n",
    "!pip install deap\n"
   ]
  },
  {
   "cell_type": "code",
   "execution_count": 2,
   "metadata": {},
   "outputs": [
    {
     "name": "stdout",
     "output_type": "stream",
     "text": [
      "Collecting package metadata (current_repodata.json): ...working... done\n",
      "Note: you may need to restart the kernel to use updated packages.\n",
      "\n",
      "Solving environment: ...working... done\n",
      "\n",
      "## Package Plan ##\n",
      "\n",
      "  environment location: C:\\ProgramData\\Anaconda3\n",
      "\n",
      "  added / updated specs:\n",
      "    - deap\n",
      "\n",
      "\n",
      "The following packages will be downloaded:\n",
      "\n",
      "    package                    |            build\n",
      "    ---------------------------|-----------------\n",
      "    conda-4.9.2                |   py38haa95532_0         2.9 MB\n",
      "    deap-1.3.1                 |   py38he350917_0         157 KB  conda-forge/label/cf202003\n",
      "    ------------------------------------------------------------\n",
      "                                           Total:         3.0 MB\n",
      "\n",
      "The following NEW packages will be INSTALLED:\n",
      "\n",
      "  deap               conda-forge/label/cf202003/win-64::deap-1.3.1-py38he350917_0\n",
      "\n",
      "The following packages will be UPDATED:\n",
      "\n",
      "  conda                                        4.8.5-py38_0 --> 4.9.2-py38haa95532_0\n",
      "\n",
      "\n",
      "\n",
      "Downloading and Extracting Packages\n",
      "\n",
      "deap-1.3.1           | 157 KB    |            |   0% \n",
      "deap-1.3.1           | 157 KB    | #          |  10% \n",
      "deap-1.3.1           | 157 KB    | ##         |  20% \n",
      "deap-1.3.1           | 157 KB    | ####       |  41% \n",
      "deap-1.3.1           | 157 KB    | ########1  |  82% \n",
      "deap-1.3.1           | 157 KB    | ########## | 100% \n",
      "deap-1.3.1           | 157 KB    | ########## | 100% \n",
      "\n",
      "conda-4.9.2          | 2.9 MB    |            |   0% \n",
      "conda-4.9.2          | 2.9 MB    |            |   1% \n",
      "conda-4.9.2          | 2.9 MB    | #6         |  17% \n",
      "conda-4.9.2          | 2.9 MB    | ###4       |  34% \n",
      "conda-4.9.2          | 2.9 MB    | #####4     |  54% \n",
      "conda-4.9.2          | 2.9 MB    | #######4   |  75% \n",
      "conda-4.9.2          | 2.9 MB    | #########4 |  95% \n",
      "conda-4.9.2          | 2.9 MB    | ########## | 100% \n",
      "Preparing transaction: ...working... done\n",
      "Verifying transaction: ...working... done\n",
      "Executing transaction: ...working... done\n"
     ]
    }
   ],
   "source": [
    "conda install -c conda-forge/label/cf202003 deap\n"
   ]
  },
  {
   "cell_type": "code",
   "execution_count": null,
   "metadata": {},
   "outputs": [],
   "source": []
  },
  {
   "cell_type": "code",
   "execution_count": 3,
   "metadata": {},
   "outputs": [],
   "source": [
    "import pandas as pd\n",
    "import numpy as np\n",
    "import matplotlib.pyplot as plt\n",
    "import random\n",
    "\n",
    "from sklearn import datasets\n",
    "from sklearn import linear_model\n",
    "from sklearn import naive_bayes\n",
    "\n",
    "from deap import algorithms\n",
    "from deap import base\n",
    "from deap import creator\n",
    "from deap import tools\n",
    "\n",
    "from sklearn.model_selection import StratifiedKFold\n",
    "from sklearn.model_selection import KFold\n",
    "from sklearn.model_selection import cross_val_score"
   ]
  },
  {
   "cell_type": "code",
   "execution_count": 4,
   "metadata": {},
   "outputs": [],
   "source": [
    "data = datasets.load_boston()\n",
    "\n",
    "X = data[\"data\"]\n",
    "y = data[\"target\"]\n",
    "\n",
    "number_of_variables = X.shape[1]\n",
    "input_variables = data.feature_names\n",
    "target_variable = 'MEDV'\n",
    "\n",
    "seed = 1234\n",
    "np.random.seed(seed)\n",
    "\n",
    "# let's create also a pandas data frame\n",
    "df = pd.DataFrame(data.data, columns=data.feature_names)\n",
    "df['MEDV'] = y\n",
    "df.head()\n",
    "\n",
    "kfolds = KFold(10,shuffle=True,random_state=seed)\n"
   ]
  },
  {
   "cell_type": "code",
   "execution_count": null,
   "metadata": {},
   "outputs": [],
   "source": []
  },
  {
   "cell_type": "code",
   "execution_count": null,
   "metadata": {},
   "outputs": [],
   "source": []
  },
  {
   "cell_type": "code",
   "execution_count": 5,
   "metadata": {},
   "outputs": [],
   "source": [
    "def EvaluateFeatureSubsetSingleObjective(individual):\n",
    "    selected_columns = []\n",
    "    for i,allele in enumerate(individual):\n",
    "        if (allele==1):\n",
    "            selected_columns.append(df.columns[i])\n",
    "\n",
    "    model = linear_model.LinearRegression()\n",
    "    scores = cross_val_score(model, df[selected_columns], y, cv=kfolds)\n",
    "    return scores.mean(),"
   ]
  },
  {
   "cell_type": "code",
   "execution_count": null,
   "metadata": {},
   "outputs": [],
   "source": []
  },
  {
   "cell_type": "markdown",
   "metadata": {},
   "source": [
    "## Simple Genetic Algorithm\n",
    "If looks for the feature subset that maximizes the overall performance."
   ]
  },
  {
   "cell_type": "code",
   "execution_count": 6,
   "metadata": {},
   "outputs": [],
   "source": [
    "creator.create(\"FitnessMax\", base.Fitness, weights=(1.0,))\n",
    "# creator.create(\"Individual\", list, typecode='b', fitness=creator.FitnessMax)\n",
    "creator.create(\"Individual\", list, fitness=creator.FitnessMax)\n",
    "\n",
    "toolbox = base.Toolbox()\n",
    "\n",
    "# Attribute generator\n",
    "toolbox.register(\"attr_bool\", random.randint, 0, 1)\n",
    "\n",
    "# Structure initializers\n",
    "toolbox.register(\"individual\", tools.initRepeat, creator.Individual, toolbox.attr_bool, number_of_variables)\n",
    "toolbox.register(\"population\", tools.initRepeat, list, toolbox.individual)"
   ]
  },
  {
   "cell_type": "code",
   "execution_count": null,
   "metadata": {},
   "outputs": [],
   "source": []
  },
  {
   "cell_type": "code",
   "execution_count": 7,
   "metadata": {},
   "outputs": [],
   "source": [
    "toolbox.register(\"individual\", tools.initRepeat, creator.Individual, toolbox.attr_bool, number_of_variables)\n",
    "toolbox.register(\"evaluate\", EvaluateFeatureSubsetSingleObjective)\n",
    "toolbox.register(\"mate\", tools.cxTwoPoint)\n",
    "toolbox.register(\"mutate\", tools.mutFlipBit, indpb=0.05)\n",
    "toolbox.register(\"select\", tools.selTournament, tournsize=3)"
   ]
  },
  {
   "cell_type": "code",
   "execution_count": null,
   "metadata": {},
   "outputs": [],
   "source": []
  },
  {
   "cell_type": "code",
   "execution_count": 8,
   "metadata": {},
   "outputs": [
    {
     "name": "stdout",
     "output_type": "stream",
     "text": [
      "gen\tnevals\tavg     \tstd     \tmin     \tmax     \n",
      "0  \t100   \t0.508149\t0.128339\t0.191513\t0.673682\n",
      "1  \t64    \t0.59219 \t0.0706103\t0.34377 \t0.673847\n",
      "2  \t55    \t0.641121\t0.0277252\t0.561777\t0.67879 \n",
      "3  \t51    \t0.65754 \t0.0185759\t0.583299\t0.680314\n",
      "4  \t57    \t0.668995\t0.00890741\t0.631287\t0.680314\n",
      "5  \t53    \t0.674252\t0.00925815\t0.620726\t0.686291\n",
      "6  \t65    \t0.67493 \t0.0130646 \t0.621156\t0.686291\n",
      "7  \t64    \t0.680429\t0.00785544\t0.609939\t0.686291\n",
      "8  \t54    \t0.678795\t0.0292791 \t0.400361\t0.686291\n",
      "9  \t70    \t0.683179\t0.00841339\t0.625077\t0.686291\n",
      "10 \t60    \t0.683066\t0.0121621 \t0.594381\t0.686291\n",
      "11 \t61    \t0.684648\t0.0081441 \t0.61548 \t0.686291\n",
      "12 \t71    \t0.682693\t0.0121567 \t0.604922\t0.686291\n",
      "13 \t50    \t0.684461\t0.00913979\t0.61548 \t0.686291\n",
      "14 \t60    \t0.684789\t0.00681876\t0.640342\t0.686291\n",
      "15 \t59    \t0.684689\t0.00676871\t0.645059\t0.686291\n",
      "16 \t52    \t0.685605\t0.00396661\t0.648256\t0.686291\n",
      "17 \t60    \t0.684907\t0.00673871\t0.644976\t0.686291\n",
      "18 \t61    \t0.6836  \t0.0147637 \t0.573584\t0.686291\n",
      "19 \t69    \t0.681009\t0.0186823 \t0.576847\t0.686291\n",
      "20 \t49    \t0.684653\t0.00657222\t0.645059\t0.686291\n",
      "21 \t60    \t0.683121\t0.0158405 \t0.573584\t0.686291\n",
      "22 \t61    \t0.683251\t0.0127745 \t0.600359\t0.686291\n",
      "23 \t72    \t0.68435 \t0.00866205\t0.61548 \t0.686291\n",
      "24 \t49    \t0.682779\t0.0162835 \t0.57332 \t0.686291\n",
      "25 \t57    \t0.68411 \t0.0132942 \t0.563148\t0.686291\n",
      "26 \t62    \t0.682691\t0.0129001 \t0.61548 \t0.686291\n",
      "27 \t70    \t0.683345\t0.0120797 \t0.61548 \t0.686291\n",
      "28 \t52    \t0.685138\t0.0058115 \t0.642923\t0.686291\n",
      "29 \t64    \t0.683786\t0.0109173 \t0.61548 \t0.686291\n",
      "30 \t66    \t0.683594\t0.00953758\t0.634538\t0.686291\n",
      "31 \t52    \t0.684291\t0.0113616 \t0.592809\t0.686291\n",
      "32 \t62    \t0.682711\t0.0153427 \t0.56231 \t0.686291\n",
      "33 \t64    \t0.683326\t0.0108208 \t0.61548 \t0.686291\n",
      "34 \t68    \t0.685104\t0.00644904\t0.638633\t0.686291\n",
      "35 \t51    \t0.684158\t0.00941402\t0.61548 \t0.686291\n",
      "36 \t52    \t0.685352\t0.00562113\t0.643214\t0.686291\n",
      "37 \t66    \t0.68377 \t0.0128408 \t0.573584\t0.686291\n",
      "38 \t47    \t0.684399\t0.00899566\t0.61548 \t0.686291\n",
      "39 \t66    \t0.683358\t0.0140569 \t0.591904\t0.686291\n",
      "40 \t60    \t0.685065\t0.00562697\t0.645059\t0.686291\n"
     ]
    }
   ],
   "source": [
    "pop = toolbox.population(n=100)\n",
    "hof = tools.HallOfFame(1)\n",
    "stats = tools.Statistics(lambda ind: ind.fitness.values)\n",
    "stats.register(\"avg\", np.mean)\n",
    "stats.register(\"std\", np.std)\n",
    "stats.register(\"min\", np.min)\n",
    "stats.register(\"max\", np.max)\n",
    "\n",
    "pop, log = algorithms.eaSimple(pop, toolbox, cxpb=0.5, mutpb=0.2, ngen=40, stats=stats, halloffame=hof, verbose=True)"
   ]
  },
  {
   "cell_type": "code",
   "execution_count": null,
   "metadata": {},
   "outputs": [],
   "source": []
  },
  {
   "cell_type": "markdown",
   "metadata": {},
   "source": [
    "## Multi-objective Version\n",
    "It applies a multi-objective genetic algorithm that tries to maximize the performance while minimizing the number of features involved."
   ]
  },
  {
   "cell_type": "code",
   "execution_count": 8,
   "metadata": {},
   "outputs": [],
   "source": [
    "def EvaluateFeatureSubsetMultipleObjective(individual):\n",
    "    '''returns the average performance and the number of features involved'''\n",
    "    selected_columns = []\n",
    "    for i,allele in enumerate(individual):\n",
    "        if (allele==1):\n",
    "            selected_columns.append(df.columns[i])\n",
    "\n",
    "    if (len(selected_columns)>0):\n",
    "        model = linear_model.LinearRegression()\n",
    "        scores = cross_val_score(model, df[selected_columns], y, cv=kfolds)\n",
    "        return scores.mean(),sum(individual)/float(len(individual))\n",
    "    else:\n",
    "        return 0,len(individual)"
   ]
  },
  {
   "cell_type": "code",
   "execution_count": 9,
   "metadata": {},
   "outputs": [
    {
     "name": "stderr",
     "output_type": "stream",
     "text": [
      "/Users/pierluca/opt/anaconda3/lib/python3.8/site-packages/deap/creator.py:138: RuntimeWarning: A class named 'Individual' has already been created and it will be overwritten. Consider deleting previous creation of that class or rename it.\n",
      "  warnings.warn(\"A class named '{0}' has already been created and it \"\n"
     ]
    }
   ],
   "source": [
    "creator.create(\"FitnessMulti\", base.Fitness, weights=(1.0, -1.0))\n",
    "creator.create(\"Individual\", list, fitness=creator.FitnessMulti)\n",
    "\n",
    "toolbox = base.Toolbox()\n",
    "# Attribute generator\n",
    "toolbox.register(\"attr_bool\", random.randint, 0, 1)\n",
    "# Structure initializers\n",
    "toolbox.register(\"individual\", tools.initRepeat, creator.Individual, toolbox.attr_bool, number_of_variables)\n",
    "toolbox.register(\"population\", tools.initRepeat, list, toolbox.individual)\n",
    "\n",
    "# Operator registering\n",
    "toolbox.register(\"evaluate\", EvaluateFeatureSubsetMultipleObjective)\n",
    "toolbox.register(\"mate\", tools.cxUniform, indpb=0.1)\n",
    "toolbox.register(\"mutate\", tools.mutFlipBit, indpb=0.05)\n",
    "toolbox.register(\"select\", tools.selNSGA2)"
   ]
  },
  {
   "cell_type": "code",
   "execution_count": 10,
   "metadata": {},
   "outputs": [
    {
     "name": "stdout",
     "output_type": "stream",
     "text": [
      "gen\tnevals\tavg                    \tstd                    \tmin                    \tmax                    \n",
      "0  \t100   \t[0.53352882 0.52153846]\t[0.11126337 0.13785337]\t[0.22216453 0.15384615]\t[0.67384659 0.84615385]\n",
      "1  \t200   \t[0.5985008  0.48846154]\t[0.07881769 0.16583124]\t[0.21474826 0.15384615]\t[0.67384659 0.92307692]\n",
      "2  \t200   \t[0.61645502 0.48      ]\t[0.07371555 0.19095524]\t[0.22539109 0.15384615]\t[0.67384659 0.92307692]\n",
      "3  \t200   \t[0.62589405 0.49230769]\t[0.07872359 0.23204774]\t[0.21082521 0.07692308]\t[0.67596593 0.92307692]\n",
      "4  \t200   \t[0.59025659 0.36692308]\t[0.10562454 0.22789362]\t[0.21082521 0.07692308]\t[0.68031402 0.92307692]\n",
      "5  \t200   \t[0.61461188 0.38692308]\t[0.09938336 0.21330174]\t[0.12079571 0.07692308]\t[0.68201157 1.        ]\n",
      "6  \t200   \t[0.60246301 0.35538462]\t[0.1354925  0.19844961]\t[0.19012883 0.07692308]\t[0.68331854 1.        ]\n",
      "7  \t200   \t[0.63422572 0.34153846]\t[0.05473387 0.17004002]\t[0.4993403  0.07692308]\t[0.68331854 0.92307692]\n",
      "8  \t200   \t[0.59140027 0.23692308]\t[0.0659096  0.19205522]\t[0.4993403  0.07692308]\t[0.68331854 0.92307692]\n",
      "9  \t200   \t[0.54339957 0.18692308]\t[0.06948684 0.22538724]\t[0.4993403  0.07692308]\t[0.68331854 0.92307692]\n",
      "10 \t200   \t[0.52979121 0.15384615]\t[0.0640749  0.18365133]\t[0.4993403  0.07692308]\t[0.68629149 0.84615385]\n",
      "11 \t200   \t[0.52979121 0.15384615]\t[0.0640749  0.18365133]\t[0.4993403  0.07692308]\t[0.68629149 0.84615385]\n",
      "12 \t200   \t[0.53166072 0.16153846]\t[0.06586159 0.19596522]\t[0.4993403  0.07692308]\t[0.68629149 0.84615385]\n",
      "13 \t200   \t[0.53166072 0.16153846]\t[0.06586159 0.19596522]\t[0.4993403  0.07692308]\t[0.68629149 0.84615385]\n",
      "14 \t200   \t[0.52987616 0.15538462]\t[0.0642764  0.18872979]\t[0.4993403  0.07692308]\t[0.68629149 0.84615385]\n",
      "15 \t200   \t[0.53166814 0.16153846]\t[0.06587812 0.19596522]\t[0.4993403  0.07692308]\t[0.68629149 0.84615385]\n",
      "16 \t200   \t[0.53166814 0.16153846]\t[0.06587812 0.19596522]\t[0.4993403  0.07692308]\t[0.68629149 0.84615385]\n",
      "17 \t200   \t[0.52984242 0.15461538]\t[0.06419745 0.18636828]\t[0.4993403  0.07692308]\t[0.68629149 0.84615385]\n",
      "18 \t200   \t[0.53167517 0.16153846]\t[0.06589419 0.19596522]\t[0.4993403  0.07692308]\t[0.68629149 0.84615385]\n",
      "19 \t200   \t[0.53167517 0.16153846]\t[0.06589419 0.19596522]\t[0.4993403  0.07692308]\t[0.68629149 0.84615385]\n",
      "20 \t200   \t[0.53167517 0.16153846]\t[0.06589419 0.19596522]\t[0.4993403  0.07692308]\t[0.68629149 0.84615385]\n",
      "21 \t200   \t[0.53167517 0.16153846]\t[0.06589419 0.19596522]\t[0.4993403  0.07692308]\t[0.68629149 0.84615385]\n",
      "22 \t200   \t[0.53167517 0.16153846]\t[0.06589419 0.19596522]\t[0.4993403  0.07692308]\t[0.68629149 0.84615385]\n",
      "23 \t200   \t[0.53167517 0.16153846]\t[0.06589419 0.19596522]\t[0.4993403  0.07692308]\t[0.68629149 0.84615385]\n",
      "24 \t200   \t[0.53167517 0.16153846]\t[0.06589419 0.19596522]\t[0.4993403  0.07692308]\t[0.68629149 0.84615385]\n",
      "25 \t200   \t[0.53167517 0.16153846]\t[0.06589419 0.19596522]\t[0.4993403  0.07692308]\t[0.68629149 0.84615385]\n",
      "26 \t200   \t[0.53167517 0.16153846]\t[0.06589419 0.19596522]\t[0.4993403  0.07692308]\t[0.68629149 0.84615385]\n",
      "27 \t200   \t[0.53167517 0.16153846]\t[0.06589419 0.19596522]\t[0.4993403  0.07692308]\t[0.68629149 0.84615385]\n",
      "28 \t200   \t[0.53167517 0.16153846]\t[0.06589419 0.19596522]\t[0.4993403  0.07692308]\t[0.68629149 0.84615385]\n",
      "29 \t200   \t[0.52991718 0.15615385]\t[0.06437102 0.19074907]\t[0.4993403  0.07692308]\t[0.68629149 0.84615385]\n",
      "30 \t200   \t[0.53170244 0.16153846]\t[0.06595438 0.19596522]\t[0.4993403  0.07692308]\t[0.68629149 0.84615385]\n",
      "31 \t200   \t[0.53170244 0.16153846]\t[0.06595438 0.19596522]\t[0.4993403  0.07692308]\t[0.68629149 0.84615385]\n",
      "32 \t200   \t[0.53170244 0.16153846]\t[0.06595438 0.19596522]\t[0.4993403  0.07692308]\t[0.68629149 0.84615385]\n",
      "33 \t200   \t[0.53170244 0.16153846]\t[0.06595438 0.19596522]\t[0.4993403  0.07692308]\t[0.68629149 0.84615385]\n",
      "34 \t200   \t[0.52991967 0.15538462]\t[0.06437686 0.18872979]\t[0.4993403  0.07692308]\t[0.68629149 0.84615385]\n",
      "35 \t200   \t[0.52991967 0.15538462]\t[0.06437686 0.18872979]\t[0.4993403  0.07692308]\t[0.68629149 0.84615385]\n",
      "36 \t200   \t[0.52991967 0.15538462]\t[0.06437686 0.18872979]\t[0.4993403  0.07692308]\t[0.68629149 0.84615385]\n",
      "37 \t200   \t[0.52991967 0.15538462]\t[0.06437686 0.18872979]\t[0.4993403  0.07692308]\t[0.68629149 0.84615385]\n",
      "38 \t200   \t[0.53172087 0.16153846]\t[0.06599553 0.19596522]\t[0.4993403  0.07692308]\t[0.68629149 0.84615385]\n",
      "39 \t200   \t[0.53172087 0.16153846]\t[0.06599553 0.19596522]\t[0.4993403  0.07692308]\t[0.68629149 0.84615385]\n",
      "40 \t200   \t[0.53172087 0.16153846]\t[0.06599553 0.19596522]\t[0.4993403  0.07692308]\t[0.68629149 0.84615385]\n",
      "BEST [1, 1, 0, 1, 1, 1, 0, 1, 1, 1, 1, 1, 1]\n"
     ]
    }
   ],
   "source": [
    "# random.seed(64)\n",
    "MU, LAMBDA = 100, 200\n",
    "pop = toolbox.population(n=MU)\n",
    "hof = tools.ParetoFront()\n",
    "stats = tools.Statistics(lambda ind: ind.fitness.values)\n",
    "stats.register(\"avg\", np.mean, axis=0)\n",
    "stats.register(\"std\", np.std, axis=0)\n",
    "stats.register(\"min\", np.min, axis=0)\n",
    "stats.register(\"max\", np.max, axis=0)\n",
    "\n",
    "pop, logbook = algorithms.eaMuPlusLambda(pop, toolbox, mu=MU, lambda_=LAMBDA,\n",
    "                                         cxpb=0.7, mutpb=0.3, ngen=40, \n",
    "                                         stats=stats, halloffame=hof)\n",
    "\n",
    "print(\"BEST \"+str(hof[0]))\n"
   ]
  },
  {
   "cell_type": "markdown",
   "metadata": {},
   "source": [
    "## Discussion\n",
    "Note that we applied genetic algorithms using the entire dataset for the evaluation of the feature subset. In a real scenario we should have initially split the data as train and test and then applied the genetic algorithm only using the training dataset."
   ]
  },
  {
   "cell_type": "code",
   "execution_count": null,
   "metadata": {},
   "outputs": [],
   "source": []
  }
 ],
 "metadata": {
  "kernelspec": {
   "display_name": "Python 3",
   "language": "python",
   "name": "python3"
  },
  "language_info": {
   "codemirror_mode": {
    "name": "ipython",
    "version": 3
   },
   "file_extension": ".py",
   "mimetype": "text/x-python",
   "name": "python",
   "nbconvert_exporter": "python",
   "pygments_lexer": "ipython3",
   "version": "3.8.3"
  }
 },
 "nbformat": 4,
 "nbformat_minor": 4
}
