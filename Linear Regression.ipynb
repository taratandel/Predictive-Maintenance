{
 "cells": [
  {
   "cell_type": "code",
   "execution_count": 1,
   "metadata": {},
   "outputs": [],
   "source": [
    "import pandas as pd             \n",
    "import numpy as np\n",
    "\n",
    "import seaborn as sns\n",
    "sns.set(style=\"white\", color_codes=True)\n",
    "sns.set_context(rc={\"font.family\":'sans',\"font.size\":24,\"axes.titlesize\":24,\"axes.labelsize\":24})   \n",
    "\n",
    "import matplotlib.pyplot as plt\n",
    "%matplotlib inline\n",
    "\n",
    "import warnings \n",
    "warnings.filterwarnings(\"ignore\")\n",
    "\n",
    "import sklearn\n",
    "from sklearn import linear_model\n",
    "from sklearn.feature_selection import SelectKBest\n",
    "from sklearn.feature_selection import chi2, f_regression\n",
    "from sklearn.model_selection import cross_val_score\n",
    "from sklearn.model_selection import train_test_split\n",
    "from sklearn.feature_selection import RFE\n",
    "from sklearn.metrics import mean_squared_error, r2_score\n",
    "\n",
    "#from aux_fun import evaluate\n",
    "\n",
    "import csv"
   ]
  },
  {
   "cell_type": "code",
   "execution_count": 2,
   "metadata": {},
   "outputs": [],
   "source": [
    "df=pd.read_csv('train.csv')"
   ]
  },
  {
   "cell_type": "code",
   "execution_count": 3,
   "metadata": {},
   "outputs": [],
   "source": [
    "from datetime import date\n",
    "import datetime\n",
    "\n",
    "df['Day'] = df['DATE'].apply(lambda x: \n",
    "                      (date(datetime.datetime.strptime(x,\"%Y-%m-%d\").year,datetime.datetime.strptime(x,\"%Y-%m-%d\").month,\n",
    "                      datetime.datetime.strptime(x,\"%Y-%m-%d\").day)-date(2019,4,10)).days)\n",
    "df.drop(['DATE'],axis=1,inplace=True)\n"
   ]
  },
  {
   "cell_type": "code",
   "execution_count": 4,
   "metadata": {},
   "outputs": [],
   "source": [
    "site_IDs=df['SITE_ID']\n",
    "Dates=df['Day']\n",
    "N_Transported_Sites=df[ 'N_TRANSPORTED_SITES']\n",
    "Cell_Type=df.loc[:, 'CELL_TYPE_Macro': 'CELL_TYPE_micro']\n",
    "Geographical_Cluster=df.loc[:, 'GEOGRAPHIC_CLUSTER_K_0': 'GEOGRAPHIC_CLUSTER_K_9']\n",
    "m3_w_prevXd=df.loc[ :, 'mean_temperature_prev7d':  'min_pressure_prev3d']\n",
    "m3_w_f_nextXd=df.loc[:,'mean_temperature_f_next14d':'min_pressure_f_next7d']\n",
    "aircon_sum=df.loc[:,'aircon_sum_wo_prev7d':'aircon_sum_target_next14d']\n",
    "cat_sum_alarms_prevXd=df.loc[:,'equipment_sum_alarms_prev14d':'temperature_sum_alarms_prev3d']\n",
    "cat_m3_persistance_prevXd=df.loc[:,'equipment_max_persistance_prev7d':'temperature_min_persistance_prev3d']\n",
    "skew_cat_alarms_prev14d=df.loc[:,'skew_equipment_alarms_prev14d': 'skew_temperature_alarms_prev14d']\n",
    "kurt_cat_alarms_prev14d=df.loc[:,'kurt_equipment_alarms_prev14d': 'kurt_temperature_alarms_prev14d']\n",
    "target_data=df.loc[:,'aircon_sum_target_next14d']"
   ]
  },
  {
   "cell_type": "code",
   "execution_count": 5,
   "metadata": {},
   "outputs": [
    {
     "data": {
      "text/html": [
       "<div>\n",
       "<style scoped>\n",
       "    .dataframe tbody tr th:only-of-type {\n",
       "        vertical-align: middle;\n",
       "    }\n",
       "\n",
       "    .dataframe tbody tr th {\n",
       "        vertical-align: top;\n",
       "    }\n",
       "\n",
       "    .dataframe thead th {\n",
       "        text-align: right;\n",
       "    }\n",
       "</style>\n",
       "<table border=\"1\" class=\"dataframe\">\n",
       "  <thead>\n",
       "    <tr style=\"text-align: right;\">\n",
       "      <th></th>\n",
       "      <th>SITE_ID</th>\n",
       "      <th>CELL_TYPE_micro</th>\n",
       "      <th>GEOGRAPHIC_CLUSTER_K_1</th>\n",
       "      <th>GEOGRAPHIC_CLUSTER_K_3</th>\n",
       "      <th>GEOGRAPHIC_CLUSTER_K_7</th>\n",
       "      <th>GEOGRAPHIC_CLUSTER_K_9</th>\n",
       "      <th>aircon_sum_wo_prev7d</th>\n",
       "      <th>aircon_sum_wo_prev14d</th>\n",
       "      <th>mean_rain_mm_prev7d</th>\n",
       "      <th>mean_temperature_f_next14d</th>\n",
       "      <th>max_temperature_f_next14d</th>\n",
       "      <th>min_temperature_f_next14d</th>\n",
       "      <th>mean_temperature_f_next7d</th>\n",
       "      <th>max_temperature_f_next7d</th>\n",
       "      <th>min_temperature_f_next7d</th>\n",
       "      <th>Day</th>\n",
       "    </tr>\n",
       "  </thead>\n",
       "  <tbody>\n",
       "    <tr>\n",
       "      <th>0</th>\n",
       "      <td>146</td>\n",
       "      <td>0</td>\n",
       "      <td>0</td>\n",
       "      <td>0</td>\n",
       "      <td>0</td>\n",
       "      <td>0</td>\n",
       "      <td>0.0</td>\n",
       "      <td>0.0</td>\n",
       "      <td>1.33</td>\n",
       "      <td>8.00</td>\n",
       "      <td>12.0</td>\n",
       "      <td>5.0</td>\n",
       "      <td>6.14</td>\n",
       "      <td>9.0</td>\n",
       "      <td>5.0</td>\n",
       "      <td>0</td>\n",
       "    </tr>\n",
       "    <tr>\n",
       "      <th>1</th>\n",
       "      <td>146</td>\n",
       "      <td>0</td>\n",
       "      <td>0</td>\n",
       "      <td>0</td>\n",
       "      <td>0</td>\n",
       "      <td>0</td>\n",
       "      <td>0.0</td>\n",
       "      <td>0.0</td>\n",
       "      <td>1.90</td>\n",
       "      <td>8.50</td>\n",
       "      <td>16.0</td>\n",
       "      <td>5.0</td>\n",
       "      <td>5.86</td>\n",
       "      <td>8.0</td>\n",
       "      <td>5.0</td>\n",
       "      <td>1</td>\n",
       "    </tr>\n",
       "    <tr>\n",
       "      <th>2</th>\n",
       "      <td>146</td>\n",
       "      <td>0</td>\n",
       "      <td>0</td>\n",
       "      <td>0</td>\n",
       "      <td>0</td>\n",
       "      <td>0</td>\n",
       "      <td>0.0</td>\n",
       "      <td>0.0</td>\n",
       "      <td>4.70</td>\n",
       "      <td>9.36</td>\n",
       "      <td>20.0</td>\n",
       "      <td>5.0</td>\n",
       "      <td>6.29</td>\n",
       "      <td>11.0</td>\n",
       "      <td>5.0</td>\n",
       "      <td>2</td>\n",
       "    </tr>\n",
       "    <tr>\n",
       "      <th>3</th>\n",
       "      <td>146</td>\n",
       "      <td>0</td>\n",
       "      <td>0</td>\n",
       "      <td>0</td>\n",
       "      <td>0</td>\n",
       "      <td>0</td>\n",
       "      <td>0.0</td>\n",
       "      <td>0.0</td>\n",
       "      <td>4.77</td>\n",
       "      <td>10.57</td>\n",
       "      <td>22.0</td>\n",
       "      <td>5.0</td>\n",
       "      <td>6.86</td>\n",
       "      <td>11.0</td>\n",
       "      <td>5.0</td>\n",
       "      <td>3</td>\n",
       "    </tr>\n",
       "    <tr>\n",
       "      <th>4</th>\n",
       "      <td>146</td>\n",
       "      <td>0</td>\n",
       "      <td>0</td>\n",
       "      <td>0</td>\n",
       "      <td>0</td>\n",
       "      <td>0</td>\n",
       "      <td>0.0</td>\n",
       "      <td>0.0</td>\n",
       "      <td>5.39</td>\n",
       "      <td>11.50</td>\n",
       "      <td>22.0</td>\n",
       "      <td>5.0</td>\n",
       "      <td>7.86</td>\n",
       "      <td>12.0</td>\n",
       "      <td>5.0</td>\n",
       "      <td>4</td>\n",
       "    </tr>\n",
       "    <tr>\n",
       "      <th>...</th>\n",
       "      <td>...</td>\n",
       "      <td>...</td>\n",
       "      <td>...</td>\n",
       "      <td>...</td>\n",
       "      <td>...</td>\n",
       "      <td>...</td>\n",
       "      <td>...</td>\n",
       "      <td>...</td>\n",
       "      <td>...</td>\n",
       "      <td>...</td>\n",
       "      <td>...</td>\n",
       "      <td>...</td>\n",
       "      <td>...</td>\n",
       "      <td>...</td>\n",
       "      <td>...</td>\n",
       "      <td>...</td>\n",
       "    </tr>\n",
       "    <tr>\n",
       "      <th>621295</th>\n",
       "      <td>1251</td>\n",
       "      <td>0</td>\n",
       "      <td>0</td>\n",
       "      <td>0</td>\n",
       "      <td>0</td>\n",
       "      <td>1</td>\n",
       "      <td>0.0</td>\n",
       "      <td>0.0</td>\n",
       "      <td>3.57</td>\n",
       "      <td>5.71</td>\n",
       "      <td>11.0</td>\n",
       "      <td>1.0</td>\n",
       "      <td>6.71</td>\n",
       "      <td>11.0</td>\n",
       "      <td>2.0</td>\n",
       "      <td>295</td>\n",
       "    </tr>\n",
       "    <tr>\n",
       "      <th>621296</th>\n",
       "      <td>1251</td>\n",
       "      <td>0</td>\n",
       "      <td>0</td>\n",
       "      <td>0</td>\n",
       "      <td>0</td>\n",
       "      <td>1</td>\n",
       "      <td>0.0</td>\n",
       "      <td>0.0</td>\n",
       "      <td>3.89</td>\n",
       "      <td>5.79</td>\n",
       "      <td>11.0</td>\n",
       "      <td>1.0</td>\n",
       "      <td>6.57</td>\n",
       "      <td>11.0</td>\n",
       "      <td>2.0</td>\n",
       "      <td>296</td>\n",
       "    </tr>\n",
       "    <tr>\n",
       "      <th>621297</th>\n",
       "      <td>1251</td>\n",
       "      <td>0</td>\n",
       "      <td>0</td>\n",
       "      <td>0</td>\n",
       "      <td>0</td>\n",
       "      <td>1</td>\n",
       "      <td>0.0</td>\n",
       "      <td>0.0</td>\n",
       "      <td>4.04</td>\n",
       "      <td>5.64</td>\n",
       "      <td>11.0</td>\n",
       "      <td>1.0</td>\n",
       "      <td>5.43</td>\n",
       "      <td>11.0</td>\n",
       "      <td>1.0</td>\n",
       "      <td>297</td>\n",
       "    </tr>\n",
       "    <tr>\n",
       "      <th>621298</th>\n",
       "      <td>1251</td>\n",
       "      <td>0</td>\n",
       "      <td>0</td>\n",
       "      <td>0</td>\n",
       "      <td>0</td>\n",
       "      <td>1</td>\n",
       "      <td>0.0</td>\n",
       "      <td>0.0</td>\n",
       "      <td>4.04</td>\n",
       "      <td>5.43</td>\n",
       "      <td>9.0</td>\n",
       "      <td>1.0</td>\n",
       "      <td>4.29</td>\n",
       "      <td>9.0</td>\n",
       "      <td>1.0</td>\n",
       "      <td>298</td>\n",
       "    </tr>\n",
       "    <tr>\n",
       "      <th>621299</th>\n",
       "      <td>1251</td>\n",
       "      <td>0</td>\n",
       "      <td>0</td>\n",
       "      <td>0</td>\n",
       "      <td>0</td>\n",
       "      <td>1</td>\n",
       "      <td>0.0</td>\n",
       "      <td>0.0</td>\n",
       "      <td>5.31</td>\n",
       "      <td>5.43</td>\n",
       "      <td>9.0</td>\n",
       "      <td>1.0</td>\n",
       "      <td>4.00</td>\n",
       "      <td>8.0</td>\n",
       "      <td>1.0</td>\n",
       "      <td>299</td>\n",
       "    </tr>\n",
       "  </tbody>\n",
       "</table>\n",
       "<p>621300 rows × 16 columns</p>\n",
       "</div>"
      ],
      "text/plain": [
       "        SITE_ID  CELL_TYPE_micro  GEOGRAPHIC_CLUSTER_K_1  \\\n",
       "0           146                0                       0   \n",
       "1           146                0                       0   \n",
       "2           146                0                       0   \n",
       "3           146                0                       0   \n",
       "4           146                0                       0   \n",
       "...         ...              ...                     ...   \n",
       "621295     1251                0                       0   \n",
       "621296     1251                0                       0   \n",
       "621297     1251                0                       0   \n",
       "621298     1251                0                       0   \n",
       "621299     1251                0                       0   \n",
       "\n",
       "        GEOGRAPHIC_CLUSTER_K_3  GEOGRAPHIC_CLUSTER_K_7  \\\n",
       "0                            0                       0   \n",
       "1                            0                       0   \n",
       "2                            0                       0   \n",
       "3                            0                       0   \n",
       "4                            0                       0   \n",
       "...                        ...                     ...   \n",
       "621295                       0                       0   \n",
       "621296                       0                       0   \n",
       "621297                       0                       0   \n",
       "621298                       0                       0   \n",
       "621299                       0                       0   \n",
       "\n",
       "        GEOGRAPHIC_CLUSTER_K_9  aircon_sum_wo_prev7d  aircon_sum_wo_prev14d  \\\n",
       "0                            0                   0.0                    0.0   \n",
       "1                            0                   0.0                    0.0   \n",
       "2                            0                   0.0                    0.0   \n",
       "3                            0                   0.0                    0.0   \n",
       "4                            0                   0.0                    0.0   \n",
       "...                        ...                   ...                    ...   \n",
       "621295                       1                   0.0                    0.0   \n",
       "621296                       1                   0.0                    0.0   \n",
       "621297                       1                   0.0                    0.0   \n",
       "621298                       1                   0.0                    0.0   \n",
       "621299                       1                   0.0                    0.0   \n",
       "\n",
       "        mean_rain_mm_prev7d  mean_temperature_f_next14d  \\\n",
       "0                      1.33                        8.00   \n",
       "1                      1.90                        8.50   \n",
       "2                      4.70                        9.36   \n",
       "3                      4.77                       10.57   \n",
       "4                      5.39                       11.50   \n",
       "...                     ...                         ...   \n",
       "621295                 3.57                        5.71   \n",
       "621296                 3.89                        5.79   \n",
       "621297                 4.04                        5.64   \n",
       "621298                 4.04                        5.43   \n",
       "621299                 5.31                        5.43   \n",
       "\n",
       "        max_temperature_f_next14d  min_temperature_f_next14d  \\\n",
       "0                            12.0                        5.0   \n",
       "1                            16.0                        5.0   \n",
       "2                            20.0                        5.0   \n",
       "3                            22.0                        5.0   \n",
       "4                            22.0                        5.0   \n",
       "...                           ...                        ...   \n",
       "621295                       11.0                        1.0   \n",
       "621296                       11.0                        1.0   \n",
       "621297                       11.0                        1.0   \n",
       "621298                        9.0                        1.0   \n",
       "621299                        9.0                        1.0   \n",
       "\n",
       "        mean_temperature_f_next7d  max_temperature_f_next7d  \\\n",
       "0                            6.14                       9.0   \n",
       "1                            5.86                       8.0   \n",
       "2                            6.29                      11.0   \n",
       "3                            6.86                      11.0   \n",
       "4                            7.86                      12.0   \n",
       "...                           ...                       ...   \n",
       "621295                       6.71                      11.0   \n",
       "621296                       6.57                      11.0   \n",
       "621297                       5.43                      11.0   \n",
       "621298                       4.29                       9.0   \n",
       "621299                       4.00                       8.0   \n",
       "\n",
       "        min_temperature_f_next7d  Day  \n",
       "0                            5.0    0  \n",
       "1                            5.0    1  \n",
       "2                            5.0    2  \n",
       "3                            5.0    3  \n",
       "4                            5.0    4  \n",
       "...                          ...  ...  \n",
       "621295                       2.0  295  \n",
       "621296                       2.0  296  \n",
       "621297                       1.0  297  \n",
       "621298                       1.0  298  \n",
       "621299                       1.0  299  \n",
       "\n",
       "[621300 rows x 16 columns]"
      ]
     },
     "execution_count": 5,
     "metadata": {},
     "output_type": "execute_result"
    }
   ],
   "source": [
    "target_variable='aircon_sum_target_next14d'\n",
    "selected_features= ('SITE_ID','CELL_TYPE_micro', 'GEOGRAPHIC_CLUSTER_K_1', 'GEOGRAPHIC_CLUSTER_K_3',\n",
    "       'GEOGRAPHIC_CLUSTER_K_7', 'GEOGRAPHIC_CLUSTER_K_9',\n",
    "       'aircon_sum_wo_prev7d', 'aircon_sum_wo_prev14d', 'mean_rain_mm_prev7d',\n",
    "       'mean_temperature_f_next14d', 'max_temperature_f_next14d',\n",
    "       'min_temperature_f_next14d', 'mean_temperature_f_next7d',\n",
    "       'max_temperature_f_next7d', 'min_temperature_f_next7d', 'Day')\n",
    "#input_variables=df.columns[df.columns!=target_variable]\n",
    "input_variables=selected_features\n",
    "input_variables=input_variables\n",
    "\n",
    "X=df.loc[:,input_variables]\n",
    "y=df.loc[:,target_variable]\n",
    "X\n"
   ]
  },
  {
   "cell_type": "markdown",
   "metadata": {},
   "source": [
    "#### Test Train Split"
   ]
  },
  {
   "cell_type": "code",
   "execution_count": 6,
   "metadata": {},
   "outputs": [],
   "source": [
    "X_train, X_test, y_train, y_test = train_test_split(X, y, test_size=0.2, random_state=42)"
   ]
  },
  {
   "cell_type": "markdown",
   "metadata": {},
   "source": [
    "## feature Selection"
   ]
  },
  {
   "cell_type": "code",
   "execution_count": 7,
   "metadata": {},
   "outputs": [],
   "source": [
    "rfe = RFE(linear_model.LinearRegression(), 5) #10 is the number of features to consider\n",
    "fit = rfe.fit(X_train, y_train)\n"
   ]
  },
  {
   "cell_type": "code",
   "execution_count": 8,
   "metadata": {},
   "outputs": [
    {
     "data": {
      "text/plain": [
       "array([False,  True, False,  True, False,  True,  True,  True, False,\n",
       "       False, False, False, False, False, False, False])"
      ]
     },
     "execution_count": 8,
     "metadata": {},
     "output_type": "execute_result"
    }
   ],
   "source": [
    "feature_mask = fit.get_support() #mask of the chosen features\n",
    "feature_mask\n"
   ]
  },
  {
   "cell_type": "code",
   "execution_count": 9,
   "metadata": {},
   "outputs": [
    {
     "data": {
      "text/plain": [
       "Index(['CELL_TYPE_micro', 'GEOGRAPHIC_CLUSTER_K_3', 'GEOGRAPHIC_CLUSTER_K_9',\n",
       "       'aircon_sum_wo_prev7d', 'aircon_sum_wo_prev14d'],\n",
       "      dtype='object')"
      ]
     },
     "execution_count": 9,
     "metadata": {},
     "output_type": "execute_result"
    }
   ],
   "source": [
    "feature_selected =X_train.columns[feature_mask]\n",
    "feature_selected"
   ]
  },
  {
   "cell_type": "markdown",
   "metadata": {},
   "source": [
    "### Model Creation"
   ]
  },
  {
   "cell_type": "markdown",
   "metadata": {},
   "source": [
    "### OLS"
   ]
  },
  {
   "cell_type": "code",
   "execution_count": 10,
   "metadata": {},
   "outputs": [
    {
     "data": {
      "text/plain": [
       "Index(['SITE_ID', 'CELL_TYPE_micro', 'GEOGRAPHIC_CLUSTER_K_1',\n",
       "       'GEOGRAPHIC_CLUSTER_K_3', 'GEOGRAPHIC_CLUSTER_K_7',\n",
       "       'GEOGRAPHIC_CLUSTER_K_9', 'aircon_sum_wo_prev7d',\n",
       "       'aircon_sum_wo_prev14d', 'mean_rain_mm_prev7d',\n",
       "       'mean_temperature_f_next14d', 'max_temperature_f_next14d',\n",
       "       'min_temperature_f_next14d', 'mean_temperature_f_next7d',\n",
       "       'max_temperature_f_next7d', 'min_temperature_f_next7d', 'Day'],\n",
       "      dtype='object')"
      ]
     },
     "execution_count": 10,
     "metadata": {},
     "output_type": "execute_result"
    }
   ],
   "source": [
    "X_train.columns"
   ]
  },
  {
   "cell_type": "code",
   "execution_count": 11,
   "metadata": {},
   "outputs": [],
   "source": [
    "regr = linear_model.LinearRegression()"
   ]
  },
  {
   "cell_type": "code",
   "execution_count": null,
   "metadata": {},
   "outputs": [],
   "source": []
  },
  {
   "cell_type": "code",
   "execution_count": 12,
   "metadata": {},
   "outputs": [
    {
     "data": {
      "text/plain": [
       "LinearRegression()"
      ]
     },
     "execution_count": 12,
     "metadata": {},
     "output_type": "execute_result"
    }
   ],
   "source": [
    "regr.fit(X_train, y_train)"
   ]
  },
  {
   "cell_type": "code",
   "execution_count": 13,
   "metadata": {},
   "outputs": [],
   "source": [
    "y_pred = regr.predict(X_test)\n"
   ]
  },
  {
   "cell_type": "code",
   "execution_count": 14,
   "metadata": {},
   "outputs": [
    {
     "name": "stdout",
     "output_type": "stream",
     "text": [
      "Coefficients: \n",
      " [ 4.58130981e-07 -4.25154837e-03 -1.11026917e-03  7.34646869e-03\n",
      " -4.85842886e-04  1.00886238e-02  4.40672608e-02  8.66681827e-02\n",
      "  3.85881973e-04 -8.27811719e-05  2.04760273e-04  1.42836607e-04\n",
      "  4.58761429e-05 -1.09706373e-04  1.32055454e-05 -4.54397431e-06]\n"
     ]
    }
   ],
   "source": [
    "print('Coefficients: \\n', regr.coef_)\n",
    "#The mean squared error\n"
   ]
  },
  {
   "cell_type": "markdown",
   "metadata": {},
   "source": [
    "### Lasso"
   ]
  },
  {
   "cell_type": "code",
   "execution_count": 15,
   "metadata": {},
   "outputs": [],
   "source": [
    "lasso = linear_model.Lasso(0.01, normalize=True)"
   ]
  },
  {
   "cell_type": "code",
   "execution_count": 16,
   "metadata": {},
   "outputs": [
    {
     "data": {
      "text/plain": [
       "Lasso(alpha=0.01, normalize=True)"
      ]
     },
     "execution_count": 16,
     "metadata": {},
     "output_type": "execute_result"
    }
   ],
   "source": [
    "lasso.fit(X_train, y_train)"
   ]
  },
  {
   "cell_type": "code",
   "execution_count": 17,
   "metadata": {},
   "outputs": [],
   "source": [
    "y_pred_lasso = lasso.predict(X_test)"
   ]
  },
  {
   "cell_type": "code",
   "execution_count": 18,
   "metadata": {},
   "outputs": [
    {
     "data": {
      "text/plain": [
       "array([0.00579833, 0.00579833, 0.00579833, ..., 0.00579833, 0.00579833,\n",
       "       0.00579833])"
      ]
     },
     "execution_count": 18,
     "metadata": {},
     "output_type": "execute_result"
    }
   ],
   "source": [
    "y_pred_lasso"
   ]
  },
  {
   "cell_type": "markdown",
   "metadata": {},
   "source": [
    "### Lasso CV"
   ]
  },
  {
   "cell_type": "code",
   "execution_count": 19,
   "metadata": {},
   "outputs": [],
   "source": [
    "alphas = [0.00001, 0.0001, 0.001, 0.01, 0.1]\n"
   ]
  },
  {
   "cell_type": "code",
   "execution_count": 20,
   "metadata": {},
   "outputs": [],
   "source": [
    "lassocv = linear_model.LassoCV(eps=0.001, n_alphas=100, alphas=alphas, fit_intercept=True, normalize=False, max_iter=10000,  cv=10)\n"
   ]
  },
  {
   "cell_type": "code",
   "execution_count": 21,
   "metadata": {},
   "outputs": [
    {
     "data": {
      "text/plain": [
       "LassoCV(alphas=[1e-05, 0.0001, 0.001, 0.01, 0.1], cv=10, max_iter=10000)"
      ]
     },
     "execution_count": 21,
     "metadata": {},
     "output_type": "execute_result"
    }
   ],
   "source": [
    "lassocv.fit(X_train, y_train)\n"
   ]
  },
  {
   "cell_type": "code",
   "execution_count": 22,
   "metadata": {},
   "outputs": [],
   "source": [
    "y_pred_lassocv = lassocv.predict(X_test)\n"
   ]
  },
  {
   "cell_type": "code",
   "execution_count": 23,
   "metadata": {},
   "outputs": [
    {
     "data": {
      "text/plain": [
       "1e-05"
      ]
     },
     "execution_count": 23,
     "metadata": {},
     "output_type": "execute_result"
    }
   ],
   "source": [
    "lassocv.alpha_\n"
   ]
  },
  {
   "cell_type": "markdown",
   "metadata": {},
   "source": [
    "###  for submission"
   ]
  },
  {
   "cell_type": "code",
   "execution_count": 24,
   "metadata": {},
   "outputs": [
    {
     "data": {
      "text/html": [
       "<div>\n",
       "<style scoped>\n",
       "    .dataframe tbody tr th:only-of-type {\n",
       "        vertical-align: middle;\n",
       "    }\n",
       "\n",
       "    .dataframe tbody tr th {\n",
       "        vertical-align: top;\n",
       "    }\n",
       "\n",
       "    .dataframe thead th {\n",
       "        text-align: right;\n",
       "    }\n",
       "</style>\n",
       "<table border=\"1\" class=\"dataframe\">\n",
       "  <thead>\n",
       "    <tr style=\"text-align: right;\">\n",
       "      <th></th>\n",
       "      <th>SITE_ID</th>\n",
       "      <th>Day</th>\n",
       "      <th>NoA</th>\n",
       "    </tr>\n",
       "  </thead>\n",
       "  <tbody>\n",
       "    <tr>\n",
       "      <th>0</th>\n",
       "      <td>0</td>\n",
       "      <td>2</td>\n",
       "      <td>0.004422</td>\n",
       "    </tr>\n",
       "    <tr>\n",
       "      <th>1</th>\n",
       "      <td>0</td>\n",
       "      <td>9</td>\n",
       "      <td>0.003799</td>\n",
       "    </tr>\n",
       "    <tr>\n",
       "      <th>2</th>\n",
       "      <td>0</td>\n",
       "      <td>12</td>\n",
       "      <td>0.003772</td>\n",
       "    </tr>\n",
       "    <tr>\n",
       "      <th>3</th>\n",
       "      <td>0</td>\n",
       "      <td>18</td>\n",
       "      <td>0.004441</td>\n",
       "    </tr>\n",
       "    <tr>\n",
       "      <th>4</th>\n",
       "      <td>0</td>\n",
       "      <td>21</td>\n",
       "      <td>0.004321</td>\n",
       "    </tr>\n",
       "    <tr>\n",
       "      <th>...</th>\n",
       "      <td>...</td>\n",
       "      <td>...</td>\n",
       "      <td>...</td>\n",
       "    </tr>\n",
       "    <tr>\n",
       "      <th>124255</th>\n",
       "      <td>2604</td>\n",
       "      <td>279</td>\n",
       "      <td>-0.000369</td>\n",
       "    </tr>\n",
       "    <tr>\n",
       "      <th>124256</th>\n",
       "      <td>2604</td>\n",
       "      <td>287</td>\n",
       "      <td>0.000164</td>\n",
       "    </tr>\n",
       "    <tr>\n",
       "      <th>124257</th>\n",
       "      <td>2604</td>\n",
       "      <td>292</td>\n",
       "      <td>-0.000144</td>\n",
       "    </tr>\n",
       "    <tr>\n",
       "      <th>124258</th>\n",
       "      <td>2604</td>\n",
       "      <td>295</td>\n",
       "      <td>0.000225</td>\n",
       "    </tr>\n",
       "    <tr>\n",
       "      <th>124259</th>\n",
       "      <td>2604</td>\n",
       "      <td>296</td>\n",
       "      <td>0.000149</td>\n",
       "    </tr>\n",
       "  </tbody>\n",
       "</table>\n",
       "<p>124260 rows × 3 columns</p>\n",
       "</div>"
      ],
      "text/plain": [
       "        SITE_ID  Day       NoA\n",
       "0             0    2  0.004422\n",
       "1             0    9  0.003799\n",
       "2             0   12  0.003772\n",
       "3             0   18  0.004441\n",
       "4             0   21  0.004321\n",
       "...         ...  ...       ...\n",
       "124255     2604  279 -0.000369\n",
       "124256     2604  287  0.000164\n",
       "124257     2604  292 -0.000144\n",
       "124258     2604  295  0.000225\n",
       "124259     2604  296  0.000149\n",
       "\n",
       "[124260 rows x 3 columns]"
      ]
     },
     "execution_count": 24,
     "metadata": {},
     "output_type": "execute_result"
    }
   ],
   "source": [
    "result = pd.DataFrame(X_test['SITE_ID'])\n",
    "result['Day']=X_test['Day']\n",
    "result['NoA']=y_pred\n",
    "result.groupby(['SITE_ID','Day'],as_index=False)['NoA'].sum()"
   ]
  },
  {
   "cell_type": "code",
   "execution_count": 25,
   "metadata": {},
   "outputs": [
    {
     "data": {
      "text/html": [
       "<div>\n",
       "<style scoped>\n",
       "    .dataframe tbody tr th:only-of-type {\n",
       "        vertical-align: middle;\n",
       "    }\n",
       "\n",
       "    .dataframe tbody tr th {\n",
       "        vertical-align: top;\n",
       "    }\n",
       "\n",
       "    .dataframe thead th {\n",
       "        text-align: right;\n",
       "    }\n",
       "</style>\n",
       "<table border=\"1\" class=\"dataframe\">\n",
       "  <thead>\n",
       "    <tr style=\"text-align: right;\">\n",
       "      <th></th>\n",
       "      <th>SITE_ID</th>\n",
       "      <th>Day</th>\n",
       "      <th>NoA</th>\n",
       "    </tr>\n",
       "  </thead>\n",
       "  <tbody>\n",
       "    <tr>\n",
       "      <th>0</th>\n",
       "      <td>0</td>\n",
       "      <td>2</td>\n",
       "      <td>0.005798</td>\n",
       "    </tr>\n",
       "    <tr>\n",
       "      <th>1</th>\n",
       "      <td>0</td>\n",
       "      <td>9</td>\n",
       "      <td>0.005798</td>\n",
       "    </tr>\n",
       "    <tr>\n",
       "      <th>2</th>\n",
       "      <td>0</td>\n",
       "      <td>12</td>\n",
       "      <td>0.005798</td>\n",
       "    </tr>\n",
       "    <tr>\n",
       "      <th>3</th>\n",
       "      <td>0</td>\n",
       "      <td>18</td>\n",
       "      <td>0.005798</td>\n",
       "    </tr>\n",
       "    <tr>\n",
       "      <th>4</th>\n",
       "      <td>0</td>\n",
       "      <td>21</td>\n",
       "      <td>0.005798</td>\n",
       "    </tr>\n",
       "    <tr>\n",
       "      <th>...</th>\n",
       "      <td>...</td>\n",
       "      <td>...</td>\n",
       "      <td>...</td>\n",
       "    </tr>\n",
       "    <tr>\n",
       "      <th>124255</th>\n",
       "      <td>2604</td>\n",
       "      <td>279</td>\n",
       "      <td>0.005798</td>\n",
       "    </tr>\n",
       "    <tr>\n",
       "      <th>124256</th>\n",
       "      <td>2604</td>\n",
       "      <td>287</td>\n",
       "      <td>0.005798</td>\n",
       "    </tr>\n",
       "    <tr>\n",
       "      <th>124257</th>\n",
       "      <td>2604</td>\n",
       "      <td>292</td>\n",
       "      <td>0.005798</td>\n",
       "    </tr>\n",
       "    <tr>\n",
       "      <th>124258</th>\n",
       "      <td>2604</td>\n",
       "      <td>295</td>\n",
       "      <td>0.005798</td>\n",
       "    </tr>\n",
       "    <tr>\n",
       "      <th>124259</th>\n",
       "      <td>2604</td>\n",
       "      <td>296</td>\n",
       "      <td>0.005798</td>\n",
       "    </tr>\n",
       "  </tbody>\n",
       "</table>\n",
       "<p>124260 rows × 3 columns</p>\n",
       "</div>"
      ],
      "text/plain": [
       "        SITE_ID  Day       NoA\n",
       "0             0    2  0.005798\n",
       "1             0    9  0.005798\n",
       "2             0   12  0.005798\n",
       "3             0   18  0.005798\n",
       "4             0   21  0.005798\n",
       "...         ...  ...       ...\n",
       "124255     2604  279  0.005798\n",
       "124256     2604  287  0.005798\n",
       "124257     2604  292  0.005798\n",
       "124258     2604  295  0.005798\n",
       "124259     2604  296  0.005798\n",
       "\n",
       "[124260 rows x 3 columns]"
      ]
     },
     "execution_count": 25,
     "metadata": {},
     "output_type": "execute_result"
    }
   ],
   "source": [
    "result = pd.DataFrame(X_test['SITE_ID'])\n",
    "result['Day']=X_test['Day']\n",
    "result['NoA']=y_pred_lasso\n",
    "result.groupby(['SITE_ID','Day'],as_index=False)['NoA'].sum()"
   ]
  },
  {
   "cell_type": "code",
   "execution_count": 26,
   "metadata": {},
   "outputs": [
    {
     "data": {
      "text/html": [
       "<div>\n",
       "<style scoped>\n",
       "    .dataframe tbody tr th:only-of-type {\n",
       "        vertical-align: middle;\n",
       "    }\n",
       "\n",
       "    .dataframe tbody tr th {\n",
       "        vertical-align: top;\n",
       "    }\n",
       "\n",
       "    .dataframe thead th {\n",
       "        text-align: right;\n",
       "    }\n",
       "</style>\n",
       "<table border=\"1\" class=\"dataframe\">\n",
       "  <thead>\n",
       "    <tr style=\"text-align: right;\">\n",
       "      <th></th>\n",
       "      <th>SITE_ID</th>\n",
       "      <th>Day</th>\n",
       "      <th>NoA</th>\n",
       "    </tr>\n",
       "  </thead>\n",
       "  <tbody>\n",
       "    <tr>\n",
       "      <th>0</th>\n",
       "      <td>0</td>\n",
       "      <td>2</td>\n",
       "      <td>0.004351</td>\n",
       "    </tr>\n",
       "    <tr>\n",
       "      <th>1</th>\n",
       "      <td>0</td>\n",
       "      <td>9</td>\n",
       "      <td>0.003813</td>\n",
       "    </tr>\n",
       "    <tr>\n",
       "      <th>2</th>\n",
       "      <td>0</td>\n",
       "      <td>12</td>\n",
       "      <td>0.003787</td>\n",
       "    </tr>\n",
       "    <tr>\n",
       "      <th>3</th>\n",
       "      <td>0</td>\n",
       "      <td>18</td>\n",
       "      <td>0.004444</td>\n",
       "    </tr>\n",
       "    <tr>\n",
       "      <th>4</th>\n",
       "      <td>0</td>\n",
       "      <td>21</td>\n",
       "      <td>0.004332</td>\n",
       "    </tr>\n",
       "    <tr>\n",
       "      <th>...</th>\n",
       "      <td>...</td>\n",
       "      <td>...</td>\n",
       "      <td>...</td>\n",
       "    </tr>\n",
       "    <tr>\n",
       "      <th>124255</th>\n",
       "      <td>2604</td>\n",
       "      <td>279</td>\n",
       "      <td>-0.000369</td>\n",
       "    </tr>\n",
       "    <tr>\n",
       "      <th>124256</th>\n",
       "      <td>2604</td>\n",
       "      <td>287</td>\n",
       "      <td>0.000145</td>\n",
       "    </tr>\n",
       "    <tr>\n",
       "      <th>124257</th>\n",
       "      <td>2604</td>\n",
       "      <td>292</td>\n",
       "      <td>-0.000150</td>\n",
       "    </tr>\n",
       "    <tr>\n",
       "      <th>124258</th>\n",
       "      <td>2604</td>\n",
       "      <td>295</td>\n",
       "      <td>0.000203</td>\n",
       "    </tr>\n",
       "    <tr>\n",
       "      <th>124259</th>\n",
       "      <td>2604</td>\n",
       "      <td>296</td>\n",
       "      <td>0.000148</td>\n",
       "    </tr>\n",
       "  </tbody>\n",
       "</table>\n",
       "<p>124260 rows × 3 columns</p>\n",
       "</div>"
      ],
      "text/plain": [
       "        SITE_ID  Day       NoA\n",
       "0             0    2  0.004351\n",
       "1             0    9  0.003813\n",
       "2             0   12  0.003787\n",
       "3             0   18  0.004444\n",
       "4             0   21  0.004332\n",
       "...         ...  ...       ...\n",
       "124255     2604  279 -0.000369\n",
       "124256     2604  287  0.000145\n",
       "124257     2604  292 -0.000150\n",
       "124258     2604  295  0.000203\n",
       "124259     2604  296  0.000148\n",
       "\n",
       "[124260 rows x 3 columns]"
      ]
     },
     "execution_count": 26,
     "metadata": {},
     "output_type": "execute_result"
    }
   ],
   "source": [
    "result = pd.DataFrame(X_test['SITE_ID'])\n",
    "result['Day']=X_test['Day']\n",
    "result['NoA']=y_pred_lassocv\n",
    "result.groupby(['SITE_ID','Day'],as_index=False)['NoA'].sum()"
   ]
  },
  {
   "cell_type": "code",
   "execution_count": 27,
   "metadata": {},
   "outputs": [],
   "source": [
    "X_test['NoA']=y_test"
   ]
  },
  {
   "cell_type": "code",
   "execution_count": 28,
   "metadata": {},
   "outputs": [],
   "source": [
    "#for row in result.iterrows():\n",
    "    "
   ]
  },
  {
   "cell_type": "code",
   "execution_count": 29,
   "metadata": {},
   "outputs": [
    {
     "data": {
      "text/html": [
       "<div>\n",
       "<style scoped>\n",
       "    .dataframe tbody tr th:only-of-type {\n",
       "        vertical-align: middle;\n",
       "    }\n",
       "\n",
       "    .dataframe tbody tr th {\n",
       "        vertical-align: top;\n",
       "    }\n",
       "\n",
       "    .dataframe thead th {\n",
       "        text-align: right;\n",
       "    }\n",
       "</style>\n",
       "<table border=\"1\" class=\"dataframe\">\n",
       "  <thead>\n",
       "    <tr style=\"text-align: right;\">\n",
       "      <th></th>\n",
       "      <th>SITE_ID</th>\n",
       "      <th>CELL_TYPE_micro</th>\n",
       "      <th>GEOGRAPHIC_CLUSTER_K_1</th>\n",
       "      <th>GEOGRAPHIC_CLUSTER_K_3</th>\n",
       "      <th>GEOGRAPHIC_CLUSTER_K_7</th>\n",
       "      <th>GEOGRAPHIC_CLUSTER_K_9</th>\n",
       "      <th>aircon_sum_wo_prev7d</th>\n",
       "      <th>aircon_sum_wo_prev14d</th>\n",
       "      <th>mean_rain_mm_prev7d</th>\n",
       "      <th>mean_temperature_f_next14d</th>\n",
       "      <th>max_temperature_f_next14d</th>\n",
       "      <th>min_temperature_f_next14d</th>\n",
       "      <th>mean_temperature_f_next7d</th>\n",
       "      <th>max_temperature_f_next7d</th>\n",
       "      <th>min_temperature_f_next7d</th>\n",
       "      <th>Day</th>\n",
       "      <th>NoA</th>\n",
       "    </tr>\n",
       "  </thead>\n",
       "  <tbody>\n",
       "    <tr>\n",
       "      <th>2302</th>\n",
       "      <td>1551</td>\n",
       "      <td>0</td>\n",
       "      <td>0</td>\n",
       "      <td>0</td>\n",
       "      <td>0</td>\n",
       "      <td>0</td>\n",
       "      <td>0.0</td>\n",
       "      <td>0.0</td>\n",
       "      <td>0.00</td>\n",
       "      <td>13.93</td>\n",
       "      <td>20.0</td>\n",
       "      <td>6.0</td>\n",
       "      <td>11.14</td>\n",
       "      <td>18.0</td>\n",
       "      <td>6.0</td>\n",
       "      <td>202</td>\n",
       "      <td>0</td>\n",
       "    </tr>\n",
       "    <tr>\n",
       "      <th>449895</th>\n",
       "      <td>668</td>\n",
       "      <td>0</td>\n",
       "      <td>0</td>\n",
       "      <td>0</td>\n",
       "      <td>0</td>\n",
       "      <td>0</td>\n",
       "      <td>0.0</td>\n",
       "      <td>0.0</td>\n",
       "      <td>0.00</td>\n",
       "      <td>12.71</td>\n",
       "      <td>19.0</td>\n",
       "      <td>5.0</td>\n",
       "      <td>16.14</td>\n",
       "      <td>19.0</td>\n",
       "      <td>11.0</td>\n",
       "      <td>195</td>\n",
       "      <td>0</td>\n",
       "    </tr>\n",
       "    <tr>\n",
       "      <th>607485</th>\n",
       "      <td>1851</td>\n",
       "      <td>0</td>\n",
       "      <td>0</td>\n",
       "      <td>1</td>\n",
       "      <td>0</td>\n",
       "      <td>0</td>\n",
       "      <td>0.0</td>\n",
       "      <td>0.0</td>\n",
       "      <td>0.00</td>\n",
       "      <td>3.21</td>\n",
       "      <td>8.0</td>\n",
       "      <td>-3.0</td>\n",
       "      <td>1.14</td>\n",
       "      <td>5.0</td>\n",
       "      <td>-3.0</td>\n",
       "      <td>285</td>\n",
       "      <td>0</td>\n",
       "    </tr>\n",
       "    <tr>\n",
       "      <th>213908</th>\n",
       "      <td>1093</td>\n",
       "      <td>0</td>\n",
       "      <td>0</td>\n",
       "      <td>0</td>\n",
       "      <td>1</td>\n",
       "      <td>0</td>\n",
       "      <td>0.0</td>\n",
       "      <td>0.0</td>\n",
       "      <td>8.49</td>\n",
       "      <td>16.93</td>\n",
       "      <td>22.0</td>\n",
       "      <td>12.0</td>\n",
       "      <td>14.43</td>\n",
       "      <td>18.0</td>\n",
       "      <td>12.0</td>\n",
       "      <td>8</td>\n",
       "      <td>0</td>\n",
       "    </tr>\n",
       "    <tr>\n",
       "      <th>563429</th>\n",
       "      <td>680</td>\n",
       "      <td>0</td>\n",
       "      <td>0</td>\n",
       "      <td>0</td>\n",
       "      <td>1</td>\n",
       "      <td>0</td>\n",
       "      <td>0.0</td>\n",
       "      <td>0.0</td>\n",
       "      <td>5.67</td>\n",
       "      <td>20.64</td>\n",
       "      <td>26.0</td>\n",
       "      <td>15.0</td>\n",
       "      <td>17.86</td>\n",
       "      <td>20.0</td>\n",
       "      <td>15.0</td>\n",
       "      <td>29</td>\n",
       "      <td>0</td>\n",
       "    </tr>\n",
       "  </tbody>\n",
       "</table>\n",
       "</div>"
      ],
      "text/plain": [
       "        SITE_ID  CELL_TYPE_micro  GEOGRAPHIC_CLUSTER_K_1  \\\n",
       "2302       1551                0                       0   \n",
       "449895      668                0                       0   \n",
       "607485     1851                0                       0   \n",
       "213908     1093                0                       0   \n",
       "563429      680                0                       0   \n",
       "\n",
       "        GEOGRAPHIC_CLUSTER_K_3  GEOGRAPHIC_CLUSTER_K_7  \\\n",
       "2302                         0                       0   \n",
       "449895                       0                       0   \n",
       "607485                       1                       0   \n",
       "213908                       0                       1   \n",
       "563429                       0                       1   \n",
       "\n",
       "        GEOGRAPHIC_CLUSTER_K_9  aircon_sum_wo_prev7d  aircon_sum_wo_prev14d  \\\n",
       "2302                         0                   0.0                    0.0   \n",
       "449895                       0                   0.0                    0.0   \n",
       "607485                       0                   0.0                    0.0   \n",
       "213908                       0                   0.0                    0.0   \n",
       "563429                       0                   0.0                    0.0   \n",
       "\n",
       "        mean_rain_mm_prev7d  mean_temperature_f_next14d  \\\n",
       "2302                   0.00                       13.93   \n",
       "449895                 0.00                       12.71   \n",
       "607485                 0.00                        3.21   \n",
       "213908                 8.49                       16.93   \n",
       "563429                 5.67                       20.64   \n",
       "\n",
       "        max_temperature_f_next14d  min_temperature_f_next14d  \\\n",
       "2302                         20.0                        6.0   \n",
       "449895                       19.0                        5.0   \n",
       "607485                        8.0                       -3.0   \n",
       "213908                       22.0                       12.0   \n",
       "563429                       26.0                       15.0   \n",
       "\n",
       "        mean_temperature_f_next7d  max_temperature_f_next7d  \\\n",
       "2302                        11.14                      18.0   \n",
       "449895                      16.14                      19.0   \n",
       "607485                       1.14                       5.0   \n",
       "213908                      14.43                      18.0   \n",
       "563429                      17.86                      20.0   \n",
       "\n",
       "        min_temperature_f_next7d  Day  NoA  \n",
       "2302                         6.0  202    0  \n",
       "449895                      11.0  195    0  \n",
       "607485                      -3.0  285    0  \n",
       "213908                      12.0    8    0  \n",
       "563429                      15.0   29    0  "
      ]
     },
     "execution_count": 29,
     "metadata": {},
     "output_type": "execute_result"
    }
   ],
   "source": [
    "X_test.head()"
   ]
  },
  {
   "cell_type": "code",
   "execution_count": null,
   "metadata": {},
   "outputs": [],
   "source": []
  },
  {
   "cell_type": "code",
   "execution_count": 44,
   "metadata": {},
   "outputs": [
    {
     "ename": "NameError",
     "evalue": "name 'evaluate' is not defined",
     "output_type": "error",
     "traceback": [
      "\u001b[1;31m---------------------------------------------------------------------------\u001b[0m",
      "\u001b[1;31mNameError\u001b[0m                                 Traceback (most recent call last)",
      "\u001b[1;32m<ipython-input-44-123858c48eca>\u001b[0m in \u001b[0;36m<module>\u001b[1;34m\u001b[0m\n\u001b[1;32m----> 1\u001b[1;33m \u001b[0meval_lr\u001b[0m\u001b[1;33m=\u001b[0m\u001b[0mevaluate\u001b[0m\u001b[1;33m(\u001b[0m\u001b[0mX_test\u001b[0m\u001b[1;33m,\u001b[0m\u001b[0mresult\u001b[0m\u001b[1;33m)\u001b[0m\u001b[1;33m\u001b[0m\u001b[1;33m\u001b[0m\u001b[0m\n\u001b[0m\u001b[0;32m      2\u001b[0m \u001b[0meval_lasso\u001b[0m\u001b[1;33m=\u001b[0m\u001b[0mevaluate\u001b[0m\u001b[1;33m(\u001b[0m\u001b[0mX_test\u001b[0m\u001b[1;33m,\u001b[0m\u001b[0mresult_lasso\u001b[0m\u001b[1;33m)\u001b[0m\u001b[1;33m\u001b[0m\u001b[1;33m\u001b[0m\u001b[0m\n\u001b[0;32m      3\u001b[0m \u001b[0meval_lassocv\u001b[0m\u001b[1;33m=\u001b[0m\u001b[0mevaluate\u001b[0m\u001b[1;33m(\u001b[0m\u001b[0mX_test\u001b[0m\u001b[1;33m,\u001b[0m\u001b[0mresult_lassocv\u001b[0m\u001b[1;33m)\u001b[0m\u001b[1;33m\u001b[0m\u001b[1;33m\u001b[0m\u001b[0m\n",
      "\u001b[1;31mNameError\u001b[0m: name 'evaluate' is not defined"
     ]
    }
   ],
   "source": [
    "# eval_lr=evaluate(X_test,result)\n",
    "# eval_lasso=evaluate(X_test,result_lasso)\n",
    "# eval_lassocv=evaluate(X_test,result_lassocv)"
   ]
  },
  {
   "cell_type": "code",
   "execution_count": 30,
   "metadata": {},
   "outputs": [],
   "source": [
    "r2_lr = r2_score(y_test, y_pred)\n",
    "r2_lasso =r2_score(y_test, y_pred_lasso)\n",
    "r2_lassocv = r2_score(y_test, y_pred_lassocv)\n"
   ]
  },
  {
   "cell_type": "code",
   "execution_count": 46,
   "metadata": {},
   "outputs": [
    {
     "data": {
      "text/plain": [
       "0.049808088109394966"
      ]
     },
     "execution_count": 46,
     "metadata": {},
     "output_type": "execute_result"
    }
   ],
   "source": [
    "r2_lr"
   ]
  },
  {
   "cell_type": "code",
   "execution_count": 47,
   "metadata": {},
   "outputs": [
    {
     "data": {
      "text/plain": [
       "-4.390124332065426e-06"
      ]
     },
     "execution_count": 47,
     "metadata": {},
     "output_type": "execute_result"
    }
   ],
   "source": [
    "r2_lasso"
   ]
  },
  {
   "cell_type": "code",
   "execution_count": 48,
   "metadata": {},
   "outputs": [
    {
     "data": {
      "text/plain": [
       "0.04979402122926502"
      ]
     },
     "execution_count": 48,
     "metadata": {},
     "output_type": "execute_result"
    }
   ],
   "source": [
    "r2_lassocv"
   ]
  },
  {
   "cell_type": "markdown",
   "metadata": {},
   "source": [
    "##### with seleted features"
   ]
  },
  {
   "cell_type": "code",
   "execution_count": 31,
   "metadata": {},
   "outputs": [
    {
     "data": {
      "text/plain": [
       "0.048719395846672064"
      ]
     },
     "execution_count": 31,
     "metadata": {},
     "output_type": "execute_result"
    }
   ],
   "source": [
    "r2_lr"
   ]
  },
  {
   "cell_type": "code",
   "execution_count": 32,
   "metadata": {},
   "outputs": [
    {
     "data": {
      "text/plain": [
       "-4.390124332065426e-06"
      ]
     },
     "execution_count": 32,
     "metadata": {},
     "output_type": "execute_result"
    }
   ],
   "source": [
    "r2_lasso"
   ]
  },
  {
   "cell_type": "code",
   "execution_count": 33,
   "metadata": {},
   "outputs": [
    {
     "data": {
      "text/plain": [
       "0.04864169081809033"
      ]
     },
     "execution_count": 33,
     "metadata": {},
     "output_type": "execute_result"
    }
   ],
   "source": [
    "r2_lassocv"
   ]
  },
  {
   "cell_type": "code",
   "execution_count": null,
   "metadata": {},
   "outputs": [],
   "source": []
  }
 ],
 "metadata": {
  "kernelspec": {
   "display_name": "Python 3",
   "language": "python",
   "name": "python3"
  },
  "language_info": {
   "codemirror_mode": {
    "name": "ipython",
    "version": 3
   },
   "file_extension": ".py",
   "mimetype": "text/x-python",
   "name": "python",
   "nbconvert_exporter": "python",
   "pygments_lexer": "ipython3",
   "version": "3.8.5"
  }
 },
 "nbformat": 4,
 "nbformat_minor": 4
}
