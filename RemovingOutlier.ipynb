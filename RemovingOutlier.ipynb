{
  "nbformat": 4,
  "nbformat_minor": 0,
  "metadata": {
    "colab": {
      "name": "Untitled19.ipynb",
      "provenance": [],
      "collapsed_sections": []
    },
    "kernelspec": {
      "name": "python3",
      "display_name": "Python 3"
    }
  },
  "cells": [
    {
      "cell_type": "code",
      "metadata": {
        "id": "gTLlgG4-IoQe"
      },
      "source": [
        "import pandas as pd\n",
        "import numpy as np\n",
        "import os\n",
        "\n",
        "# Statistical libraries\n",
        "from scipy import stats\n",
        "from numpy import percentile\n",
        "\n",
        "# Plotting libraries\n",
        "import matplotlib.pyplot as plt\n",
        "import seaborn as sns\n",
        "%matplotlib inline\n",
        "\n",
        "# Preprocessing\n",
        "from sklearn.preprocessing import StandardScaler\n",
        "from sklearn.preprocessing import power_transform\n",
        "from sklearn.preprocessing import MinMaxScaler\n",
        "\n",
        "# Evaluation Procedures\n",
        "from sklearn.model_selection import train_test_split\n",
        "from sklearn.model_selection import cross_val_score\n",
        "from sklearn.model_selection import StratifiedKFold\n",
        "\n",
        "# Classification methods\n",
        "from sklearn.linear_model import LogisticRegression\n",
        "from sklearn.naive_bayes import GaussianNB\n",
        "from sklearn.neighbors import KNeighborsClassifier\n",
        "from sklearn.tree import DecisionTreeClassifier\n",
        "\n",
        "from sklearn.ensemble import RandomForestClassifier\n",
        "from sklearn.ensemble import ExtraTreesClassifier\n",
        "from sklearn.ensemble import AdaBoostClassifier\n",
        "from sklearn.ensemble import BaggingClassifier\n",
        "from sklearn.ensemble import ExtraTreesRegressor\n",
        "\n",
        "from sklearn.ensemble import VotingClassifier\n",
        "\n",
        "# Evaluation Metrics\n",
        "from sklearn.metrics import precision_score\n",
        "from sklearn.metrics import recall_score\n",
        "from sklearn.metrics import confusion_matrix\n",
        "from sklearn.metrics import precision_recall_curve\n",
        "from sklearn.metrics import average_precision_score\n",
        "from sklearn.metrics import precision_score\n",
        "from sklearn.metrics import recall_score\n",
        "from sklearn.metrics import accuracy_score\n",
        "from sklearn.metrics import roc_curve\n",
        "from sklearn.metrics import roc_auc_score\n",
        "from sklearn.metrics import f1_score"
      ],
      "execution_count": 3,
      "outputs": []
    },
    {
      "cell_type": "code",
      "metadata": {
        "id": "2K6xMho3IoQh"
      },
      "source": [
        "def print_all (to_print):\n",
        "    with pd.option_context('display.max_rows', None, 'display.max_columns', None):  # more options can be specified also\n",
        "        print(to_print)"
      ],
      "execution_count": 4,
      "outputs": []
    },
    {
      "cell_type": "code",
      "metadata": {
        "id": "x5GRwsBsIoQh"
      },
      "source": [
        "def print_his(dat0a, bins):\n",
        "    hist1 = sns.distplot(data,bins=bins)"
      ],
      "execution_count": 5,
      "outputs": []
    },
    {
      "cell_type": "code",
      "metadata": {
        "id": "QqvWACSWIoQi"
      },
      "source": [
        "def print_clean_col_std(df):\n",
        "    mean, std = df.mean() , df.std()\n",
        "    lower, upper = mean - 3*std, mean + 3*std\n",
        "    all_outliers = 0\n",
        "    i=0\n",
        "    for col in df.columns:\n",
        "        outliers = ((df[col]>upper[col]) | (df[col]<lower[col])).astype(int)\n",
        "        \n",
        "        if (outliers.sum()>0):\n",
        "            print(\"Variable %s (%.3f,%.3f) has %d outliers\"%(col,mean[col],std[col],outliers.sum()))\n",
        "            all_outliers +=outliers.sum()\n",
        "        else:\n",
        "            i+=1\n",
        "    print('the number of cleaned columns are ', i)\n",
        "    print('the number of all outliers is ', all_outliers)"
      ],
      "execution_count": 6,
      "outputs": []
    },
    {
      "cell_type": "code",
      "metadata": {
        "id": "TGY0C1EfC-Gt"
      },
      "source": [
        "def print_clean_col_iqr(df):\n",
        "    X = df.copy()\n",
        "    all_outliers=0\n",
        "    sorted(X)\n",
        "    # calculate interquartile range\n",
        "    q25, q75 = X.quantile(0.25), X.quantile(0.75)\n",
        "    # q25, q75 = np.percentile(X , [25,75])\n",
        "    iqr = q75 - q25\n",
        "    cut_off = iqr * 1.5\n",
        "    lower, upper = q25 - cut_off, q75 + cut_off\n",
        "    i=0\n",
        "    for col in X.columns:\n",
        "        outliers = ((X[col]>upper[col]) | (X[col]<lower[col])).astype(int)\n",
        "        \n",
        "        if (outliers.sum()>0):\n",
        "            print(\"Variable %s has %d outliers\"%(col,outliers.sum()))\n",
        "            all_outliers +=outliers.sum()\n",
        "            \n",
        "        else:\n",
        "            i+=1\n",
        "    print('the number of cleaned columns are ', i)\n",
        "    print('the number of all outliers is ', all_outliers)\n"
      ],
      "execution_count": 7,
      "outputs": []
    },
    {
      "cell_type": "code",
      "metadata": {
        "id": "TNli9b1VCiSL"
      },
      "source": [
        "# Finding and replace outliers with standard deviation Method \n",
        "def replace_outliers_std(transform_df , original_df):\n",
        "    X =transform_df.copy()\n",
        "    mean, std = X.mean() , X.std()\n",
        "\n",
        "    # identify outliers\n",
        "    cut_off = std * 3\n",
        "    lower, upper = mean - cut_off, mean + cut_off\n",
        "    for col in X.columns:\n",
        "        original_df.loc[X[col]>upper[col], col] = upper[col]\n",
        "        original_df.loc[X[col]<lower[col], col] = lower[col]\n",
        "\n",
        "    return original_df"
      ],
      "execution_count": 8,
      "outputs": []
    },
    {
      "cell_type": "code",
      "metadata": {
        "id": "mQeQF1kC-DkZ"
      },
      "source": [
        "# Finding and replace outliers with Interquartile Range, or IQR  Method \r\n",
        "def replace_outliers_iqr(transform_df , original_df):\r\n",
        "    X =transform_df.copy()\r\n",
        "    # calculate interquartile range\r\n",
        "    q25, q75 = X.quantile(0.25), X.quantile(0.75)\r\n",
        "    iqr = q75 - q25\r\n",
        "    cut_off = iqr * 1.5\r\n",
        "    lower, upper = q25 - cut_off, q75 + cut_off\r\n",
        "    for col in X.columns:\r\n",
        "      original_df.loc[X[col]>upper[col], col] = upper[col]\r\n",
        "      original_df.loc[X[col]<lower[col], col] = lower[col]\r\n",
        "\r\n",
        "    return original_df"
      ],
      "execution_count": 9,
      "outputs": []
    },
    {
      "cell_type": "code",
      "metadata": {
        "id": "9cK36k9gOIOX"
      },
      "source": [
        "# sort Numerical values function\n",
        "def sorted_m3_numerical_values(numerical_df, reverse = True):\n",
        "    sorted_Numerical_df = numerical_df.reindex(sorted(numerical_df.columns, reverse=reverse), axis=1)\n",
        "    sorted_Numerical_columns_list = (list(sorted_Numerical_df.columns))\n",
        "    New_Numerical_columns_list = []\n",
        "    for column in sorted_Numerical_columns_list:\n",
        "        New_column = column.replace('_',' ')\n",
        "        New_Numerical_columns_list.append(New_column)\n",
        "\n",
        "    New_Numerical_columns_list.sort(key=lambda s: s.split()[1])\n",
        "\n",
        "    sorted_Numerical_columns_list.clear()\n",
        "    for column in New_Numerical_columns_list:\n",
        "        New_column = column.replace(' ','_')\n",
        "        sorted_Numerical_columns_list.append(New_column)\n",
        "\n",
        "    #drop the dataframe\n",
        "    sorted_Numerical_df = sorted_Numerical_df.iloc[0:0]\n",
        "\n",
        "    sorted_Numerical_df = numerical_df[sorted_Numerical_columns_list]\n",
        "    return sorted_Numerical_df\n"
      ],
      "execution_count": 10,
      "outputs": []
    },
    {
      "cell_type": "code",
      "metadata": {
        "id": "OH-UnhPnNV8l",
        "colab": {
          "base_uri": "https://localhost:8080/"
        },
        "outputId": "ce4359f5-b8b0-4651-d298-6536f1e621e7"
      },
      "source": [
        "# Loading the DATA  for Daniel, \n",
        "#Don't use it if you don't want to mount your google drive with google colab\n",
        "from google.colab import drive\n",
        "drive.mount('/content/drive') #,force_remount=Truimport os \n",
        "cwd = os.getcwd()\n",
        "dataset_dir = os.path.join(cwd, 'DMTMDataset')\n",
        "#train_df=pd.read_csv(os.path.join(dataset_dir,'train.csv'))\n",
        "dataset_direction='/content/drive/MyDrive/'\n",
        "# !unzip ('/content/drive/MyDrive/')\n",
        "train_df=open(os.path.join(dataset_direction,'train.csv'))\n",
        "df=pd.read_csv((train_df))\n"
      ],
      "execution_count": 11,
      "outputs": [
        {
          "output_type": "stream",
          "text": [
            "Drive already mounted at /content/drive; to attempt to forcibly remount, call drive.mount(\"/content/drive\", force_remount=True).\n"
          ],
          "name": "stdout"
        }
      ]
    },
    {
      "cell_type": "code",
      "metadata": {
        "id": "cvLRimDZnjjc"
      },
      "source": [
        "df.describe(include='all')"
      ],
      "execution_count": null,
      "outputs": []
    },
    {
      "cell_type": "code",
      "metadata": {
        "id": "9JrKeauUHfZf"
      },
      "source": [
        "# df = pd.read_csv('train.csv')"
      ],
      "execution_count": null,
      "outputs": []
    },
    {
      "cell_type": "code",
      "metadata": {
        "id": "33TJxteEIoQo"
      },
      "source": [
        "df.hist(figsize = (60,60))"
      ],
      "execution_count": null,
      "outputs": []
    },
    {
      "cell_type": "code",
      "metadata": {
        "id": "y_Ar1pi6Nr0R"
      },
      "source": [
        "#Sort alarm's correlated columns \n",
        "sorted_sum_alarm_df = df.loc[: , 'equipment_sum_alarms_prev14d':'temperature_sum_alarms_prev3d']\n",
        "sorted_sum_alarm_df = sorted_sum_alarm_df.reindex(sorted(sorted_sum_alarm_df.columns, reverse=True), axis=1)## alarms\n",
        "\n",
        "#Sort persistance's correlated columns\n",
        "sorted_persistance_df = (df.loc[:, 'equipment_max_persistance_prev7d': 'temperature_min_persistance_prev3d'])\n",
        "sorted_persistance_df = sorted_persistance_df.reindex(sorted(sorted_persistance_df.columns, reverse=True), axis=1)## persistance\n",
        "\n",
        "\n",
        "#sort Numerical's  columns \n",
        "sorted_numerical_df = df.loc[: , 'mean_temperature_prev7d':'min_pressure_f_next7d']## Numerical\n",
        "sorted_numerical_df = sorted_m3_numerical_values(sorted_numerical_df) \n",
        "\n",
        "#Skewness and Kurt\n",
        "skew_cat_alarms_prev14d = df.loc[:,'skew_equipment_alarms_prev14d': 'skew_temperature_alarms_prev14d']\n",
        "kurt_cat_alarms_prev14d = df.loc[:,'kurt_equipment_alarms_prev14d': 'kurt_temperature_alarms_prev14d']\n",
        "skwurt = pd.concat([skew_cat_alarms_prev14d,kurt_cat_alarms_prev14d],axis=1)### Skewness and kurt together"
      ],
      "execution_count": 12,
      "outputs": []
    },
    {
      "cell_type": "code",
      "metadata": {
        "id": "NePuTNHzCaxU"
      },
      "source": [
        "# Concatinate all numerical data\r\n",
        "all_numerical_df = pd.concat([sorted_numerical_df, sorted_sum_alarm_df,sorted_persistance_df,skwurt],axis=1)"
      ],
      "execution_count": 13,
      "outputs": []
    },
    {
      "cell_type": "code",
      "metadata": {
        "colab": {
          "base_uri": "https://localhost:8080/"
        },
        "id": "VpP734h1bSZW",
        "outputId": "7b6329b6-ef53-4b6b-9cc0-7eb4ea10c10e"
      },
      "source": [
        "mean, std = all_numerical_df.mean() , all_numerical_df.std()\r\n",
        "lower, upper = mean - 3*std, mean + 3*std\r\n",
        "print(lower)\r\n"
      ],
      "execution_count": 15,
      "outputs": [
        {
          "output_type": "stream",
          "text": [
            "min_humidity_prev7d                20.313686\n",
            "min_humidity_prev3d                22.240948\n",
            "min_humidity_f_next7d              20.227553\n",
            "min_humidity_f_next14d             19.172805\n",
            "mean_humidity_prev7d               31.606389\n",
            "                                     ...    \n",
            "kurt_equipment_alarms_prev14d      -2.313809\n",
            "kurt_fire/smoke_alarms_prev14d     -1.430983\n",
            "kurt_ge_alarms_prev14d             -1.683278\n",
            "kurt_power_alarms_prev14d          -4.136532\n",
            "kurt_temperature_alarms_prev14d    -1.697487\n",
            "Length: 115, dtype: float64\n"
          ],
          "name": "stdout"
        }
      ]
    },
    {
      "cell_type": "code",
      "metadata": {
        "colab": {
          "base_uri": "https://localhost:8080/"
        },
        "id": "Uy7ISD99cAN0",
        "outputId": "6596897b-e4c6-4068-9a3c-424233b0e1da"
      },
      "source": [
        "print(upper)"
      ],
      "execution_count": 16,
      "outputs": [
        {
          "output_type": "stream",
          "text": [
            "min_humidity_prev7d                 93.101467\n",
            "min_humidity_prev3d                100.261054\n",
            "min_humidity_f_next7d               93.305703\n",
            "min_humidity_f_next14d              87.603129\n",
            "mean_humidity_prev7d               101.686492\n",
            "                                      ...    \n",
            "kurt_equipment_alarms_prev14d       -0.061152\n",
            "kurt_fire/smoke_alarms_prev14d      -0.983148\n",
            "kurt_ge_alarms_prev14d              -0.727987\n",
            "kurt_power_alarms_prev14d            1.817955\n",
            "kurt_temperature_alarms_prev14d     -0.695920\n",
            "Length: 115, dtype: float64\n"
          ],
          "name": "stdout"
        }
      ]
    },
    {
      "cell_type": "code",
      "metadata": {
        "id": "Tg-HWF5my2Z8"
      },
      "source": [
        "sorted_sum_alarm_df.hist(figsize = (60,60))\n",
        "sorted_persistance_df.hist(figsize = (60,60))\n",
        "skwurt.hist(figsize = (60,60))"
      ],
      "execution_count": null,
      "outputs": []
    },
    {
      "cell_type": "code",
      "metadata": {
        "id": "BboqG3-v_qi3"
      },
      "source": [
        "#check how many columns includes outlier with std method\r\n",
        "print_clean_col_std(all_numerical_df)"
      ],
      "execution_count": null,
      "outputs": []
    },
    {
      "cell_type": "code",
      "metadata": {
        "id": "jAFFr2RHDgIw"
      },
      "source": [
        "#check how many columns includes outlier with iqr method\r\n",
        "print_clean_col_iqr(all_numerical_df)"
      ],
      "execution_count": null,
      "outputs": []
    },
    {
      "cell_type": "code",
      "metadata": {
        "id": "z16Qcr0AvFRt"
      },
      "source": [
        "# transform original data\r\n",
        "transform_all_numerical_df_np = power_transform(all_numerical_df, method = 'yeo-johnson', standardize=False )"
      ],
      "execution_count": 18,
      "outputs": []
    },
    {
      "cell_type": "markdown",
      "metadata": {
        "id": "xWQofmhay2Z9"
      },
      "source": [
        "after the transformation we get a numpy array we need to convert it again to a data frame"
      ]
    },
    {
      "cell_type": "code",
      "metadata": {
        "id": "xJGVDrMLTQ5R"
      },
      "source": [
        "transform_all_numerical_df = pd.DataFrame(transform_all_numerical_df_np, columns = all_numerical_df.columns)"
      ],
      "execution_count": 22,
      "outputs": []
    },
    {
      "cell_type": "code",
      "metadata": {
        "colab": {
          "base_uri": "https://localhost:8080/"
        },
        "id": "4gHMZUY4cUcU",
        "outputId": "27a53e59-6c1a-4369-ad01-e0c6468572bd"
      },
      "source": [
        "mean, std = transform_all_numerical_df.mean() , transform_all_numerical_df.std()\r\n",
        "lower, upper = mean - 3*std, mean + 3*std\r\n",
        "print(lower)\r\n"
      ],
      "execution_count": 23,
      "outputs": [
        {
          "output_type": "stream",
          "text": [
            "min_humidity_prev7d                 25.558898\n",
            "min_humidity_prev3d                 31.934455\n",
            "min_humidity_f_next7d               25.869959\n",
            "min_humidity_f_next14d              22.466496\n",
            "mean_humidity_prev7d              -120.475175\n",
            "                                      ...    \n",
            "kurt_equipment_alarms_prev14d     -139.724929\n",
            "kurt_fire/smoke_alarms_prev14d    -718.219408\n",
            "kurt_ge_alarms_prev14d            -896.558514\n",
            "kurt_power_alarms_prev14d         -243.114661\n",
            "kurt_temperature_alarms_prev14d   -146.167063\n",
            "Length: 115, dtype: float64\n"
          ],
          "name": "stdout"
        }
      ]
    },
    {
      "cell_type": "code",
      "metadata": {
        "colab": {
          "base_uri": "https://localhost:8080/"
        },
        "id": "8SBrcylicUcX",
        "outputId": "7f77b67b-c13a-4c30-d0a7-59c6b4882edc"
      },
      "source": [
        "print(upper)"
      ],
      "execution_count": 24,
      "outputs": [
        {
          "output_type": "stream",
          "text": [
            "min_humidity_prev7d                 568.182152\n",
            "min_humidity_prev3d                 573.097219\n",
            "min_humidity_f_next7d               535.696723\n",
            "min_humidity_f_next14d              563.119699\n",
            "mean_humidity_prev7d               8616.514649\n",
            "                                      ...     \n",
            "kurt_equipment_alarms_prev14d       -31.915265\n",
            "kurt_fire/smoke_alarms_prev14d     -318.835115\n",
            "kurt_ge_alarms_prev14d             -335.001100\n",
            "kurt_power_alarms_prev14d           -35.541677\n",
            "kurt_temperature_alarms_prev14d     -36.251730\n",
            "Length: 115, dtype: float64\n"
          ],
          "name": "stdout"
        }
      ]
    },
    {
      "cell_type": "code",
      "metadata": {
        "id": "jA_Tm1T3y2Z-"
      },
      "source": [
        "transform_all_numerical_df.hist(figsize=(60,60))"
      ],
      "execution_count": null,
      "outputs": []
    },
    {
      "cell_type": "code",
      "metadata": {
        "id": "YnJ5xxt9SPSw"
      },
      "source": [
        "# all_numerical_df_mean = all_numerical_df.mean()\n",
        "# all_numerical_df_std = all_numerical_df.std()"
      ],
      "execution_count": null,
      "outputs": []
    },
    {
      "cell_type": "code",
      "metadata": {
        "id": "ru7LFNQnRa85"
      },
      "source": [
        "##replace outliers with std method\r\n",
        "all_numerical_df_without_outlier = replace_outliers_std(transform_all_numerical_df, all_numerical_df)"
      ],
      "execution_count": 60,
      "outputs": []
    },
    {
      "cell_type": "code",
      "metadata": {
        "id": "XmHtuK_yZEsr"
      },
      "source": [
        "#check if there is any outlier afer executing the function\r\n",
        "print_clean_col_std(all_numerical_df_without_outlier)"
      ],
      "execution_count": null,
      "outputs": []
    },
    {
      "cell_type": "code",
      "metadata": {
        "id": "TXcrW07lOcZV"
      },
      "source": [
        "##replace outliers with iqr method\r\n",
        "all_numerical_df_without_outlier = replace_outliers_iqr(transform_all_numerical_df, all_numerical_df)"
      ],
      "execution_count": null,
      "outputs": []
    },
    {
      "cell_type": "code",
      "metadata": {
        "colab": {
          "base_uri": "https://localhost:8080/"
        },
        "id": "4QssTPPWSky5",
        "outputId": "5c3a2d78-a5fa-491c-d4cd-794cc0ce0811"
      },
      "source": [
        "print_clean_col(all_numerical_df_np)"
      ],
      "execution_count": null,
      "outputs": [
        {
          "output_type": "stream",
          "text": [
            "the number of cleaned columns are  115\n"
          ],
          "name": "stdout"
        }
      ]
    },
    {
      "cell_type": "code",
      "metadata": {
        "id": "iUbQ9zTuy2aA"
      },
      "source": [
        "#Sort alarm's correlated columns \n",
        "sorted_sum_alarm_df = all_numerical_df.loc[: , 'temperature_sum_alarms_prev7d':'equipment_sum_alarms_prev14d' ]\n",
        "# sorted_sum_alarm_df = sorted_sum_alarm_df.reindex(sorted(sorted_sum_alarm_df.columns, reverse=False), axis=1)## alarms\n",
        "\n",
        "#Sort persistance's correlated columns\n",
        "sorted_persistance_df = all_numerical_df.loc[:, 'temperature_min_persistance_prev7d': 'equipment_max_persistance_prev3d']\n",
        "# sorted_persistance_df = sorted_persistance_df.reindex(sorted(sorted_persistance_df.columns, reverse=False), axis=1)## persistance\n",
        "\n",
        "\n",
        "#sort Numerical's  columns \n",
        "sorted_numerical_df = all_numerical_df.loc[: , 'min_humidity_prev7d':'max_wind_speed_f_next14d']## Numerical\n",
        "# sorted_numerical_df = sorted_m3_numerical_values(sorted_numerical_df, False) \n",
        "\n",
        "#Skewness and Kurt\n",
        "skew_cat_alarms_prev14d = all_numerical_df.loc[:,'skew_equipment_alarms_prev14d': 'skew_temperature_alarms_prev14d']\n",
        "kurt_cat_alarms_prev14d = all_numerical_df.loc[:,'kurt_equipment_alarms_prev14d': 'kurt_temperature_alarms_prev14d']\n",
        "skwurt = pd.concat([skew_cat_alarms_prev14d,kurt_cat_alarms_prev14d],axis=1)### Skewness and kurt together"
      ],
      "execution_count": null,
      "outputs": []
    }
  ]
}